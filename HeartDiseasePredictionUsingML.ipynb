{
 "cells": [
  {
   "cell_type": "code",
   "execution_count": 3,
   "id": "exotic-morning",
   "metadata": {},
   "outputs": [
    {
     "data": {
      "text/html": [
       "<div>\n",
       "<style scoped>\n",
       "    .dataframe tbody tr th:only-of-type {\n",
       "        vertical-align: middle;\n",
       "    }\n",
       "\n",
       "    .dataframe tbody tr th {\n",
       "        vertical-align: top;\n",
       "    }\n",
       "\n",
       "    .dataframe thead th {\n",
       "        text-align: right;\n",
       "    }\n",
       "</style>\n",
       "<table border=\"1\" class=\"dataframe\">\n",
       "  <thead>\n",
       "    <tr style=\"text-align: right;\">\n",
       "      <th></th>\n",
       "      <th>id</th>\n",
       "      <th>age</th>\n",
       "      <th>gender</th>\n",
       "      <th>height</th>\n",
       "      <th>weight</th>\n",
       "      <th>ap_hi</th>\n",
       "      <th>ap_lo</th>\n",
       "      <th>cholesterol</th>\n",
       "      <th>gluc</th>\n",
       "      <th>smoke</th>\n",
       "      <th>alco</th>\n",
       "      <th>active</th>\n",
       "      <th>cardio</th>\n",
       "    </tr>\n",
       "  </thead>\n",
       "  <tbody>\n",
       "    <tr>\n",
       "      <th>0</th>\n",
       "      <td>0</td>\n",
       "      <td>18393</td>\n",
       "      <td>2</td>\n",
       "      <td>168</td>\n",
       "      <td>62.0</td>\n",
       "      <td>110</td>\n",
       "      <td>80</td>\n",
       "      <td>1</td>\n",
       "      <td>1</td>\n",
       "      <td>0</td>\n",
       "      <td>0</td>\n",
       "      <td>1</td>\n",
       "      <td>0</td>\n",
       "    </tr>\n",
       "    <tr>\n",
       "      <th>1</th>\n",
       "      <td>1</td>\n",
       "      <td>20228</td>\n",
       "      <td>1</td>\n",
       "      <td>156</td>\n",
       "      <td>85.0</td>\n",
       "      <td>140</td>\n",
       "      <td>90</td>\n",
       "      <td>3</td>\n",
       "      <td>1</td>\n",
       "      <td>0</td>\n",
       "      <td>0</td>\n",
       "      <td>1</td>\n",
       "      <td>1</td>\n",
       "    </tr>\n",
       "    <tr>\n",
       "      <th>2</th>\n",
       "      <td>2</td>\n",
       "      <td>18857</td>\n",
       "      <td>1</td>\n",
       "      <td>165</td>\n",
       "      <td>64.0</td>\n",
       "      <td>130</td>\n",
       "      <td>70</td>\n",
       "      <td>3</td>\n",
       "      <td>1</td>\n",
       "      <td>0</td>\n",
       "      <td>0</td>\n",
       "      <td>0</td>\n",
       "      <td>1</td>\n",
       "    </tr>\n",
       "    <tr>\n",
       "      <th>3</th>\n",
       "      <td>3</td>\n",
       "      <td>17623</td>\n",
       "      <td>2</td>\n",
       "      <td>169</td>\n",
       "      <td>82.0</td>\n",
       "      <td>150</td>\n",
       "      <td>100</td>\n",
       "      <td>1</td>\n",
       "      <td>1</td>\n",
       "      <td>0</td>\n",
       "      <td>0</td>\n",
       "      <td>1</td>\n",
       "      <td>1</td>\n",
       "    </tr>\n",
       "    <tr>\n",
       "      <th>4</th>\n",
       "      <td>4</td>\n",
       "      <td>17474</td>\n",
       "      <td>1</td>\n",
       "      <td>156</td>\n",
       "      <td>56.0</td>\n",
       "      <td>100</td>\n",
       "      <td>60</td>\n",
       "      <td>1</td>\n",
       "      <td>1</td>\n",
       "      <td>0</td>\n",
       "      <td>0</td>\n",
       "      <td>0</td>\n",
       "      <td>0</td>\n",
       "    </tr>\n",
       "  </tbody>\n",
       "</table>\n",
       "</div>"
      ],
      "text/plain": [
       "   id    age  gender  height  weight  ap_hi  ap_lo  cholesterol  gluc  smoke  \\\n",
       "0   0  18393       2     168    62.0    110     80            1     1      0   \n",
       "1   1  20228       1     156    85.0    140     90            3     1      0   \n",
       "2   2  18857       1     165    64.0    130     70            3     1      0   \n",
       "3   3  17623       2     169    82.0    150    100            1     1      0   \n",
       "4   4  17474       1     156    56.0    100     60            1     1      0   \n",
       "\n",
       "   alco  active  cardio  \n",
       "0     0       1       0  \n",
       "1     0       1       1  \n",
       "2     0       0       1  \n",
       "3     0       1       1  \n",
       "4     0       0       0  "
      ]
     },
     "execution_count": 3,
     "metadata": {},
     "output_type": "execute_result"
    }
   ],
   "source": [
    "data = pd.read_csv(\"F:\\OLD PC\\Machine Learning project\\cardio_train.csv\" , \";\")\n",
    "\n",
    "data.head()\n"
   ]
  },
  {
   "cell_type": "code",
   "execution_count": 2,
   "id": "given-karma",
   "metadata": {},
   "outputs": [],
   "source": [
    "import pandas as pd\n",
    "import numpy as np\n",
    "import seaborn as sns\n",
    "from matplotlib import pyplot as plt"
   ]
  },
  {
   "cell_type": "markdown",
   "id": "wooden-specific",
   "metadata": {},
   "source": [
    "# Checking for -ve values---> Luckily no -ve values found"
   ]
  },
  {
   "cell_type": "code",
   "execution_count": 4,
   "id": "falling-grocery",
   "metadata": {},
   "outputs": [
    {
     "name": "stdout",
     "output_type": "stream",
     "text": [
      "<class 'pandas.core.frame.DataFrame'>\n",
      "RangeIndex: 70000 entries, 0 to 69999\n",
      "Data columns (total 13 columns):\n",
      " #   Column       Non-Null Count  Dtype  \n",
      "---  ------       --------------  -----  \n",
      " 0   id           70000 non-null  int64  \n",
      " 1   age          70000 non-null  int64  \n",
      " 2   gender       70000 non-null  int64  \n",
      " 3   height       70000 non-null  int64  \n",
      " 4   weight       70000 non-null  float64\n",
      " 5   ap_hi        70000 non-null  int64  \n",
      " 6   ap_lo        70000 non-null  int64  \n",
      " 7   cholesterol  70000 non-null  int64  \n",
      " 8   gluc         70000 non-null  int64  \n",
      " 9   smoke        70000 non-null  int64  \n",
      " 10  alco         70000 non-null  int64  \n",
      " 11  active       70000 non-null  int64  \n",
      " 12  cardio       70000 non-null  int64  \n",
      "dtypes: float64(1), int64(12)\n",
      "memory usage: 6.9 MB\n"
     ]
    }
   ],
   "source": [
    "data.info()"
   ]
  },
  {
   "cell_type": "code",
   "execution_count": 5,
   "id": "small-booking",
   "metadata": {},
   "outputs": [
    {
     "data": {
      "text/plain": [
       "count    70000.000000\n",
       "mean         0.499700\n",
       "std          0.500003\n",
       "min          0.000000\n",
       "25%          0.000000\n",
       "50%          0.000000\n",
       "75%          1.000000\n",
       "max          1.000000\n",
       "Name: cardio, dtype: float64"
      ]
     },
     "execution_count": 5,
     "metadata": {},
     "output_type": "execute_result"
    }
   ],
   "source": [
    "data['cardio'].describe()"
   ]
  },
  {
   "cell_type": "code",
   "execution_count": 6,
   "id": "compatible-belgium",
   "metadata": {},
   "outputs": [
    {
     "data": {
      "text/html": [
       "<div>\n",
       "<style scoped>\n",
       "    .dataframe tbody tr th:only-of-type {\n",
       "        vertical-align: middle;\n",
       "    }\n",
       "\n",
       "    .dataframe tbody tr th {\n",
       "        vertical-align: top;\n",
       "    }\n",
       "\n",
       "    .dataframe thead th {\n",
       "        text-align: right;\n",
       "    }\n",
       "</style>\n",
       "<table border=\"1\" class=\"dataframe\">\n",
       "  <thead>\n",
       "    <tr style=\"text-align: right;\">\n",
       "      <th></th>\n",
       "      <th>id</th>\n",
       "      <th>age</th>\n",
       "      <th>gender</th>\n",
       "      <th>height</th>\n",
       "      <th>weight</th>\n",
       "      <th>ap_hi</th>\n",
       "      <th>ap_lo</th>\n",
       "      <th>cholesterol</th>\n",
       "      <th>gluc</th>\n",
       "      <th>smoke</th>\n",
       "      <th>alco</th>\n",
       "      <th>active</th>\n",
       "      <th>cardio</th>\n",
       "    </tr>\n",
       "  </thead>\n",
       "  <tbody>\n",
       "    <tr>\n",
       "      <th>count</th>\n",
       "      <td>70000.000000</td>\n",
       "      <td>70000.000000</td>\n",
       "      <td>70000.000000</td>\n",
       "      <td>70000.000000</td>\n",
       "      <td>70000.000000</td>\n",
       "      <td>70000.000000</td>\n",
       "      <td>70000.000000</td>\n",
       "      <td>70000.000000</td>\n",
       "      <td>70000.000000</td>\n",
       "      <td>70000.000000</td>\n",
       "      <td>70000.000000</td>\n",
       "      <td>70000.000000</td>\n",
       "      <td>70000.000000</td>\n",
       "    </tr>\n",
       "    <tr>\n",
       "      <th>mean</th>\n",
       "      <td>49972.419900</td>\n",
       "      <td>19468.865814</td>\n",
       "      <td>1.349571</td>\n",
       "      <td>164.359229</td>\n",
       "      <td>74.205690</td>\n",
       "      <td>128.817286</td>\n",
       "      <td>96.630414</td>\n",
       "      <td>1.366871</td>\n",
       "      <td>1.226457</td>\n",
       "      <td>0.088129</td>\n",
       "      <td>0.053771</td>\n",
       "      <td>0.803729</td>\n",
       "      <td>0.499700</td>\n",
       "    </tr>\n",
       "    <tr>\n",
       "      <th>std</th>\n",
       "      <td>28851.302323</td>\n",
       "      <td>2467.251667</td>\n",
       "      <td>0.476838</td>\n",
       "      <td>8.210126</td>\n",
       "      <td>14.395757</td>\n",
       "      <td>154.011419</td>\n",
       "      <td>188.472530</td>\n",
       "      <td>0.680250</td>\n",
       "      <td>0.572270</td>\n",
       "      <td>0.283484</td>\n",
       "      <td>0.225568</td>\n",
       "      <td>0.397179</td>\n",
       "      <td>0.500003</td>\n",
       "    </tr>\n",
       "    <tr>\n",
       "      <th>min</th>\n",
       "      <td>0.000000</td>\n",
       "      <td>10798.000000</td>\n",
       "      <td>1.000000</td>\n",
       "      <td>55.000000</td>\n",
       "      <td>10.000000</td>\n",
       "      <td>-150.000000</td>\n",
       "      <td>-70.000000</td>\n",
       "      <td>1.000000</td>\n",
       "      <td>1.000000</td>\n",
       "      <td>0.000000</td>\n",
       "      <td>0.000000</td>\n",
       "      <td>0.000000</td>\n",
       "      <td>0.000000</td>\n",
       "    </tr>\n",
       "    <tr>\n",
       "      <th>25%</th>\n",
       "      <td>25006.750000</td>\n",
       "      <td>17664.000000</td>\n",
       "      <td>1.000000</td>\n",
       "      <td>159.000000</td>\n",
       "      <td>65.000000</td>\n",
       "      <td>120.000000</td>\n",
       "      <td>80.000000</td>\n",
       "      <td>1.000000</td>\n",
       "      <td>1.000000</td>\n",
       "      <td>0.000000</td>\n",
       "      <td>0.000000</td>\n",
       "      <td>1.000000</td>\n",
       "      <td>0.000000</td>\n",
       "    </tr>\n",
       "    <tr>\n",
       "      <th>50%</th>\n",
       "      <td>50001.500000</td>\n",
       "      <td>19703.000000</td>\n",
       "      <td>1.000000</td>\n",
       "      <td>165.000000</td>\n",
       "      <td>72.000000</td>\n",
       "      <td>120.000000</td>\n",
       "      <td>80.000000</td>\n",
       "      <td>1.000000</td>\n",
       "      <td>1.000000</td>\n",
       "      <td>0.000000</td>\n",
       "      <td>0.000000</td>\n",
       "      <td>1.000000</td>\n",
       "      <td>0.000000</td>\n",
       "    </tr>\n",
       "    <tr>\n",
       "      <th>75%</th>\n",
       "      <td>74889.250000</td>\n",
       "      <td>21327.000000</td>\n",
       "      <td>2.000000</td>\n",
       "      <td>170.000000</td>\n",
       "      <td>82.000000</td>\n",
       "      <td>140.000000</td>\n",
       "      <td>90.000000</td>\n",
       "      <td>2.000000</td>\n",
       "      <td>1.000000</td>\n",
       "      <td>0.000000</td>\n",
       "      <td>0.000000</td>\n",
       "      <td>1.000000</td>\n",
       "      <td>1.000000</td>\n",
       "    </tr>\n",
       "    <tr>\n",
       "      <th>max</th>\n",
       "      <td>99999.000000</td>\n",
       "      <td>23713.000000</td>\n",
       "      <td>2.000000</td>\n",
       "      <td>250.000000</td>\n",
       "      <td>200.000000</td>\n",
       "      <td>16020.000000</td>\n",
       "      <td>11000.000000</td>\n",
       "      <td>3.000000</td>\n",
       "      <td>3.000000</td>\n",
       "      <td>1.000000</td>\n",
       "      <td>1.000000</td>\n",
       "      <td>1.000000</td>\n",
       "      <td>1.000000</td>\n",
       "    </tr>\n",
       "  </tbody>\n",
       "</table>\n",
       "</div>"
      ],
      "text/plain": [
       "                 id           age        gender        height        weight  \\\n",
       "count  70000.000000  70000.000000  70000.000000  70000.000000  70000.000000   \n",
       "mean   49972.419900  19468.865814      1.349571    164.359229     74.205690   \n",
       "std    28851.302323   2467.251667      0.476838      8.210126     14.395757   \n",
       "min        0.000000  10798.000000      1.000000     55.000000     10.000000   \n",
       "25%    25006.750000  17664.000000      1.000000    159.000000     65.000000   \n",
       "50%    50001.500000  19703.000000      1.000000    165.000000     72.000000   \n",
       "75%    74889.250000  21327.000000      2.000000    170.000000     82.000000   \n",
       "max    99999.000000  23713.000000      2.000000    250.000000    200.000000   \n",
       "\n",
       "              ap_hi         ap_lo   cholesterol          gluc         smoke  \\\n",
       "count  70000.000000  70000.000000  70000.000000  70000.000000  70000.000000   \n",
       "mean     128.817286     96.630414      1.366871      1.226457      0.088129   \n",
       "std      154.011419    188.472530      0.680250      0.572270      0.283484   \n",
       "min     -150.000000    -70.000000      1.000000      1.000000      0.000000   \n",
       "25%      120.000000     80.000000      1.000000      1.000000      0.000000   \n",
       "50%      120.000000     80.000000      1.000000      1.000000      0.000000   \n",
       "75%      140.000000     90.000000      2.000000      1.000000      0.000000   \n",
       "max    16020.000000  11000.000000      3.000000      3.000000      1.000000   \n",
       "\n",
       "               alco        active        cardio  \n",
       "count  70000.000000  70000.000000  70000.000000  \n",
       "mean       0.053771      0.803729      0.499700  \n",
       "std        0.225568      0.397179      0.500003  \n",
       "min        0.000000      0.000000      0.000000  \n",
       "25%        0.000000      1.000000      0.000000  \n",
       "50%        0.000000      1.000000      0.000000  \n",
       "75%        0.000000      1.000000      1.000000  \n",
       "max        1.000000      1.000000      1.000000  "
      ]
     },
     "execution_count": 6,
     "metadata": {},
     "output_type": "execute_result"
    }
   ],
   "source": [
    "data.describe()"
   ]
  },
  {
   "cell_type": "code",
   "execution_count": 7,
   "id": "civilian-findings",
   "metadata": {
    "scrolled": true
   },
   "outputs": [
    {
     "name": "stdout",
     "output_type": "stream",
     "text": [
      "<class 'pandas.core.frame.DataFrame'>\n",
      "RangeIndex: 70000 entries, 0 to 69999\n",
      "Data columns (total 13 columns):\n",
      " #   Column       Non-Null Count  Dtype  \n",
      "---  ------       --------------  -----  \n",
      " 0   id           70000 non-null  int64  \n",
      " 1   age          70000 non-null  int64  \n",
      " 2   gender       70000 non-null  int64  \n",
      " 3   height       70000 non-null  int64  \n",
      " 4   weight       70000 non-null  float64\n",
      " 5   ap_hi        70000 non-null  int64  \n",
      " 6   ap_lo        70000 non-null  int64  \n",
      " 7   cholesterol  70000 non-null  int64  \n",
      " 8   gluc         70000 non-null  int64  \n",
      " 9   smoke        70000 non-null  int64  \n",
      " 10  alco         70000 non-null  int64  \n",
      " 11  active       70000 non-null  int64  \n",
      " 12  cardio       70000 non-null  int64  \n",
      "dtypes: float64(1), int64(12)\n",
      "memory usage: 6.9 MB\n"
     ]
    }
   ],
   "source": [
    "data.info()"
   ]
  },
  {
   "cell_type": "markdown",
   "id": "written-participation",
   "metadata": {},
   "source": [
    "# Exploratory Data Analysis(EDA)"
   ]
  },
  {
   "cell_type": "code",
   "execution_count": 8,
   "id": "compatible-maine",
   "metadata": {},
   "outputs": [
    {
     "data": {
      "text/plain": [
       "array([0, 1], dtype=int64)"
      ]
     },
     "execution_count": 8,
     "metadata": {},
     "output_type": "execute_result"
    }
   ],
   "source": [
    "data['cardio'].unique()"
   ]
  },
  {
   "cell_type": "code",
   "execution_count": 9,
   "id": "decimal-funds",
   "metadata": {},
   "outputs": [
    {
     "name": "stdout",
     "output_type": "stream",
     "text": [
      "cardio         1.000000\n",
      "age            0.238159\n",
      "cholesterol    0.221147\n",
      "weight         0.181660\n",
      "gluc           0.089307\n",
      "ap_lo          0.065719\n",
      "ap_hi          0.054475\n",
      "active         0.035653\n",
      "smoke          0.015486\n",
      "height         0.010821\n",
      "gender         0.008109\n",
      "alco           0.007330\n",
      "id             0.003799\n",
      "Name: cardio, dtype: float64\n"
     ]
    }
   ],
   "source": [
    "print(data.corr()['cardio'].abs().sort_values(ascending = False))"
   ]
  },
  {
   "cell_type": "code",
   "execution_count": 10,
   "id": "right-conditioning",
   "metadata": {},
   "outputs": [
    {
     "name": "stdout",
     "output_type": "stream",
     "text": [
      "0    35021\n",
      "1    34979\n",
      "Name: cardio, dtype: int64\n"
     ]
    },
    {
     "name": "stderr",
     "output_type": "stream",
     "text": [
      "C:\\Users\\HP\\AppData\\Roaming\\Python\\Python38\\site-packages\\seaborn\\_decorators.py:36: FutureWarning: Pass the following variable as a keyword arg: x. From version 0.12, the only valid positional argument will be `data`, and passing other arguments without an explicit keyword will result in an error or misinterpretation.\n",
      "  warnings.warn(\n"
     ]
    },
    {
     "data": {
      "image/png": "[encoded data removed]",
      "text/plain": [
       "<Figure size 432x288 with 1 Axes>"
      ]
     },
     "metadata": {
      "needs_background": "light"
     },
     "output_type": "display_data"
    }
   ],
   "source": [
    "y = data['cardio']\n",
    "\n",
    "sns.countplot(y)\n",
    "cardio_count = data.cardio.value_counts()\n",
    "print(cardio_count)"
   ]
  },
  {
   "cell_type": "code",
   "execution_count": 11,
   "id": "vertical-stand",
   "metadata": {},
   "outputs": [
    {
     "name": "stdout",
     "output_type": "stream",
     "text": [
      "percentage of population without heart disease -->50.03\n",
      "percentage of population with heart disease-->49.97\n"
     ]
    }
   ],
   "source": [
    "print(\"percentage of population without heart disease -->\" +str(round(cardio_count[0]*100/70000,2)))\n",
    "print(\"percentage of population with heart disease-->\" +str(round(cardio_count[1]*100/70000,2)))\n"
   ]
  },
  {
   "cell_type": "code",
   "execution_count": 12,
   "id": "figured-mississippi",
   "metadata": {},
   "outputs": [
    {
     "data": {
      "text/plain": [
       "array([2, 1], dtype=int64)"
      ]
     },
     "execution_count": 12,
     "metadata": {},
     "output_type": "execute_result"
    }
   ],
   "source": [
    "data['gender'].unique()"
   ]
  },
  {
   "cell_type": "code",
   "execution_count": 13,
   "id": "caring-impossible",
   "metadata": {
    "scrolled": true
   },
   "outputs": [
    {
     "name": "stderr",
     "output_type": "stream",
     "text": [
      "C:\\Users\\HP\\AppData\\Roaming\\Python\\Python38\\site-packages\\seaborn\\_decorators.py:36: FutureWarning: Pass the following variables as keyword args: x, y. From version 0.12, the only valid positional argument will be `data`, and passing other arguments without an explicit keyword will result in an error or misinterpretation.\n",
      "  warnings.warn(\n"
     ]
    },
    {
     "data": {
      "text/plain": [
       "<AxesSubplot:xlabel='gender', ylabel='cardio'>"
      ]
     },
     "execution_count": 13,
     "metadata": {},
     "output_type": "execute_result"
    },
    {
     "data": {
      "image/png": "[encoded data removed]",
      "text/plain": [
       "<Figure size 432x288 with 1 Axes>"
      ]
     },
     "metadata": {
      "needs_background": "light"
     },
     "output_type": "display_data"
    }
   ],
   "source": [
    "sns.barplot(data['gender'],y)"
   ]
  },
  {
   "cell_type": "code",
   "execution_count": 14,
   "id": "personal-rhythm",
   "metadata": {},
   "outputs": [],
   "source": [
    "data['gender'] = data['gender'] - 1 # changing gender values to 0's and 1's"
   ]
  },
  {
   "cell_type": "code",
   "execution_count": 15,
   "id": "seasonal-syracuse",
   "metadata": {},
   "outputs": [],
   "source": [
    "data['cholesterol'] = data['cholesterol'] - 1 # changing values to 0's , 1's and 2's\n",
    "data['gluc'] = data['gluc'] - 1 # changing vlaues to 0's and 1's"
   ]
  },
  {
   "cell_type": "code",
   "execution_count": 16,
   "id": "chemical-instruction",
   "metadata": {},
   "outputs": [
    {
     "name": "stdout",
     "output_type": "stream",
     "text": [
      "[250, 55]\n"
     ]
    }
   ],
   "source": [
    "range = [data['height'].unique().max(),data['height'].unique().min()]\n",
    "print(range)"
   ]
  },
  {
   "cell_type": "code",
   "execution_count": 17,
   "id": "proper-honduras",
   "metadata": {},
   "outputs": [
    {
     "name": "stderr",
     "output_type": "stream",
     "text": [
      "C:\\Users\\HP\\AppData\\Roaming\\Python\\Python38\\site-packages\\seaborn\\_decorators.py:36: FutureWarning: Pass the following variables as keyword args: x, y. From version 0.12, the only valid positional argument will be `data`, and passing other arguments without an explicit keyword will result in an error or misinterpretation.\n",
      "  warnings.warn(\n"
     ]
    },
    {
     "data": {
      "text/plain": [
       "<AxesSubplot:xlabel='height', ylabel='cardio'>"
      ]
     },
     "execution_count": 17,
     "metadata": {},
     "output_type": "execute_result"
    },
    {
     "data": {
      "image/png": "[encoded data removed]",
      "text/plain": [
       "<Figure size 432x288 with 1 Axes>"
      ]
     },
     "metadata": {
      "needs_background": "light"
     },
     "output_type": "display_data"
    }
   ],
   "source": [
    "sns.barplot(data['height'] , y)"
   ]
  },
  {
   "cell_type": "code",
   "execution_count": 18,
   "id": "spanish-credits",
   "metadata": {},
   "outputs": [
    {
     "name": "stdout",
     "output_type": "stream",
     "text": [
      "[200.0, 10.0]\n"
     ]
    }
   ],
   "source": [
    "range = [data['weight'].unique().max(),data['weight'].unique().min()]\n",
    "print(range)"
   ]
  },
  {
   "cell_type": "code",
   "execution_count": 19,
   "id": "stuffed-anthropology",
   "metadata": {},
   "outputs": [
    {
     "name": "stderr",
     "output_type": "stream",
     "text": [
      "C:\\Users\\HP\\AppData\\Roaming\\Python\\Python38\\site-packages\\seaborn\\_decorators.py:36: FutureWarning: Pass the following variables as keyword args: x, y. From version 0.12, the only valid positional argument will be `data`, and passing other arguments without an explicit keyword will result in an error or misinterpretation.\n",
      "  warnings.warn(\n"
     ]
    },
    {
     "data": {
      "text/plain": [
       "<AxesSubplot:xlabel='weight', ylabel='cardio'>"
      ]
     },
     "execution_count": 19,
     "metadata": {},
     "output_type": "execute_result"
    },
    {
     "data": {
      "image/png": "[encoded data removed]",
      "text/plain": [
       "<Figure size 432x288 with 1 Axes>"
      ]
     },
     "metadata": {
      "needs_background": "light"
     },
     "output_type": "display_data"
    }
   ],
   "source": [
    "sns.barplot(data['weight'] , y)"
   ]
  },
  {
   "cell_type": "code",
   "execution_count": 20,
   "id": "ultimate-yellow",
   "metadata": {},
   "outputs": [
    {
     "name": "stdout",
     "output_type": "stream",
     "text": [
      "[ 10.    11.    21.    22.    23.    28.    29.    30.    31.    32.\n",
      "  33.    34.    35.    35.45  36.    37.    38.    39.    40.    41.\n",
      "  42.    42.2   43.    44.    45.    45.8   46.    47.    48.    49.\n",
      "  50.    50.5   50.7   51.    51.5   52.    52.3   53.    53.2   53.3\n",
      "  53.5   53.6   53.67  53.9   54.    54.35  54.5   54.9   55.    55.2\n",
      "  55.4   55.6   56.    56.2   57.    57.4   57.6   57.8   58.    58.5\n",
      "  58.7   58.8   59.    59.2   59.5   59.8   60.    60.1   60.2   60.5\n",
      "  60.6   61.    61.2   61.3   61.5   62.    62.2   62.3   62.4   62.5\n",
      "  62.7   63.    63.4   63.8   63.82  64.    64.1   64.3   64.5   64.7\n",
      "  64.8   65.    65.3   65.5   66.    66.3   66.4   66.5   67.    67.3\n",
      "  67.5   67.8   67.9   68.    68.2   68.3   68.4   68.5   68.9   69.\n",
      "  69.5   69.8   70.    70.2   70.3   70.5   70.7   70.8   71.    71.2\n",
      "  71.3   71.5   72.    72.1   72.5   72.8   73.    73.2   73.5   73.8\n",
      "  74.    74.2   74.3   74.5   74.77  75.    75.2   75.5   75.6   76.\n",
      "  76.5   76.7   76.8   77.    78.    78.2   78.5   79.    79.5   79.94\n",
      "  80.    80.5   80.6   80.7   80.8   81.    81.1   82.    82.1   82.3\n",
      "  82.4   82.5   82.9   83.    83.5   83.6   84.    84.3   84.5   84.6\n",
      "  84.7   84.8   84.9   85.    85.5   86.    86.5   87.    88.    88.5\n",
      "  89.    89.1   89.5   89.9   90.    90.5   90.7   91.    92.    92.2\n",
      "  93.    94.    94.5   94.7   95.    96.    96.5   97.    98.    99.\n",
      "  99.9  100.   101.   102.   103.   104.   105.   105.5  106.   106.4\n",
      " 106.5  107.   108.   109.   109.5  109.7  110.   111.   112.   113.\n",
      " 114.   114.6  115.   116.   117.   118.   119.   120.   121.   121.3\n",
      " 121.8  122.   123.   124.   125.   126.   127.   128.   129.   130.\n",
      " 131.   132.   133.   134.   135.   136.   137.   138.   139.   140.\n",
      " 141.   142.   143.   144.   145.   146.   147.   148.   149.   150.\n",
      " 152.   153.   154.   155.   156.   158.   159.   160.   161.   162.\n",
      " 163.   164.   165.   166.   167.   168.   169.   170.   171.   172.\n",
      " 175.   177.   178.   180.   181.   183.   200.  ]\n"
     ]
    }
   ],
   "source": [
    "print(np.sort(data['weight'].unique()))"
   ]
  },
  {
   "cell_type": "code",
   "execution_count": 21,
   "id": "hairy-scene",
   "metadata": {},
   "outputs": [],
   "source": [
    "idx = data[(data['weight'] < 30)].index\n",
    "data = data.drop(index = idx)"
   ]
  },
  {
   "cell_type": "code",
   "execution_count": 22,
   "id": "isolated-immigration",
   "metadata": {},
   "outputs": [
    {
     "data": {
      "text/plain": [
       "count    69993.000000\n",
       "mean        74.211054\n",
       "std         14.386312\n",
       "min         30.000000\n",
       "25%         65.000000\n",
       "50%         72.000000\n",
       "75%         82.000000\n",
       "max        200.000000\n",
       "Name: weight, dtype: float64"
      ]
     },
     "execution_count": 22,
     "metadata": {},
     "output_type": "execute_result"
    }
   ],
   "source": [
    "data['weight'].describe()"
   ]
  },
  {
   "cell_type": "code",
   "execution_count": 23,
   "id": "changing-mayor",
   "metadata": {},
   "outputs": [
    {
     "name": "stdout",
     "output_type": "stream",
     "text": [
      "[ -150  -140  -120  -115  -100     1     7    10    11    12    13    14\n",
      "    15    16    17    20    24    60    70    80    85    90    93    95\n",
      "    96    97    99   100   101   102   103   104   105   106   107   108\n",
      "   109   110   111   112   113   114   115   116   117   118   119   120\n",
      "   121   122   123   124   125   126   127   128   129   130   131   132\n",
      "   133   134   135   136   137   138   139   140   141   142   143   144\n",
      "   145   146   147   148   149   150   151   152   153   154   155   156\n",
      "   157   158   159   160   161   162   163   164   165   166   167   168\n",
      "   169   170   171   172   173   174   175   176   177   178   179   180\n",
      "   181   184   185   187   188   190   191   193   195   196   197   199\n",
      "   200   202   207   210   215   220   230   240   309   401   701   806\n",
      "   902   906   907   909   960  1110  1130  1202  1205  1300  1400  1409\n",
      "  1420  1500  1620  2000 11020 11500 13010 14020 16020]\n"
     ]
    }
   ],
   "source": [
    "print(np.sort(data['ap_hi'].unique()))"
   ]
  },
  {
   "cell_type": "markdown",
   "id": "solved-advocate",
   "metadata": {},
   "source": [
    "# bp columns  have extreme values which needs to be corrected "
   ]
  },
  {
   "cell_type": "code",
   "execution_count": 24,
   "id": "practical-national",
   "metadata": {},
   "outputs": [
    {
     "data": {
      "image/png": "[encoded data removed]",
      "text/plain": [
       "<Figure size 432x288 with 1 Axes>"
      ]
     },
     "metadata": {
      "needs_background": "light"
     },
     "output_type": "display_data"
    },
    {
     "data": {
      "image/png": "[encoded data removed]",
      "text/plain": [
       "<Figure size 432x288 with 1 Axes>"
      ]
     },
     "metadata": {
      "needs_background": "light"
     },
     "output_type": "display_data"
    }
   ],
   "source": [
    "bp_cols = ['ap_hi', 'ap_lo']\n",
    "for i in bp_cols:\n",
    "    sns.violinplot(x = data['cardio'],y = data[i])\n",
    "    plt.show()"
   ]
  },
  {
   "cell_type": "code",
   "execution_count": 25,
   "id": "complete-management",
   "metadata": {},
   "outputs": [],
   "source": [
    "idx = data[(data.ap_hi > 180)| (data.ap_lo > 150)].index\n",
    "data = data.drop(index=idx)"
   ]
  },
  {
   "cell_type": "markdown",
   "id": "patient-israel",
   "metadata": {},
   "source": [
    "# Drop smaples with -ve values :("
   ]
  },
  {
   "cell_type": "code",
   "execution_count": 26,
   "id": "alleged-tunisia",
   "metadata": {},
   "outputs": [],
   "source": [
    "idx = data[(data['ap_hi'] < 30) | (data['ap_lo'] < 30)].index\n",
    "data = data.drop(index = idx)"
   ]
  },
  {
   "cell_type": "code",
   "execution_count": 27,
   "id": "addressed-error",
   "metadata": {},
   "outputs": [],
   "source": [
    "idx = data[(data['ap_lo'] < 50) | (data['ap_hi'] < 80)].index\n",
    "data = data.drop(index = idx)"
   ]
  },
  {
   "cell_type": "code",
   "execution_count": 28,
   "id": "animal-lancaster",
   "metadata": {},
   "outputs": [],
   "source": [
    "# high value errors in height column of the dataset\n",
    "data['height'] = data['height']/30.48\n",
    "idx = data[(data['height'] < 4.5) | (data['height'] > 7)].index\n",
    "data = data.drop(index = idx)"
   ]
  },
  {
   "cell_type": "code",
   "execution_count": 29,
   "id": "minute-gauge",
   "metadata": {},
   "outputs": [
    {
     "name": "stdout",
     "output_type": "stream",
     "text": [
      "[ 80  85  90  93  95  96  97  99 100 101 102 103 104 105 106 107 108 109\n",
      " 110 111 112 113 114 115 116 117 118 119 120 121 122 123 124 125 126 127\n",
      " 128 129 130 131 132 133 134 135 136 137 138 139 140 141 142 143 144 145\n",
      " 146 147 148 149 150 151 152 153 154 155 156 157 158 159 160 161 162 163\n",
      " 164 165 166 167 168 169 170 171 172 173 174 175 176 177 178 179 180]\n"
     ]
    }
   ],
   "source": [
    "print(np.sort(data['ap_hi'].unique()))"
   ]
  },
  {
   "cell_type": "code",
   "execution_count": 30,
   "id": "virtual-manchester",
   "metadata": {},
   "outputs": [
    {
     "data": {
      "text/plain": [
       "count    68304.000000\n",
       "mean       126.338018\n",
       "std         16.095719\n",
       "min         80.000000\n",
       "25%        120.000000\n",
       "50%        120.000000\n",
       "75%        140.000000\n",
       "max        180.000000\n",
       "Name: ap_hi, dtype: float64"
      ]
     },
     "execution_count": 30,
     "metadata": {},
     "output_type": "execute_result"
    }
   ],
   "source": [
    "data['ap_hi'].describe()"
   ]
  },
  {
   "cell_type": "code",
   "execution_count": 31,
   "id": "cultural-vancouver",
   "metadata": {},
   "outputs": [
    {
     "name": "stdout",
     "output_type": "stream",
     "text": [
      "[ 50  52  53  54  55  56  57  58  59  60  61  62  63  64  65  66  67  68\n",
      "  69  70  71  72  73  74  75  76  77  78  79  80  81  82  83  84  85  86\n",
      "  87  88  89  90  91  92  93  94  95  96  97  98  99 100 101 102 103 104\n",
      " 105 106 107 108 109 110 111 112 113 114 115 119 120 121 125 126 130 135\n",
      " 140 150]\n"
     ]
    }
   ],
   "source": [
    "print(np.sort(data['ap_lo'].unique()))"
   ]
  },
  {
   "cell_type": "code",
   "execution_count": 32,
   "id": "practical-swimming",
   "metadata": {},
   "outputs": [
    {
     "name": "stdout",
     "output_type": "stream",
     "text": [
      "68304\n"
     ]
    }
   ],
   "source": [
    "print(data.shape[0])"
   ]
  },
  {
   "cell_type": "code",
   "execution_count": null,
   "id": "peaceful-michigan",
   "metadata": {},
   "outputs": [],
   "source": []
  },
  {
   "cell_type": "code",
   "execution_count": 33,
   "id": "understanding-caution",
   "metadata": {},
   "outputs": [
    {
     "data": {
      "text/plain": [
       "count    68304.000000\n",
       "mean        81.269223\n",
       "std          9.365402\n",
       "min         50.000000\n",
       "25%         80.000000\n",
       "50%         80.000000\n",
       "75%         90.000000\n",
       "max        150.000000\n",
       "Name: ap_lo, dtype: float64"
      ]
     },
     "execution_count": 33,
     "metadata": {},
     "output_type": "execute_result"
    }
   ],
   "source": [
    "data['ap_lo'].describe()"
   ]
  },
  {
   "cell_type": "code",
   "execution_count": 34,
   "id": "christian-combination",
   "metadata": {},
   "outputs": [
    {
     "data": {
      "text/plain": [
       "count    68304.000000\n",
       "mean         0.363522\n",
       "std          0.678215\n",
       "min          0.000000\n",
       "25%          0.000000\n",
       "50%          0.000000\n",
       "75%          0.000000\n",
       "max          2.000000\n",
       "Name: cholesterol, dtype: float64"
      ]
     },
     "execution_count": 34,
     "metadata": {},
     "output_type": "execute_result"
    }
   ],
   "source": [
    "data['cholesterol'].describe()"
   ]
  },
  {
   "cell_type": "code",
   "execution_count": 35,
   "id": "historic-problem",
   "metadata": {},
   "outputs": [
    {
     "name": "stdout",
     "output_type": "stream",
     "text": [
      "[0 2 1]\n"
     ]
    }
   ],
   "source": [
    "print(data['cholesterol'].unique())"
   ]
  },
  {
   "cell_type": "code",
   "execution_count": 36,
   "id": "scenic-fundamental",
   "metadata": {},
   "outputs": [
    {
     "name": "stdout",
     "output_type": "stream",
     "text": [
      "[0 1 2]\n"
     ]
    }
   ],
   "source": [
    "print(data['gluc'].unique())"
   ]
  },
  {
   "cell_type": "code",
   "execution_count": 37,
   "id": "characteristic-immune",
   "metadata": {},
   "outputs": [
    {
     "name": "stdout",
     "output_type": "stream",
     "text": [
      "[0 1]\n"
     ]
    }
   ],
   "source": [
    "print(data['alco'].unique())"
   ]
  },
  {
   "cell_type": "code",
   "execution_count": 38,
   "id": "bottom-suicide",
   "metadata": {},
   "outputs": [
    {
     "name": "stdout",
     "output_type": "stream",
     "text": [
      "[1 0]\n"
     ]
    }
   ],
   "source": [
    "print(data['active'].unique())"
   ]
  },
  {
   "cell_type": "code",
   "execution_count": 39,
   "id": "progressive-handbook",
   "metadata": {},
   "outputs": [],
   "source": [
    "data['age'] = round(data['age']/365)"
   ]
  },
  {
   "cell_type": "code",
   "execution_count": 40,
   "id": "intermediate-water",
   "metadata": {},
   "outputs": [
    {
     "name": "stdout",
     "output_type": "stream",
     "text": [
      "0        50.0\n",
      "1        55.0\n",
      "2        52.0\n",
      "3        48.0\n",
      "4        48.0\n",
      "         ... \n",
      "69995    53.0\n",
      "69996    62.0\n",
      "69997    52.0\n",
      "69998    61.0\n",
      "69999    56.0\n",
      "Name: age, Length: 68304, dtype: float64\n"
     ]
    }
   ],
   "source": [
    "print(data['age'])"
   ]
  },
  {
   "cell_type": "code",
   "execution_count": 41,
   "id": "loved-course",
   "metadata": {},
   "outputs": [
    {
     "name": "stdout",
     "output_type": "stream",
     "text": [
      "[50. 55. 52. 48. 60. 61. 62. 54. 41. 40. 46. 58. 59. 63. 64. 57. 56. 49.\n",
      " 51. 44. 65. 45. 53. 47. 42. 39. 43. 30.]\n"
     ]
    }
   ],
   "source": [
    "print(data['age'].unique())"
   ]
  },
  {
   "cell_type": "code",
   "execution_count": 42,
   "id": "upset-criminal",
   "metadata": {},
   "outputs": [
    {
     "data": {
      "text/plain": [
       "count    68304.000000\n",
       "mean        53.319396\n",
       "std          6.768129\n",
       "min         30.000000\n",
       "25%         48.000000\n",
       "50%         54.000000\n",
       "75%         58.000000\n",
       "max         65.000000\n",
       "Name: age, dtype: float64"
      ]
     },
     "execution_count": 42,
     "metadata": {},
     "output_type": "execute_result"
    }
   ],
   "source": [
    "data['age'].describe()"
   ]
  },
  {
   "cell_type": "code",
   "execution_count": 43,
   "id": "turned-audience",
   "metadata": {},
   "outputs": [
    {
     "data": {
      "text/html": [
       "<div>\n",
       "<style scoped>\n",
       "    .dataframe tbody tr th:only-of-type {\n",
       "        vertical-align: middle;\n",
       "    }\n",
       "\n",
       "    .dataframe tbody tr th {\n",
       "        vertical-align: top;\n",
       "    }\n",
       "\n",
       "    .dataframe thead th {\n",
       "        text-align: right;\n",
       "    }\n",
       "</style>\n",
       "<table border=\"1\" class=\"dataframe\">\n",
       "  <thead>\n",
       "    <tr style=\"text-align: right;\">\n",
       "      <th></th>\n",
       "      <th>id</th>\n",
       "      <th>age</th>\n",
       "      <th>gender</th>\n",
       "      <th>height</th>\n",
       "      <th>weight</th>\n",
       "      <th>ap_hi</th>\n",
       "      <th>ap_lo</th>\n",
       "      <th>cholesterol</th>\n",
       "      <th>gluc</th>\n",
       "      <th>smoke</th>\n",
       "      <th>alco</th>\n",
       "      <th>active</th>\n",
       "      <th>cardio</th>\n",
       "    </tr>\n",
       "  </thead>\n",
       "  <tbody>\n",
       "    <tr>\n",
       "      <th>0</th>\n",
       "      <td>0</td>\n",
       "      <td>50.0</td>\n",
       "      <td>1</td>\n",
       "      <td>5.511811</td>\n",
       "      <td>62.0</td>\n",
       "      <td>110</td>\n",
       "      <td>80</td>\n",
       "      <td>0</td>\n",
       "      <td>0</td>\n",
       "      <td>0</td>\n",
       "      <td>0</td>\n",
       "      <td>1</td>\n",
       "      <td>0</td>\n",
       "    </tr>\n",
       "    <tr>\n",
       "      <th>1</th>\n",
       "      <td>1</td>\n",
       "      <td>55.0</td>\n",
       "      <td>0</td>\n",
       "      <td>5.118110</td>\n",
       "      <td>85.0</td>\n",
       "      <td>140</td>\n",
       "      <td>90</td>\n",
       "      <td>2</td>\n",
       "      <td>0</td>\n",
       "      <td>0</td>\n",
       "      <td>0</td>\n",
       "      <td>1</td>\n",
       "      <td>1</td>\n",
       "    </tr>\n",
       "    <tr>\n",
       "      <th>2</th>\n",
       "      <td>2</td>\n",
       "      <td>52.0</td>\n",
       "      <td>0</td>\n",
       "      <td>5.413386</td>\n",
       "      <td>64.0</td>\n",
       "      <td>130</td>\n",
       "      <td>70</td>\n",
       "      <td>2</td>\n",
       "      <td>0</td>\n",
       "      <td>0</td>\n",
       "      <td>0</td>\n",
       "      <td>0</td>\n",
       "      <td>1</td>\n",
       "    </tr>\n",
       "    <tr>\n",
       "      <th>3</th>\n",
       "      <td>3</td>\n",
       "      <td>48.0</td>\n",
       "      <td>1</td>\n",
       "      <td>5.544619</td>\n",
       "      <td>82.0</td>\n",
       "      <td>150</td>\n",
       "      <td>100</td>\n",
       "      <td>0</td>\n",
       "      <td>0</td>\n",
       "      <td>0</td>\n",
       "      <td>0</td>\n",
       "      <td>1</td>\n",
       "      <td>1</td>\n",
       "    </tr>\n",
       "    <tr>\n",
       "      <th>4</th>\n",
       "      <td>4</td>\n",
       "      <td>48.0</td>\n",
       "      <td>0</td>\n",
       "      <td>5.118110</td>\n",
       "      <td>56.0</td>\n",
       "      <td>100</td>\n",
       "      <td>60</td>\n",
       "      <td>0</td>\n",
       "      <td>0</td>\n",
       "      <td>0</td>\n",
       "      <td>0</td>\n",
       "      <td>0</td>\n",
       "      <td>0</td>\n",
       "    </tr>\n",
       "  </tbody>\n",
       "</table>\n",
       "</div>"
      ],
      "text/plain": [
       "   id   age  gender    height  weight  ap_hi  ap_lo  cholesterol  gluc  smoke  \\\n",
       "0   0  50.0       1  5.511811    62.0    110     80            0     0      0   \n",
       "1   1  55.0       0  5.118110    85.0    140     90            2     0      0   \n",
       "2   2  52.0       0  5.413386    64.0    130     70            2     0      0   \n",
       "3   3  48.0       1  5.544619    82.0    150    100            0     0      0   \n",
       "4   4  48.0       0  5.118110    56.0    100     60            0     0      0   \n",
       "\n",
       "   alco  active  cardio  \n",
       "0     0       1       0  \n",
       "1     0       1       1  \n",
       "2     0       0       1  \n",
       "3     0       1       1  \n",
       "4     0       0       0  "
      ]
     },
     "execution_count": 43,
     "metadata": {},
     "output_type": "execute_result"
    }
   ],
   "source": [
    "data.head(5)"
   ]
  },
  {
   "cell_type": "code",
   "execution_count": 44,
   "id": "demanding-thunder",
   "metadata": {},
   "outputs": [
    {
     "name": "stdout",
     "output_type": "stream",
     "text": [
      "(68304, 13)\n"
     ]
    }
   ],
   "source": [
    "print(data.shape)"
   ]
  },
  {
   "cell_type": "code",
   "execution_count": 45,
   "id": "instructional-senegal",
   "metadata": {},
   "outputs": [],
   "source": [
    "dataset = data.iloc[0:15000 , :].values # Only taking 1500 traing and testing examples"
   ]
  },
  {
   "cell_type": "code",
   "execution_count": 46,
   "id": "fifth-motivation",
   "metadata": {},
   "outputs": [],
   "source": [
    "X = dataset[: , 1:12]\n",
    "y = dataset[: , 12]"
   ]
  },
  {
   "cell_type": "code",
   "execution_count": 47,
   "id": "moral-allen",
   "metadata": {},
   "outputs": [],
   "source": [
    "from sklearn.model_selection import train_test_split\n",
    "X_train,X_test,y_train,y_test=train_test_split(X,y,test_size=0.3)"
   ]
  },
  {
   "cell_type": "markdown",
   "id": "quality-fight",
   "metadata": {},
   "source": [
    "# Just a Dry Run for the model (Using Pipelines)"
   ]
  },
  {
   "cell_type": "code",
   "execution_count": 48,
   "id": "awful-gambling",
   "metadata": {},
   "outputs": [],
   "source": [
    "from sklearn.linear_model import LogisticRegression\n",
    "from sklearn.tree import DecisionTreeClassifier\n",
    "from sklearn.ensemble import RandomForestClassifier\n",
    "from sklearn.svm import SVC\n",
    "from sklearn.decomposition import PCA\n",
    "from sklearn.preprocessing import StandardScaler\n",
    "from sklearn.pipeline import Pipeline\n",
    "from sklearn.compose import ColumnTransformer"
   ]
  },
  {
   "cell_type": "code",
   "execution_count": 49,
   "id": "helpful-warehouse",
   "metadata": {},
   "outputs": [],
   "source": [
    "pipeline_lr=Pipeline([('scalar1',StandardScaler()),('lr_classifer',LogisticRegression(random_state=0))])\n",
    "pipeline_dt=Pipeline([('scalar2',StandardScaler()),('dt_classifer',DecisionTreeClassifier())])\n",
    "pipeline_rf=Pipeline([('scalar3',StandardScaler()),('rf_classifer',RandomForestClassifier())])\n",
    "pipeline_svc=Pipeline([('scalar4',StandardScaler()),('svc_classifer',SVC())])"
   ]
  },
  {
   "cell_type": "code",
   "execution_count": 50,
   "id": "stuffed-sister",
   "metadata": {},
   "outputs": [],
   "source": [
    "pipelines=[pipeline_lr,pipeline_dt,pipeline_rf,pipeline_svc]\n",
    "best_accuracy=0.0\n",
    "best_classifier=0\n",
    "best_pipeline=''"
   ]
  },
  {
   "cell_type": "code",
   "execution_count": 51,
   "id": "sunset-seating",
   "metadata": {},
   "outputs": [],
   "source": [
    "pipe_dict={0:'Logistic Regression',1:'Decision Tree',2:'RandomForestClasifier',3:'Support vector classifier'}\n",
    "for pipe in pipelines:\n",
    "    pipe.fit(X_train ,y_train)"
   ]
  },
  {
   "cell_type": "code",
   "execution_count": 52,
   "id": "stylish-noise",
   "metadata": {},
   "outputs": [
    {
     "name": "stdout",
     "output_type": "stream",
     "text": [
      "Logistic Regression Test Accuracy: 0.732\n",
      "Decision Tree Test Accuracy: 0.6406666666666667\n",
      "RandomForestClasifier Test Accuracy: 0.7031111111111111\n",
      "Support vector classifier Test Accuracy: 0.7304444444444445\n"
     ]
    }
   ],
   "source": [
    "for i,model in enumerate(pipelines):\n",
    "      print('{} Test Accuracy: {}'.format(pipe_dict[i],model.score(X_test,y_test)))"
   ]
  },
  {
   "cell_type": "code",
   "execution_count": 53,
   "id": "organized-career",
   "metadata": {},
   "outputs": [
    {
     "name": "stdout",
     "output_type": "stream",
     "text": [
      "classifer with best accuracy:Logistic Regression\n"
     ]
    }
   ],
   "source": [
    "for i ,model in enumerate(pipelines):\n",
    "      if model.score(X_test,y_test)>best_accuracy:\n",
    "        best_accuracy=model.score(X_test,y_test)\n",
    "        best_pipeline=model\n",
    "        best_classifier=i\n",
    "print('classifer with best accuracy:{}'.format(pipe_dict[best_classifier]))"
   ]
  },
  {
   "cell_type": "code",
   "execution_count": 54,
   "id": "civic-battlefield",
   "metadata": {},
   "outputs": [
    {
     "data": {
      "text/plain": [
       "Index(['age', 'gender', 'height', 'weight', 'ap_hi', 'ap_lo', 'cholesterol',\n",
       "       'gluc', 'smoke', 'alco', 'active'],\n",
       "      dtype='object')"
      ]
     },
     "execution_count": 54,
     "metadata": {},
     "output_type": "execute_result"
    }
   ],
   "source": [
    "data.columns[1:12]\n"
   ]
  },
  {
   "cell_type": "markdown",
   "id": "particular-resident",
   "metadata": {},
   "source": [
    "# Best Model so far:----> Support Vector Classifier\n",
    "# acuracy :-----> 73%"
   ]
  },
  {
   "cell_type": "code",
   "execution_count": 55,
   "id": "quantitative-contents",
   "metadata": {},
   "outputs": [],
   "source": [
    " preprocessing = ColumnTransformer(\n",
    "    [],\n",
    "    remainder=\"passthrough\",\n",
    ")"
   ]
  },
  {
   "cell_type": "markdown",
   "id": "cross-rapid",
   "metadata": {},
   "source": [
    "# XGB Classification"
   ]
  },
  {
   "cell_type": "code",
   "execution_count": 56,
   "id": "liked-voluntary",
   "metadata": {},
   "outputs": [
    {
     "name": "stdout",
     "output_type": "stream",
     "text": [
      "[08:36:42] WARNING: C:/Users/Administrator/workspace/xgboost-win64_release_1.3.0/src/learner.cc:1061: Starting in XGBoost 1.3.0, the default evaluation metric used with the objective 'binary:logistic' was changed from 'error' to 'logloss'. Explicitly set eval_metric if you'd like to restore the old behavior.\n",
      "\n",
      "train score:{} 0.8144761904761905\n",
      "test score: {} 0.7197777777777777\n"
     ]
    }
   ],
   "source": [
    "from xgboost import XGBClassifier\n",
    "pipeline = Pipeline(\n",
    "    [\n",
    "        (\"processing\", preprocessing),\n",
    "        (\"model\", XGBClassifier(use_label_encoder=False)),\n",
    "    ]\n",
    ")\n",
    "\n",
    "pipeline.fit(X_train, y_train)\n",
    "\n",
    "train_score = pipeline.score(X_train, y_train)\n",
    "test_score = pipeline.score(X_test, y_test)\n",
    "\n",
    "print(\"\\ntrain score:{}\" ,train_score )\n",
    "print(\"test score: {}\" , test_score)"
   ]
  },
  {
   "cell_type": "code",
   "execution_count": 57,
   "id": "typical-boating",
   "metadata": {},
   "outputs": [
    {
     "name": "stdout",
     "output_type": "stream",
     "text": [
      "Fitting 2 folds for each of 120 candidates, totalling 240 fits\n",
      "[08:37:21] WARNING: C:/Users/Administrator/workspace/xgboost-win64_release_1.3.0/src/learner.cc:1061: Starting in XGBoost 1.3.0, the default evaluation metric used with the objective 'binary:logistic' was changed from 'error' to 'logloss'. Explicitly set eval_metric if you'd like to restore the old behavior.\n"
     ]
    },
    {
     "data": {
      "text/plain": [
       "{'model__colsample_bytree': 0.7,\n",
       " 'model__learning_rate': 10,\n",
       " 'model__max_depth': 5,\n",
       " 'model__n_estimators': 1}"
      ]
     },
     "execution_count": 57,
     "metadata": {},
     "output_type": "execute_result"
    }
   ],
   "source": [
    "from sklearn.model_selection import GridSearchCV\n",
    "grid = {\n",
    "    \"model__n_estimators\": np.arange(1, 3),\n",
    "    \"model__learning_rate\": np.arange(0, 50, 10),\n",
    "  \n",
    "    \"model__colsample_bytree\": np.arange(0.7,1,0.1),\n",
    "    \"model__max_depth\": np.arange(4,7),\n",
    "}\n",
    "\n",
    "pipeline_cv = GridSearchCV(pipeline, grid, cv=2, verbose=2, n_jobs=-1)\n",
    "pipeline_cv.fit(X_train, y_train)\n",
    "\n",
    "best_params = pipeline_cv.best_params_\n",
    "best_params"
   ]
  },
  {
   "cell_type": "code",
   "execution_count": 58,
   "id": "sustainable-chapter",
   "metadata": {},
   "outputs": [
    {
     "data": {
      "text/html": [
       "<div>\n",
       "<style scoped>\n",
       "    .dataframe tbody tr th:only-of-type {\n",
       "        vertical-align: middle;\n",
       "    }\n",
       "\n",
       "    .dataframe tbody tr th {\n",
       "        vertical-align: top;\n",
       "    }\n",
       "\n",
       "    .dataframe thead th {\n",
       "        text-align: right;\n",
       "    }\n",
       "</style>\n",
       "<table border=\"1\" class=\"dataframe\">\n",
       "  <thead>\n",
       "    <tr style=\"text-align: right;\">\n",
       "      <th></th>\n",
       "      <th>feature</th>\n",
       "      <th>importance</th>\n",
       "    </tr>\n",
       "  </thead>\n",
       "  <tbody>\n",
       "    <tr>\n",
       "      <th>4</th>\n",
       "      <td>ap_hi</td>\n",
       "      <td>0.787697</td>\n",
       "    </tr>\n",
       "    <tr>\n",
       "      <th>6</th>\n",
       "      <td>cholesterol</td>\n",
       "      <td>0.146743</td>\n",
       "    </tr>\n",
       "    <tr>\n",
       "      <th>10</th>\n",
       "      <td>active</td>\n",
       "      <td>0.032511</td>\n",
       "    </tr>\n",
       "    <tr>\n",
       "      <th>3</th>\n",
       "      <td>weight</td>\n",
       "      <td>0.012534</td>\n",
       "    </tr>\n",
       "    <tr>\n",
       "      <th>5</th>\n",
       "      <td>ap_lo</td>\n",
       "      <td>0.012301</td>\n",
       "    </tr>\n",
       "    <tr>\n",
       "      <th>2</th>\n",
       "      <td>height</td>\n",
       "      <td>0.008214</td>\n",
       "    </tr>\n",
       "    <tr>\n",
       "      <th>0</th>\n",
       "      <td>age</td>\n",
       "      <td>0.000000</td>\n",
       "    </tr>\n",
       "    <tr>\n",
       "      <th>1</th>\n",
       "      <td>gender</td>\n",
       "      <td>0.000000</td>\n",
       "    </tr>\n",
       "    <tr>\n",
       "      <th>7</th>\n",
       "      <td>gluc</td>\n",
       "      <td>0.000000</td>\n",
       "    </tr>\n",
       "    <tr>\n",
       "      <th>8</th>\n",
       "      <td>smoke</td>\n",
       "      <td>0.000000</td>\n",
       "    </tr>\n",
       "    <tr>\n",
       "      <th>9</th>\n",
       "      <td>alco</td>\n",
       "      <td>0.000000</td>\n",
       "    </tr>\n",
       "  </tbody>\n",
       "</table>\n",
       "</div>"
      ],
      "text/plain": [
       "        feature  importance\n",
       "4         ap_hi    0.787697\n",
       "6   cholesterol    0.146743\n",
       "10       active    0.032511\n",
       "3        weight    0.012534\n",
       "5         ap_lo    0.012301\n",
       "2        height    0.008214\n",
       "0           age    0.000000\n",
       "1        gender    0.000000\n",
       "7          gluc    0.000000\n",
       "8         smoke    0.000000\n",
       "9          alco    0.000000"
      ]
     },
     "execution_count": 58,
     "metadata": {},
     "output_type": "execute_result"
    }
   ],
   "source": [
    "feature_importances = pipeline_cv.best_estimator_[\"model\"].feature_importances_\n",
    "feature_importances = pd.DataFrame(\n",
    "    {\"feature\": data.columns[1:12], \"importance\": feature_importances}\n",
    ").sort_values(\"importance\", ascending=False)\n",
    "feature_importances"
   ]
  },
  {
   "cell_type": "code",
   "execution_count": 59,
   "id": "generic-court",
   "metadata": {},
   "outputs": [
    {
     "name": "stdout",
     "output_type": "stream",
     "text": [
      "[[1900  859]\n",
      " [ 417 1324]]\n",
      "0.7164444444444444\n"
     ]
    }
   ],
   "source": [
    "from sklearn.naive_bayes import GaussianNB\n",
    "classification = GaussianNB();\n",
    "classification.fit(X_train , y_train)\n",
    "y_pred = classification.predict(X_test)\n",
    "\n",
    "from sklearn.metrics import confusion_matrix , accuracy_score\n",
    "cm = confusion_matrix(y_pred , y_test)\n",
    "ac = accuracy_score(y_pred , y_test)\n",
    "\n",
    "print(cm)\n",
    "print(ac)"
   ]
  },
  {
   "cell_type": "code",
   "execution_count": 60,
   "id": "soviet-garage",
   "metadata": {},
   "outputs": [
    {
     "name": "stdout",
     "output_type": "stream",
     "text": [
      "[[ 330 1180]\n",
      " [1987 1003]]\n",
      "0.2962222222222222\n"
     ]
    }
   ],
   "source": [
    "\n",
    "from sklearn.cluster import KMeans\n",
    "\n",
    "kmean = KMeans(n_clusters = 2 , random_state = 0)\n",
    "kmean.fit(X_train , y_train)\n",
    "y_pred = kmean.predict(X_test)\n",
    "\n",
    "cm = confusion_matrix(y_pred , y_test)\n",
    "ac = accuracy_score(y_pred , y_test)\n",
    "\n",
    "print(cm)\n",
    "print(ac)\n"
   ]
  },
  {
   "cell_type": "code",
   "execution_count": 79,
   "id": "complicated-overhead",
   "metadata": {},
   "outputs": [
    {
     "data": {
      "text/plain": [
       "0            0\n",
       "1            1\n",
       "2            2\n",
       "3            3\n",
       "4            4\n",
       "         ...  \n",
       "69995    99993\n",
       "69996    99995\n",
       "69997    99996\n",
       "69998    99998\n",
       "69999    99999\n",
       "Name: id, Length: 68304, dtype: int64"
      ]
     },
     "execution_count": 79,
     "metadata": {},
     "output_type": "execute_result"
    }
   ],
   "source": [
    "dataset = data.values\n",
    "data['id']"
   ]
  },
  {
   "cell_type": "code",
   "execution_count": 78,
   "id": "extended-detroit",
   "metadata": {},
   "outputs": [
    {
     "data": {
      "text/plain": [
       "(68304, 13)"
      ]
     },
     "execution_count": 78,
     "metadata": {},
     "output_type": "execute_result"
    }
   ],
   "source": [
    "dataset.shape"
   ]
  },
  {
   "cell_type": "code",
   "execution_count": 80,
   "id": "conditional-administration",
   "metadata": {},
   "outputs": [],
   "source": [
    "x = dataset[: , 1 : 12]\n",
    "y = dataset[: , 12]"
   ]
  },
  {
   "cell_type": "code",
   "execution_count": 81,
   "id": "complimentary-athletics",
   "metadata": {},
   "outputs": [],
   "source": [
    "from sklearn import preprocessing\n",
    "min_max_scaler = preprocessing.MinMaxScaler()\n",
    "x_scale = min_max_scaler.fit_transform(x)"
   ]
  },
  {
   "cell_type": "code",
   "execution_count": 82,
   "id": "weighted-photography",
   "metadata": {},
   "outputs": [
    {
     "data": {
      "text/plain": [
       "array([[0.57142857, 1.        , 0.43478261, ..., 0.        , 0.        ,\n",
       "        1.        ],\n",
       "       [0.71428571, 0.        , 0.26086957, ..., 0.        , 0.        ,\n",
       "        1.        ],\n",
       "       [0.62857143, 0.        , 0.39130435, ..., 0.        , 0.        ,\n",
       "        0.        ],\n",
       "       ...,\n",
       "       [0.62857143, 1.        , 0.65217391, ..., 0.        , 1.        ,\n",
       "        0.        ],\n",
       "       [0.88571429, 0.        , 0.36231884, ..., 0.        , 0.        ,\n",
       "        0.        ],\n",
       "       [0.74285714, 0.        , 0.46376812, ..., 0.        , 0.        ,\n",
       "        1.        ]])"
      ]
     },
     "execution_count": 82,
     "metadata": {},
     "output_type": "execute_result"
    }
   ],
   "source": [
    "x_scale"
   ]
  },
  {
   "cell_type": "code",
   "execution_count": 83,
   "id": "southeast-mailing",
   "metadata": {},
   "outputs": [],
   "source": [
    "from sklearn.model_selection import train_test_split\n",
    "x_train, x_val_and_test, y_train, y_val_and_test = train_test_split(x_scale, y, test_size=0.3)"
   ]
  },
  {
   "cell_type": "code",
   "execution_count": 84,
   "id": "bright-cameroon",
   "metadata": {},
   "outputs": [],
   "source": [
    "x_val, x_test, y_val, y_test = train_test_split(x_val_and_test, y_val_and_test, test_size=0.5)"
   ]
  },
  {
   "cell_type": "code",
   "execution_count": 85,
   "id": "independent-twins",
   "metadata": {},
   "outputs": [
    {
     "name": "stdout",
     "output_type": "stream",
     "text": [
      "(47812, 11) (10246, 11) (10246, 11) (47812,) (10246,) (10246,)\n"
     ]
    }
   ],
   "source": [
    "print(x_train.shape, x_val.shape, x_test.shape, y_train.shape, y_val.shape, y_test.shape)"
   ]
  },
  {
   "cell_type": "code",
   "execution_count": 86,
   "id": "annual-minority",
   "metadata": {},
   "outputs": [],
   "source": [
    "from keras.models import Sequential\n",
    "from keras.layers import Dense\n",
    "\n",
    "model = Sequential([ Dense(32, activation='relu', input_shape=(11,)),    \n",
    "                    Dense(32, activation='relu'),    \n",
    "                    Dense(1, activation='sigmoid'),])"
   ]
  },
  {
   "cell_type": "code",
   "execution_count": 87,
   "id": "worse-indonesia",
   "metadata": {},
   "outputs": [],
   "source": [
    "model.compile(optimizer='sgd',   loss='binary_crossentropy',   metrics=['accuracy'])"
   ]
  },
  {
   "cell_type": "code",
   "execution_count": 88,
   "id": "renewable-quantum",
   "metadata": {},
   "outputs": [
    {
     "name": "stdout",
     "output_type": "stream",
     "text": [
      "Epoch 1/200\n",
      "1495/1495 [==============================] - 5s 3ms/step - loss: 0.6735 - accuracy: 0.6050 - val_loss: 0.6202 - val_accuracy: 0.6845\n",
      "Epoch 2/200\n",
      "1495/1495 [==============================] - 3s 2ms/step - loss: 0.6052 - accuracy: 0.6913 - val_loss: 0.5770 - val_accuracy: 0.7193\n",
      "Epoch 3/200\n",
      "1495/1495 [==============================] - 4s 2ms/step - loss: 0.5719 - accuracy: 0.7169 - val_loss: 0.5667 - val_accuracy: 0.7225\n",
      "Epoch 4/200\n",
      "1495/1495 [==============================] - 3s 2ms/step - loss: 0.5617 - accuracy: 0.7259 - val_loss: 0.5633 - val_accuracy: 0.7246\n",
      "Epoch 5/200\n",
      "1495/1495 [==============================] - 3s 2ms/step - loss: 0.5593 - accuracy: 0.7292 - val_loss: 0.5638 - val_accuracy: 0.7224\n",
      "Epoch 6/200\n",
      "1495/1495 [==============================] - 4s 2ms/step - loss: 0.5635 - accuracy: 0.7238 - val_loss: 0.5636 - val_accuracy: 0.7210\n",
      "Epoch 7/200\n",
      "1495/1495 [==============================] - 3s 2ms/step - loss: 0.5583 - accuracy: 0.7267 - val_loss: 0.5639 - val_accuracy: 0.7226\n",
      "Epoch 8/200\n",
      "1495/1495 [==============================] - 4s 2ms/step - loss: 0.5545 - accuracy: 0.7306 - val_loss: 0.5621 - val_accuracy: 0.7233\n",
      "Epoch 9/200\n",
      "1495/1495 [==============================] - 4s 2ms/step - loss: 0.5567 - accuracy: 0.7278 - val_loss: 0.5593 - val_accuracy: 0.7238\n",
      "Epoch 10/200\n",
      "1495/1495 [==============================] - 4s 2ms/step - loss: 0.5573 - accuracy: 0.7282 - val_loss: 0.5650 - val_accuracy: 0.7210\n",
      "Epoch 11/200\n",
      "1495/1495 [==============================] - 4s 2ms/step - loss: 0.5560 - accuracy: 0.7281 - val_loss: 0.5630 - val_accuracy: 0.7233\n",
      "Epoch 12/200\n",
      "1495/1495 [==============================] - 4s 2ms/step - loss: 0.5552 - accuracy: 0.7279 - val_loss: 0.5586 - val_accuracy: 0.7243\n",
      "Epoch 13/200\n",
      "1495/1495 [==============================] - 4s 3ms/step - loss: 0.5535 - accuracy: 0.7282 - val_loss: 0.5575 - val_accuracy: 0.7265\n",
      "Epoch 14/200\n",
      "1495/1495 [==============================] - 4s 2ms/step - loss: 0.5552 - accuracy: 0.7272 - val_loss: 0.5572 - val_accuracy: 0.7267\n",
      "Epoch 15/200\n",
      "1495/1495 [==============================] - 3s 2ms/step - loss: 0.5546 - accuracy: 0.7272 - val_loss: 0.5610 - val_accuracy: 0.7213\n",
      "Epoch 16/200\n",
      "1495/1495 [==============================] - 4s 2ms/step - loss: 0.5538 - accuracy: 0.7279 - val_loss: 0.5651 - val_accuracy: 0.7167\n",
      "Epoch 17/200\n",
      "1495/1495 [==============================] - 3s 2ms/step - loss: 0.5504 - accuracy: 0.7293 - val_loss: 0.5565 - val_accuracy: 0.7269\n",
      "Epoch 18/200\n",
      "1495/1495 [==============================] - 4s 2ms/step - loss: 0.5543 - accuracy: 0.7275 - val_loss: 0.5556 - val_accuracy: 0.7251\n",
      "Epoch 19/200\n",
      "1495/1495 [==============================] - 3s 2ms/step - loss: 0.5527 - accuracy: 0.7288 - val_loss: 0.5559 - val_accuracy: 0.7238\n",
      "Epoch 20/200\n",
      "1495/1495 [==============================] - 3s 2ms/step - loss: 0.5501 - accuracy: 0.7318 - val_loss: 0.5550 - val_accuracy: 0.7265\n",
      "Epoch 21/200\n",
      "1495/1495 [==============================] - 3s 2ms/step - loss: 0.5499 - accuracy: 0.7288 - val_loss: 0.5553 - val_accuracy: 0.7246\n",
      "Epoch 22/200\n",
      "1495/1495 [==============================] - 3s 2ms/step - loss: 0.5510 - accuracy: 0.7300 - val_loss: 0.5569 - val_accuracy: 0.7246\n",
      "Epoch 23/200\n",
      "1495/1495 [==============================] - 4s 3ms/step - loss: 0.5527 - accuracy: 0.7274 - val_loss: 0.5544 - val_accuracy: 0.7255\n",
      "Epoch 24/200\n",
      "1495/1495 [==============================] - 3s 2ms/step - loss: 0.5489 - accuracy: 0.7300 - val_loss: 0.5538 - val_accuracy: 0.7263\n",
      "Epoch 25/200\n",
      "1495/1495 [==============================] - 3s 2ms/step - loss: 0.5480 - accuracy: 0.7307 - val_loss: 0.5539 - val_accuracy: 0.7255\n",
      "Epoch 26/200\n",
      "1495/1495 [==============================] - 3s 2ms/step - loss: 0.5489 - accuracy: 0.7307 - val_loss: 0.5533 - val_accuracy: 0.7259\n",
      "Epoch 27/200\n",
      "1495/1495 [==============================] - 4s 3ms/step - loss: 0.5490 - accuracy: 0.7317 - val_loss: 0.5536 - val_accuracy: 0.7256\n",
      "Epoch 28/200\n",
      "1495/1495 [==============================] - 3s 2ms/step - loss: 0.5458 - accuracy: 0.7333 - val_loss: 0.5532 - val_accuracy: 0.7256\n",
      "Epoch 29/200\n",
      "1495/1495 [==============================] - 3s 2ms/step - loss: 0.5480 - accuracy: 0.7314 - val_loss: 0.5592 - val_accuracy: 0.7204\n",
      "Epoch 30/200\n",
      "1495/1495 [==============================] - 3s 2ms/step - loss: 0.5491 - accuracy: 0.7317 - val_loss: 0.5585 - val_accuracy: 0.7245\n",
      "Epoch 31/200\n",
      "1495/1495 [==============================] - 4s 2ms/step - loss: 0.5489 - accuracy: 0.7305 - val_loss: 0.5542 - val_accuracy: 0.7251\n",
      "Epoch 32/200\n",
      "1495/1495 [==============================] - 3s 2ms/step - loss: 0.5476 - accuracy: 0.7329 - val_loss: 0.5545 - val_accuracy: 0.7259\n",
      "Epoch 33/200\n",
      "1495/1495 [==============================] - 3s 2ms/step - loss: 0.5498 - accuracy: 0.7302 - val_loss: 0.5532 - val_accuracy: 0.7271\n",
      "Epoch 34/200\n",
      "1495/1495 [==============================] - 4s 2ms/step - loss: 0.5461 - accuracy: 0.7338 - val_loss: 0.5556 - val_accuracy: 0.7245\n",
      "Epoch 35/200\n",
      "1495/1495 [==============================] - 3s 2ms/step - loss: 0.5457 - accuracy: 0.7332 - val_loss: 0.5527 - val_accuracy: 0.7281\n",
      "Epoch 36/200\n",
      "1495/1495 [==============================] - 3s 2ms/step - loss: 0.5487 - accuracy: 0.7317 - val_loss: 0.5521 - val_accuracy: 0.7263\n",
      "Epoch 37/200\n",
      "1495/1495 [==============================] - 4s 2ms/step - loss: 0.5466 - accuracy: 0.7324 - val_loss: 0.5536 - val_accuracy: 0.7261\n",
      "Epoch 38/200\n",
      "1495/1495 [==============================] - 4s 2ms/step - loss: 0.5482 - accuracy: 0.7296 - val_loss: 0.5536 - val_accuracy: 0.7255\n",
      "Epoch 39/200\n",
      "1495/1495 [==============================] - 3s 2ms/step - loss: 0.5478 - accuracy: 0.7305 - val_loss: 0.5517 - val_accuracy: 0.7262\n",
      "Epoch 40/200\n",
      "1495/1495 [==============================] - 3s 2ms/step - loss: 0.5475 - accuracy: 0.7316 - val_loss: 0.5519 - val_accuracy: 0.7263\n",
      "Epoch 41/200\n",
      "1495/1495 [==============================] - 3s 2ms/step - loss: 0.5424 - accuracy: 0.7345 - val_loss: 0.5512 - val_accuracy: 0.7264\n",
      "Epoch 42/200\n",
      "1495/1495 [==============================] - 3s 2ms/step - loss: 0.5460 - accuracy: 0.7312 - val_loss: 0.5524 - val_accuracy: 0.7253\n",
      "Epoch 43/200\n",
      "1495/1495 [==============================] - 3s 2ms/step - loss: 0.5497 - accuracy: 0.7323 - val_loss: 0.5521 - val_accuracy: 0.7261\n",
      "Epoch 44/200\n",
      "1495/1495 [==============================] - 3s 2ms/step - loss: 0.5499 - accuracy: 0.7303 - val_loss: 0.5516 - val_accuracy: 0.7268\n",
      "Epoch 45/200\n",
      "1495/1495 [==============================] - 4s 2ms/step - loss: 0.5451 - accuracy: 0.7321 - val_loss: 0.5530 - val_accuracy: 0.7257\n",
      "Epoch 46/200\n",
      "1495/1495 [==============================] - 3s 2ms/step - loss: 0.5488 - accuracy: 0.7313 - val_loss: 0.5511 - val_accuracy: 0.7272\n",
      "Epoch 47/200\n",
      "1495/1495 [==============================] - 3s 2ms/step - loss: 0.5388 - accuracy: 0.7369 - val_loss: 0.5514 - val_accuracy: 0.7271\n",
      "Epoch 48/200\n",
      "1495/1495 [==============================] - 3s 2ms/step - loss: 0.5506 - accuracy: 0.7298 - val_loss: 0.5515 - val_accuracy: 0.7250\n",
      "Epoch 49/200\n",
      "1495/1495 [==============================] - 3s 2ms/step - loss: 0.5459 - accuracy: 0.7332 - val_loss: 0.5520 - val_accuracy: 0.7265\n",
      "Epoch 50/200\n",
      "1495/1495 [==============================] - 3s 2ms/step - loss: 0.5447 - accuracy: 0.7339 - val_loss: 0.5509 - val_accuracy: 0.7274\n",
      "Epoch 51/200\n",
      "1495/1495 [==============================] - 3s 2ms/step - loss: 0.5494 - accuracy: 0.7301 - val_loss: 0.5516 - val_accuracy: 0.7265\n",
      "Epoch 52/200\n",
      "1495/1495 [==============================] - 3s 2ms/step - loss: 0.5473 - accuracy: 0.7294 - val_loss: 0.5522 - val_accuracy: 0.7259\n",
      "Epoch 53/200\n",
      "1495/1495 [==============================] - 3s 2ms/step - loss: 0.5471 - accuracy: 0.7315 - val_loss: 0.5511 - val_accuracy: 0.7273\n",
      "Epoch 54/200\n",
      "1495/1495 [==============================] - 4s 3ms/step - loss: 0.5393 - accuracy: 0.7380 - val_loss: 0.5514 - val_accuracy: 0.7262\n",
      "Epoch 55/200\n",
      "1495/1495 [==============================] - 4s 2ms/step - loss: 0.5461 - accuracy: 0.7325 - val_loss: 0.5504 - val_accuracy: 0.7290\n",
      "Epoch 56/200\n",
      "1495/1495 [==============================] - 4s 2ms/step - loss: 0.5494 - accuracy: 0.7312 - val_loss: 0.5519 - val_accuracy: 0.7257\n",
      "Epoch 57/200\n",
      "1495/1495 [==============================] - 3s 2ms/step - loss: 0.5462 - accuracy: 0.7322 - val_loss: 0.5511 - val_accuracy: 0.7263\n",
      "Epoch 58/200\n",
      "1495/1495 [==============================] - 4s 2ms/step - loss: 0.5432 - accuracy: 0.7343 - val_loss: 0.5546 - val_accuracy: 0.7252\n",
      "Epoch 59/200\n",
      "1495/1495 [==============================] - 3s 2ms/step - loss: 0.5449 - accuracy: 0.7308 - val_loss: 0.5500 - val_accuracy: 0.7267\n",
      "Epoch 60/200\n",
      "1495/1495 [==============================] - 3s 2ms/step - loss: 0.5412 - accuracy: 0.7380 - val_loss: 0.5513 - val_accuracy: 0.7259\n",
      "Epoch 61/200\n",
      "1495/1495 [==============================] - 4s 2ms/step - loss: 0.5436 - accuracy: 0.7346 - val_loss: 0.5504 - val_accuracy: 0.7260\n",
      "Epoch 62/200\n",
      "1495/1495 [==============================] - 4s 2ms/step - loss: 0.5476 - accuracy: 0.7280 - val_loss: 0.5499 - val_accuracy: 0.7274\n",
      "Epoch 63/200\n",
      "1495/1495 [==============================] - 3s 2ms/step - loss: 0.5444 - accuracy: 0.7350 - val_loss: 0.5495 - val_accuracy: 0.7273\n",
      "Epoch 64/200\n",
      "1495/1495 [==============================] - 3s 2ms/step - loss: 0.5423 - accuracy: 0.7345 - val_loss: 0.5506 - val_accuracy: 0.7262\n",
      "Epoch 65/200\n",
      "1495/1495 [==============================] - 3s 2ms/step - loss: 0.5417 - accuracy: 0.7372 - val_loss: 0.5502 - val_accuracy: 0.7259\n",
      "Epoch 66/200\n",
      "1495/1495 [==============================] - 3s 2ms/step - loss: 0.5444 - accuracy: 0.7322 - val_loss: 0.5494 - val_accuracy: 0.7277\n",
      "Epoch 67/200\n",
      "1495/1495 [==============================] - 3s 2ms/step - loss: 0.5461 - accuracy: 0.7321 - val_loss: 0.5505 - val_accuracy: 0.7259\n",
      "Epoch 68/200\n",
      "1495/1495 [==============================] - 4s 2ms/step - loss: 0.5422 - accuracy: 0.7343 - val_loss: 0.5496 - val_accuracy: 0.7261\n",
      "Epoch 69/200\n",
      "1495/1495 [==============================] - 4s 2ms/step - loss: 0.5426 - accuracy: 0.7336 - val_loss: 0.5491 - val_accuracy: 0.7277\n",
      "Epoch 70/200\n",
      "1495/1495 [==============================] - 3s 2ms/step - loss: 0.5436 - accuracy: 0.7343 - val_loss: 0.5500 - val_accuracy: 0.7276\n",
      "Epoch 71/200\n",
      "1495/1495 [==============================] - 3s 2ms/step - loss: 0.5423 - accuracy: 0.7324 - val_loss: 0.5496 - val_accuracy: 0.7278\n",
      "Epoch 72/200\n",
      "1495/1495 [==============================] - 3s 2ms/step - loss: 0.5455 - accuracy: 0.7325 - val_loss: 0.5496 - val_accuracy: 0.7273\n",
      "Epoch 73/200\n",
      "1495/1495 [==============================] - 3s 2ms/step - loss: 0.5422 - accuracy: 0.7351 - val_loss: 0.5495 - val_accuracy: 0.7262\n",
      "Epoch 74/200\n",
      "1495/1495 [==============================] - 3s 2ms/step - loss: 0.5423 - accuracy: 0.7348 - val_loss: 0.5496 - val_accuracy: 0.7279\n",
      "Epoch 75/200\n",
      "1495/1495 [==============================] - 3s 2ms/step - loss: 0.5428 - accuracy: 0.7356 - val_loss: 0.5498 - val_accuracy: 0.7260\n",
      "Epoch 76/200\n",
      "1495/1495 [==============================] - 3s 2ms/step - loss: 0.5445 - accuracy: 0.7338 - val_loss: 0.5546 - val_accuracy: 0.7251\n",
      "Epoch 77/200\n",
      "1495/1495 [==============================] - 3s 2ms/step - loss: 0.5443 - accuracy: 0.7319 - val_loss: 0.5500 - val_accuracy: 0.7269\n",
      "Epoch 78/200\n",
      "1495/1495 [==============================] - 3s 2ms/step - loss: 0.5459 - accuracy: 0.7297 - val_loss: 0.5498 - val_accuracy: 0.7266\n",
      "Epoch 79/200\n",
      "1495/1495 [==============================] - 3s 2ms/step - loss: 0.5421 - accuracy: 0.7326 - val_loss: 0.5505 - val_accuracy: 0.7256\n",
      "Epoch 80/200\n",
      "1495/1495 [==============================] - 3s 2ms/step - loss: 0.5457 - accuracy: 0.7340 - val_loss: 0.5492 - val_accuracy: 0.7279\n",
      "Epoch 81/200\n",
      "1495/1495 [==============================] - 3s 2ms/step - loss: 0.5423 - accuracy: 0.7368 - val_loss: 0.5500 - val_accuracy: 0.7270\n",
      "Epoch 82/200\n",
      "1495/1495 [==============================] - 3s 2ms/step - loss: 0.5403 - accuracy: 0.7373 - val_loss: 0.5501 - val_accuracy: 0.7263\n",
      "Epoch 83/200\n",
      "1495/1495 [==============================] - 3s 2ms/step - loss: 0.5435 - accuracy: 0.7332 - val_loss: 0.5486 - val_accuracy: 0.7279\n",
      "Epoch 84/200\n",
      "1495/1495 [==============================] - 3s 2ms/step - loss: 0.5462 - accuracy: 0.7323 - val_loss: 0.5484 - val_accuracy: 0.7270\n",
      "Epoch 85/200\n",
      "1495/1495 [==============================] - 3s 2ms/step - loss: 0.5432 - accuracy: 0.7352 - val_loss: 0.5536 - val_accuracy: 0.7248\n",
      "Epoch 86/200\n",
      "1495/1495 [==============================] - 3s 2ms/step - loss: 0.5406 - accuracy: 0.7353 - val_loss: 0.5485 - val_accuracy: 0.7282\n",
      "Epoch 87/200\n",
      "1495/1495 [==============================] - 3s 2ms/step - loss: 0.5449 - accuracy: 0.7329 - val_loss: 0.5507 - val_accuracy: 0.7247\n",
      "Epoch 88/200\n",
      "1495/1495 [==============================] - 3s 2ms/step - loss: 0.5432 - accuracy: 0.7340 - val_loss: 0.5490 - val_accuracy: 0.7271\n",
      "Epoch 89/200\n",
      "1495/1495 [==============================] - 3s 2ms/step - loss: 0.5392 - accuracy: 0.7369 - val_loss: 0.5499 - val_accuracy: 0.7270\n",
      "Epoch 90/200\n",
      "1495/1495 [==============================] - 3s 2ms/step - loss: 0.5441 - accuracy: 0.7286 - val_loss: 0.5488 - val_accuracy: 0.7274\n",
      "Epoch 91/200\n",
      "1495/1495 [==============================] - 4s 2ms/step - loss: 0.5439 - accuracy: 0.7306 - val_loss: 0.5491 - val_accuracy: 0.7274\n",
      "Epoch 92/200\n",
      "1495/1495 [==============================] - 3s 2ms/step - loss: 0.5435 - accuracy: 0.7337 - val_loss: 0.5493 - val_accuracy: 0.7282\n",
      "Epoch 93/200\n",
      "1495/1495 [==============================] - 3s 2ms/step - loss: 0.5435 - accuracy: 0.7320 - val_loss: 0.5496 - val_accuracy: 0.7255\n",
      "Epoch 94/200\n",
      "1495/1495 [==============================] - 3s 2ms/step - loss: 0.5415 - accuracy: 0.7357 - val_loss: 0.5494 - val_accuracy: 0.7268\n",
      "Epoch 95/200\n",
      "1495/1495 [==============================] - 3s 2ms/step - loss: 0.5436 - accuracy: 0.7329 - val_loss: 0.5486 - val_accuracy: 0.7276\n",
      "Epoch 96/200\n",
      "1495/1495 [==============================] - 3s 2ms/step - loss: 0.5422 - accuracy: 0.7350 - val_loss: 0.5543 - val_accuracy: 0.7240\n",
      "Epoch 97/200\n",
      "1495/1495 [==============================] - 3s 2ms/step - loss: 0.5452 - accuracy: 0.7322 - val_loss: 0.5489 - val_accuracy: 0.7287\n",
      "Epoch 98/200\n",
      "1495/1495 [==============================] - 3s 2ms/step - loss: 0.5405 - accuracy: 0.7374 - val_loss: 0.5489 - val_accuracy: 0.7275\n",
      "Epoch 99/200\n",
      "1495/1495 [==============================] - 3s 2ms/step - loss: 0.5442 - accuracy: 0.7331 - val_loss: 0.5538 - val_accuracy: 0.7254\n",
      "Epoch 100/200\n",
      "1495/1495 [==============================] - 3s 2ms/step - loss: 0.5433 - accuracy: 0.7332 - val_loss: 0.5499 - val_accuracy: 0.7258\n",
      "Epoch 101/200\n",
      "1495/1495 [==============================] - 3s 2ms/step - loss: 0.5432 - accuracy: 0.7335 - val_loss: 0.5486 - val_accuracy: 0.7282\n",
      "Epoch 102/200\n",
      "1495/1495 [==============================] - 3s 2ms/step - loss: 0.5453 - accuracy: 0.7332 - val_loss: 0.5512 - val_accuracy: 0.7258\n",
      "Epoch 103/200\n",
      "1495/1495 [==============================] - 3s 2ms/step - loss: 0.5454 - accuracy: 0.7330 - val_loss: 0.5493 - val_accuracy: 0.7258\n",
      "Epoch 104/200\n",
      "1495/1495 [==============================] - 3s 2ms/step - loss: 0.5412 - accuracy: 0.7349 - val_loss: 0.5483 - val_accuracy: 0.7288\n",
      "Epoch 105/200\n",
      "1495/1495 [==============================] - 3s 2ms/step - loss: 0.5397 - accuracy: 0.7379 - val_loss: 0.5552 - val_accuracy: 0.7246\n",
      "Epoch 106/200\n",
      "1495/1495 [==============================] - 4s 2ms/step - loss: 0.5416 - accuracy: 0.7364 - val_loss: 0.5494 - val_accuracy: 0.7276\n",
      "Epoch 107/200\n",
      "1495/1495 [==============================] - 3s 2ms/step - loss: 0.5442 - accuracy: 0.7352 - val_loss: 0.5498 - val_accuracy: 0.7253\n",
      "Epoch 108/200\n",
      "1495/1495 [==============================] - 3s 2ms/step - loss: 0.5433 - accuracy: 0.7334 - val_loss: 0.5551 - val_accuracy: 0.7236\n",
      "Epoch 109/200\n",
      "1495/1495 [==============================] - 3s 2ms/step - loss: 0.5403 - accuracy: 0.7368 - val_loss: 0.5489 - val_accuracy: 0.7282\n",
      "Epoch 110/200\n",
      "1495/1495 [==============================] - 3s 2ms/step - loss: 0.5449 - accuracy: 0.7310 - val_loss: 0.5486 - val_accuracy: 0.7285\n",
      "Epoch 111/200\n",
      "1495/1495 [==============================] - 3s 2ms/step - loss: 0.5464 - accuracy: 0.7310 - val_loss: 0.5489 - val_accuracy: 0.7277\n",
      "Epoch 112/200\n",
      "1495/1495 [==============================] - 3s 2ms/step - loss: 0.5436 - accuracy: 0.7342 - val_loss: 0.5484 - val_accuracy: 0.7285\n",
      "Epoch 113/200\n",
      "1495/1495 [==============================] - 3s 2ms/step - loss: 0.5419 - accuracy: 0.7345 - val_loss: 0.5488 - val_accuracy: 0.7269\n",
      "Epoch 114/200\n",
      "1495/1495 [==============================] - 3s 2ms/step - loss: 0.5404 - accuracy: 0.7364 - val_loss: 0.5483 - val_accuracy: 0.7285\n",
      "Epoch 115/200\n",
      "1495/1495 [==============================] - 3s 2ms/step - loss: 0.5409 - accuracy: 0.7367 - val_loss: 0.5494 - val_accuracy: 0.7282\n",
      "Epoch 116/200\n",
      "1495/1495 [==============================] - 3s 2ms/step - loss: 0.5421 - accuracy: 0.7337 - val_loss: 0.5502 - val_accuracy: 0.7249\n",
      "Epoch 117/200\n",
      "1495/1495 [==============================] - 3s 2ms/step - loss: 0.5421 - accuracy: 0.7351 - val_loss: 0.5484 - val_accuracy: 0.7288\n",
      "Epoch 118/200\n",
      "1495/1495 [==============================] - 3s 2ms/step - loss: 0.5424 - accuracy: 0.7355 - val_loss: 0.5482 - val_accuracy: 0.7297\n",
      "Epoch 119/200\n",
      "1495/1495 [==============================] - 3s 2ms/step - loss: 0.5426 - accuracy: 0.7329 - val_loss: 0.5522 - val_accuracy: 0.7252\n",
      "Epoch 120/200\n",
      "1495/1495 [==============================] - 3s 2ms/step - loss: 0.5393 - accuracy: 0.7387 - val_loss: 0.5502 - val_accuracy: 0.7275\n",
      "Epoch 121/200\n",
      "1495/1495 [==============================] - 3s 2ms/step - loss: 0.5485 - accuracy: 0.7285 - val_loss: 0.5490 - val_accuracy: 0.7261\n",
      "Epoch 122/200\n",
      "1495/1495 [==============================] - 3s 2ms/step - loss: 0.5444 - accuracy: 0.7324 - val_loss: 0.5531 - val_accuracy: 0.7265\n",
      "Epoch 123/200\n",
      "1495/1495 [==============================] - 3s 2ms/step - loss: 0.5424 - accuracy: 0.7333 - val_loss: 0.5505 - val_accuracy: 0.7252\n",
      "Epoch 124/200\n",
      "1495/1495 [==============================] - 3s 2ms/step - loss: 0.5431 - accuracy: 0.7345 - val_loss: 0.5486 - val_accuracy: 0.7264\n",
      "Epoch 125/200\n",
      "1495/1495 [==============================] - 3s 2ms/step - loss: 0.5421 - accuracy: 0.7342 - val_loss: 0.5493 - val_accuracy: 0.7261\n",
      "Epoch 126/200\n",
      "1495/1495 [==============================] - 3s 2ms/step - loss: 0.5436 - accuracy: 0.7341 - val_loss: 0.5493 - val_accuracy: 0.7278\n",
      "Epoch 127/200\n",
      "1495/1495 [==============================] - 4s 2ms/step - loss: 0.5406 - accuracy: 0.7338 - val_loss: 0.5489 - val_accuracy: 0.7272\n",
      "Epoch 128/200\n",
      "1495/1495 [==============================] - 3s 2ms/step - loss: 0.5440 - accuracy: 0.7339 - val_loss: 0.5490 - val_accuracy: 0.7269\n",
      "Epoch 129/200\n",
      "1495/1495 [==============================] - 3s 2ms/step - loss: 0.5410 - accuracy: 0.7357 - val_loss: 0.5490 - val_accuracy: 0.7262\n",
      "Epoch 130/200\n",
      "1495/1495 [==============================] - 3s 2ms/step - loss: 0.5404 - accuracy: 0.7351 - val_loss: 0.5526 - val_accuracy: 0.7260\n",
      "Epoch 131/200\n",
      "1495/1495 [==============================] - 3s 2ms/step - loss: 0.5398 - accuracy: 0.7363 - val_loss: 0.5493 - val_accuracy: 0.7260\n",
      "Epoch 132/200\n",
      "1495/1495 [==============================] - 3s 2ms/step - loss: 0.5436 - accuracy: 0.7318 - val_loss: 0.5487 - val_accuracy: 0.7279\n",
      "Epoch 133/200\n",
      "1495/1495 [==============================] - 3s 2ms/step - loss: 0.5442 - accuracy: 0.7335 - val_loss: 0.5485 - val_accuracy: 0.7282\n",
      "Epoch 134/200\n",
      "1495/1495 [==============================] - 4s 2ms/step - loss: 0.5460 - accuracy: 0.7319 - val_loss: 0.5490 - val_accuracy: 0.7257\n",
      "Epoch 135/200\n",
      "1495/1495 [==============================] - 3s 2ms/step - loss: 0.5411 - accuracy: 0.7347 - val_loss: 0.5483 - val_accuracy: 0.7287\n",
      "Epoch 136/200\n",
      "1495/1495 [==============================] - 4s 2ms/step - loss: 0.5455 - accuracy: 0.7304 - val_loss: 0.5491 - val_accuracy: 0.7273\n",
      "Epoch 137/200\n",
      "1495/1495 [==============================] - 4s 2ms/step - loss: 0.5423 - accuracy: 0.7342 - val_loss: 0.5489 - val_accuracy: 0.7275\n",
      "Epoch 138/200\n",
      "1495/1495 [==============================] - 3s 2ms/step - loss: 0.5429 - accuracy: 0.7341 - val_loss: 0.5488 - val_accuracy: 0.7297\n",
      "Epoch 139/200\n",
      "1495/1495 [==============================] - 4s 2ms/step - loss: 0.5369 - accuracy: 0.7399 - val_loss: 0.5492 - val_accuracy: 0.7275\n",
      "Epoch 140/200\n",
      "1495/1495 [==============================] - 4s 2ms/step - loss: 0.5400 - accuracy: 0.7345 - val_loss: 0.5503 - val_accuracy: 0.7272\n",
      "Epoch 141/200\n",
      "1495/1495 [==============================] - 3s 2ms/step - loss: 0.5405 - accuracy: 0.7342 - val_loss: 0.5484 - val_accuracy: 0.7290\n",
      "Epoch 142/200\n",
      "1495/1495 [==============================] - 3s 2ms/step - loss: 0.5422 - accuracy: 0.7318 - val_loss: 0.5499 - val_accuracy: 0.7275\n",
      "Epoch 143/200\n",
      "1495/1495 [==============================] - 3s 2ms/step - loss: 0.5401 - accuracy: 0.7352 - val_loss: 0.5483 - val_accuracy: 0.7286\n",
      "Epoch 144/200\n",
      "1495/1495 [==============================] - 3s 2ms/step - loss: 0.5437 - accuracy: 0.7329 - val_loss: 0.5489 - val_accuracy: 0.7279\n",
      "Epoch 145/200\n",
      "1495/1495 [==============================] - 3s 2ms/step - loss: 0.5429 - accuracy: 0.7344 - val_loss: 0.5492 - val_accuracy: 0.7274\n",
      "Epoch 146/200\n",
      "1495/1495 [==============================] - 3s 2ms/step - loss: 0.5436 - accuracy: 0.7331 - val_loss: 0.5492 - val_accuracy: 0.7272\n",
      "Epoch 147/200\n",
      "1495/1495 [==============================] - 3s 2ms/step - loss: 0.5377 - accuracy: 0.7373 - val_loss: 0.5490 - val_accuracy: 0.7273\n",
      "Epoch 148/200\n",
      "1495/1495 [==============================] - 3s 2ms/step - loss: 0.5415 - accuracy: 0.7349 - val_loss: 0.5549 - val_accuracy: 0.7240\n",
      "Epoch 149/200\n",
      "1495/1495 [==============================] - 3s 2ms/step - loss: 0.5429 - accuracy: 0.7316 - val_loss: 0.5512 - val_accuracy: 0.7243\n",
      "Epoch 150/200\n",
      "1495/1495 [==============================] - 3s 2ms/step - loss: 0.5405 - accuracy: 0.7374 - val_loss: 0.5498 - val_accuracy: 0.7276\n",
      "Epoch 151/200\n",
      "1495/1495 [==============================] - 3s 2ms/step - loss: 0.5430 - accuracy: 0.7338 - val_loss: 0.5506 - val_accuracy: 0.7273\n",
      "Epoch 152/200\n",
      "1495/1495 [==============================] - 3s 2ms/step - loss: 0.5415 - accuracy: 0.7349 - val_loss: 0.5498 - val_accuracy: 0.7245\n",
      "Epoch 153/200\n",
      "1495/1495 [==============================] - 3s 2ms/step - loss: 0.5429 - accuracy: 0.7335 - val_loss: 0.5485 - val_accuracy: 0.7277\n",
      "Epoch 154/200\n",
      "1495/1495 [==============================] - 3s 2ms/step - loss: 0.5416 - accuracy: 0.7340 - val_loss: 0.5491 - val_accuracy: 0.7263\n",
      "Epoch 155/200\n",
      "1495/1495 [==============================] - 3s 2ms/step - loss: 0.5413 - accuracy: 0.7334 - val_loss: 0.5500 - val_accuracy: 0.7256\n",
      "Epoch 156/200\n",
      "1495/1495 [==============================] - 3s 2ms/step - loss: 0.5449 - accuracy: 0.7333 - val_loss: 0.5505 - val_accuracy: 0.7270\n",
      "Epoch 157/200\n",
      "1495/1495 [==============================] - 3s 2ms/step - loss: 0.5426 - accuracy: 0.7339 - val_loss: 0.5487 - val_accuracy: 0.7285\n",
      "Epoch 158/200\n",
      "1495/1495 [==============================] - 3s 2ms/step - loss: 0.5398 - accuracy: 0.7371 - val_loss: 0.5501 - val_accuracy: 0.7246\n",
      "Epoch 159/200\n",
      "1495/1495 [==============================] - 3s 2ms/step - loss: 0.5425 - accuracy: 0.7343 - val_loss: 0.5485 - val_accuracy: 0.7269\n",
      "Epoch 160/200\n",
      "1495/1495 [==============================] - 3s 2ms/step - loss: 0.5456 - accuracy: 0.7326 - val_loss: 0.5484 - val_accuracy: 0.7273\n",
      "Epoch 161/200\n",
      "1495/1495 [==============================] - 3s 2ms/step - loss: 0.5456 - accuracy: 0.7326 - val_loss: 0.5502 - val_accuracy: 0.7245\n",
      "Epoch 162/200\n",
      "1495/1495 [==============================] - 3s 2ms/step - loss: 0.5407 - accuracy: 0.7362 - val_loss: 0.5502 - val_accuracy: 0.7262\n",
      "Epoch 163/200\n",
      "1495/1495 [==============================] - 3s 2ms/step - loss: 0.5407 - accuracy: 0.7353 - val_loss: 0.5480 - val_accuracy: 0.7294\n",
      "Epoch 164/200\n",
      "1495/1495 [==============================] - 3s 2ms/step - loss: 0.5426 - accuracy: 0.7329 - val_loss: 0.5499 - val_accuracy: 0.7266\n",
      "Epoch 165/200\n",
      "1495/1495 [==============================] - 3s 2ms/step - loss: 0.5416 - accuracy: 0.7332 - val_loss: 0.5484 - val_accuracy: 0.7285\n",
      "Epoch 166/200\n",
      "1495/1495 [==============================] - 3s 2ms/step - loss: 0.5414 - accuracy: 0.7350 - val_loss: 0.5494 - val_accuracy: 0.7255\n",
      "Epoch 167/200\n",
      "1495/1495 [==============================] - 3s 2ms/step - loss: 0.5419 - accuracy: 0.7360 - val_loss: 0.5486 - val_accuracy: 0.7269\n",
      "Epoch 168/200\n",
      "1495/1495 [==============================] - 3s 2ms/step - loss: 0.5400 - accuracy: 0.7334 - val_loss: 0.5497 - val_accuracy: 0.7266\n",
      "Epoch 169/200\n",
      "1495/1495 [==============================] - 3s 2ms/step - loss: 0.5385 - accuracy: 0.7374 - val_loss: 0.5486 - val_accuracy: 0.7280\n",
      "Epoch 170/200\n",
      "1495/1495 [==============================] - 3s 2ms/step - loss: 0.5421 - accuracy: 0.7340 - val_loss: 0.5487 - val_accuracy: 0.7272\n",
      "Epoch 171/200\n",
      "1495/1495 [==============================] - 3s 2ms/step - loss: 0.5422 - accuracy: 0.7351 - val_loss: 0.5487 - val_accuracy: 0.7279\n",
      "Epoch 172/200\n",
      "1495/1495 [==============================] - 3s 2ms/step - loss: 0.5412 - accuracy: 0.7361 - val_loss: 0.5484 - val_accuracy: 0.7276\n",
      "Epoch 173/200\n",
      "1495/1495 [==============================] - 3s 2ms/step - loss: 0.5378 - accuracy: 0.7369 - val_loss: 0.5491 - val_accuracy: 0.7264\n",
      "Epoch 174/200\n",
      "1495/1495 [==============================] - 3s 2ms/step - loss: 0.5423 - accuracy: 0.7360 - val_loss: 0.5484 - val_accuracy: 0.7265\n",
      "Epoch 175/200\n",
      "1495/1495 [==============================] - 3s 2ms/step - loss: 0.5438 - accuracy: 0.7311 - val_loss: 0.5520 - val_accuracy: 0.7251\n",
      "Epoch 176/200\n",
      "1495/1495 [==============================] - 3s 2ms/step - loss: 0.5412 - accuracy: 0.7318 - val_loss: 0.5491 - val_accuracy: 0.7259\n",
      "Epoch 177/200\n",
      "1495/1495 [==============================] - 3s 2ms/step - loss: 0.5446 - accuracy: 0.7334 - val_loss: 0.5482 - val_accuracy: 0.7293\n",
      "Epoch 178/200\n",
      "1495/1495 [==============================] - 3s 2ms/step - loss: 0.5377 - accuracy: 0.7365 - val_loss: 0.5489 - val_accuracy: 0.7265\n",
      "Epoch 179/200\n",
      "1495/1495 [==============================] - 3s 2ms/step - loss: 0.5416 - accuracy: 0.7347 - val_loss: 0.5489 - val_accuracy: 0.7277\n",
      "Epoch 180/200\n",
      "1495/1495 [==============================] - 3s 2ms/step - loss: 0.5387 - accuracy: 0.7370 - val_loss: 0.5488 - val_accuracy: 0.7275\n",
      "Epoch 181/200\n",
      "1495/1495 [==============================] - 3s 2ms/step - loss: 0.5406 - accuracy: 0.7346 - val_loss: 0.5491 - val_accuracy: 0.7265\n",
      "Epoch 182/200\n",
      "1495/1495 [==============================] - 3s 2ms/step - loss: 0.5396 - accuracy: 0.7354 - val_loss: 0.5491 - val_accuracy: 0.7281\n",
      "Epoch 183/200\n",
      "1495/1495 [==============================] - 3s 2ms/step - loss: 0.5399 - accuracy: 0.7361 - val_loss: 0.5518 - val_accuracy: 0.7242\n",
      "Epoch 184/200\n",
      "1495/1495 [==============================] - 3s 2ms/step - loss: 0.5382 - accuracy: 0.7374 - val_loss: 0.5491 - val_accuracy: 0.7266\n",
      "Epoch 185/200\n",
      "1495/1495 [==============================] - 3s 2ms/step - loss: 0.5396 - accuracy: 0.7357 - val_loss: 0.5517 - val_accuracy: 0.7256\n",
      "Epoch 186/200\n",
      "1495/1495 [==============================] - 3s 2ms/step - loss: 0.5396 - accuracy: 0.7364 - val_loss: 0.5483 - val_accuracy: 0.7275\n",
      "Epoch 187/200\n",
      "1495/1495 [==============================] - 3s 2ms/step - loss: 0.5395 - accuracy: 0.7348 - val_loss: 0.5491 - val_accuracy: 0.7278\n",
      "Epoch 188/200\n",
      "1495/1495 [==============================] - 3s 2ms/step - loss: 0.5400 - accuracy: 0.7376 - val_loss: 0.5484 - val_accuracy: 0.7284\n",
      "Epoch 189/200\n",
      "1495/1495 [==============================] - 3s 2ms/step - loss: 0.5414 - accuracy: 0.7362 - val_loss: 0.5484 - val_accuracy: 0.7280\n",
      "Epoch 190/200\n",
      "1495/1495 [==============================] - 3s 2ms/step - loss: 0.5387 - accuracy: 0.7351 - val_loss: 0.5485 - val_accuracy: 0.7283\n",
      "Epoch 191/200\n",
      "1495/1495 [==============================] - 3s 2ms/step - loss: 0.5442 - accuracy: 0.7311 - val_loss: 0.5492 - val_accuracy: 0.7262\n",
      "Epoch 192/200\n",
      "1495/1495 [==============================] - 3s 2ms/step - loss: 0.5415 - accuracy: 0.7348 - val_loss: 0.5487 - val_accuracy: 0.7287\n",
      "Epoch 193/200\n",
      "1495/1495 [==============================] - 3s 2ms/step - loss: 0.5415 - accuracy: 0.7333 - val_loss: 0.5487 - val_accuracy: 0.7280\n",
      "Epoch 194/200\n",
      "1495/1495 [==============================] - 3s 2ms/step - loss: 0.5393 - accuracy: 0.7382 - val_loss: 0.5495 - val_accuracy: 0.7269\n",
      "Epoch 195/200\n",
      "1495/1495 [==============================] - 3s 2ms/step - loss: 0.5409 - accuracy: 0.7377 - val_loss: 0.5495 - val_accuracy: 0.7268\n",
      "Epoch 196/200\n",
      "1495/1495 [==============================] - 3s 2ms/step - loss: 0.5430 - accuracy: 0.7326 - val_loss: 0.5489 - val_accuracy: 0.7273\n",
      "Epoch 197/200\n",
      "1495/1495 [==============================] - 3s 2ms/step - loss: 0.5395 - accuracy: 0.7350 - val_loss: 0.5482 - val_accuracy: 0.7289\n",
      "Epoch 198/200\n",
      "1495/1495 [==============================] - 3s 2ms/step - loss: 0.5397 - accuracy: 0.7354 - val_loss: 0.5492 - val_accuracy: 0.7283\n",
      "Epoch 199/200\n",
      "1495/1495 [==============================] - 3s 2ms/step - loss: 0.5413 - accuracy: 0.7362 - val_loss: 0.5506 - val_accuracy: 0.7254\n",
      "Epoch 200/200\n",
      "1495/1495 [==============================] - 3s 2ms/step - loss: 0.5387 - accuracy: 0.7364 - val_loss: 0.5488 - val_accuracy: 0.7282\n"
     ]
    }
   ],
   "source": [
    "hist = model.fit(x_train, y_train,          \n",
    "                 batch_size=32, epochs=200,          \n",
    "                 validation_data=(x_val, y_val))"
   ]
  },
  {
   "cell_type": "code",
   "execution_count": 89,
   "id": "paperback-resource",
   "metadata": {},
   "outputs": [
    {
     "name": "stdout",
     "output_type": "stream",
     "text": [
      "321/321 [==============================] - 1s 2ms/step - loss: 0.5366 - accuracy: 0.7336\n"
     ]
    },
    {
     "data": {
      "text/plain": [
       "0.7335545420646667"
      ]
     },
     "execution_count": 89,
     "metadata": {},
     "output_type": "execute_result"
    }
   ],
   "source": [
    "model.evaluate(x_test, y_test)[1]"
   ]
  },
  {
   "cell_type": "code",
   "execution_count": 90,
   "id": "trained-marine",
   "metadata": {},
   "outputs": [
    {
     "data": {
      "image/png": "[encoded data removed]",
      "text/plain": [
       "<Figure size 432x288 with 1 Axes>"
      ]
     },
     "metadata": {
      "needs_background": "light"
     },
     "output_type": "display_data"
    }
   ],
   "source": [
    "import matplotlib.pyplot as plt\n",
    "plt.plot(hist.history['loss'])\n",
    "plt.plot(hist.history['val_loss'])\n",
    "plt.title('Model loss')\n",
    "plt.ylabel('Loss')\n",
    "plt.xlabel('Epoch')\n",
    "plt.legend(['Train', 'Val'], loc='upper right')\n",
    "plt.show()"
   ]
  },
  {
   "cell_type": "code",
   "execution_count": null,
   "id": "confidential-edgar",
   "metadata": {},
   "outputs": [],
   "source": []
  },
  {
   "cell_type": "code",
   "execution_count": 91,
   "id": "surprised-target",
   "metadata": {},
   "outputs": [
    {
     "data": {
      "image/png": "[encoded data removed]",
      "text/plain": [
       "<Figure size 432x288 with 1 Axes>"
      ]
     },
     "metadata": {
      "needs_background": "light"
     },
     "output_type": "display_data"
    }
   ],
   "source": [
    "plt.plot(hist.history['accuracy'])\n",
    "plt.plot(hist.history['val_accuracy'])\n",
    "plt.title('Model accuracy')\n",
    "plt.ylabel('Accuracy')\n",
    "plt.xlabel('Epoch')\n",
    "plt.legend(['Train', 'Val'], loc='lower right')\n",
    "plt.show()"
   ]
  },
  {
   "cell_type": "code",
   "execution_count": 96,
   "id": "anticipated-honduras",
   "metadata": {},
   "outputs": [],
   "source": [
    "from keras.models import Sequential\n",
    "from keras.layers import Dense\n",
    "\n",
    "model = Sequential([ Dense(16, activation='relu', input_shape=(11,)),    \n",
    "                    Dense(16, activation='relu'),    \n",
    "                    Dense(1, activation='sigmoid'),])"
   ]
  },
  {
   "cell_type": "code",
   "execution_count": 97,
   "id": "thermal-suspension",
   "metadata": {},
   "outputs": [],
   "source": [
    "model.compile(optimizer='adam',   loss='binary_crossentropy',   metrics=['accuracy'])"
   ]
  },
  {
   "cell_type": "code",
   "execution_count": 98,
   "id": "strange-edwards",
   "metadata": {},
   "outputs": [
    {
     "name": "stdout",
     "output_type": "stream",
     "text": [
      "Epoch 1/200\n",
      "1495/1495 [==============================] - 5s 3ms/step - loss: 0.6174 - accuracy: 0.6566 - val_loss: 0.5704 - val_accuracy: 0.7141\n",
      "Epoch 2/200\n",
      "1495/1495 [==============================] - 3s 2ms/step - loss: 0.5638 - accuracy: 0.7210 - val_loss: 0.5621 - val_accuracy: 0.7247\n",
      "Epoch 3/200\n",
      "1495/1495 [==============================] - 3s 2ms/step - loss: 0.5592 - accuracy: 0.7241 - val_loss: 0.5762 - val_accuracy: 0.7160\n",
      "Epoch 4/200\n",
      "1495/1495 [==============================] - 3s 2ms/step - loss: 0.5538 - accuracy: 0.7294 - val_loss: 0.5597 - val_accuracy: 0.7251\n",
      "Epoch 5/200\n",
      "1495/1495 [==============================] - 3s 2ms/step - loss: 0.5543 - accuracy: 0.7265 - val_loss: 0.5574 - val_accuracy: 0.7245\n",
      "Epoch 6/200\n",
      "1495/1495 [==============================] - 3s 2ms/step - loss: 0.5520 - accuracy: 0.7289 - val_loss: 0.5614 - val_accuracy: 0.7234\n",
      "Epoch 7/200\n",
      "1495/1495 [==============================] - 3s 2ms/step - loss: 0.5506 - accuracy: 0.7284 - val_loss: 0.5565 - val_accuracy: 0.7253\n",
      "Epoch 8/200\n",
      "1495/1495 [==============================] - 4s 2ms/step - loss: 0.5509 - accuracy: 0.7286 - val_loss: 0.5552 - val_accuracy: 0.7256\n",
      "Epoch 9/200\n",
      "1495/1495 [==============================] - 4s 2ms/step - loss: 0.5489 - accuracy: 0.7305 - val_loss: 0.5537 - val_accuracy: 0.7265\n",
      "Epoch 10/200\n",
      "1495/1495 [==============================] - 4s 2ms/step - loss: 0.5521 - accuracy: 0.7283 - val_loss: 0.5532 - val_accuracy: 0.7274\n",
      "Epoch 11/200\n",
      "1495/1495 [==============================] - 4s 2ms/step - loss: 0.5484 - accuracy: 0.7324 - val_loss: 0.5536 - val_accuracy: 0.7249\n",
      "Epoch 12/200\n",
      "1495/1495 [==============================] - 4s 2ms/step - loss: 0.5470 - accuracy: 0.7323 - val_loss: 0.5532 - val_accuracy: 0.7260\n",
      "Epoch 13/200\n",
      "1495/1495 [==============================] - 4s 2ms/step - loss: 0.5486 - accuracy: 0.7319 - val_loss: 0.5529 - val_accuracy: 0.7270\n",
      "Epoch 14/200\n",
      "1495/1495 [==============================] - 4s 2ms/step - loss: 0.5456 - accuracy: 0.7324 - val_loss: 0.5527 - val_accuracy: 0.7264\n",
      "Epoch 15/200\n",
      "1495/1495 [==============================] - 4s 2ms/step - loss: 0.5445 - accuracy: 0.7328 - val_loss: 0.5533 - val_accuracy: 0.7267\n",
      "Epoch 16/200\n",
      "1495/1495 [==============================] - 4s 2ms/step - loss: 0.5469 - accuracy: 0.7311 - val_loss: 0.5525 - val_accuracy: 0.7256\n",
      "Epoch 17/200\n",
      "1495/1495 [==============================] - 4s 2ms/step - loss: 0.5441 - accuracy: 0.7335 - val_loss: 0.5517 - val_accuracy: 0.7262\n",
      "Epoch 18/200\n",
      "1495/1495 [==============================] - 4s 2ms/step - loss: 0.5481 - accuracy: 0.7295 - val_loss: 0.5512 - val_accuracy: 0.7271\n",
      "Epoch 19/200\n",
      "1495/1495 [==============================] - 4s 2ms/step - loss: 0.5485 - accuracy: 0.7298 - val_loss: 0.5528 - val_accuracy: 0.7261\n",
      "Epoch 20/200\n",
      "1495/1495 [==============================] - 4s 2ms/step - loss: 0.5457 - accuracy: 0.7319 - val_loss: 0.5509 - val_accuracy: 0.7269\n",
      "Epoch 21/200\n",
      "1495/1495 [==============================] - 4s 2ms/step - loss: 0.5423 - accuracy: 0.7355 - val_loss: 0.5508 - val_accuracy: 0.7260\n",
      "Epoch 22/200\n",
      "1495/1495 [==============================] - 4s 2ms/step - loss: 0.5491 - accuracy: 0.7283 - val_loss: 0.5515 - val_accuracy: 0.7281\n",
      "Epoch 23/200\n",
      "1495/1495 [==============================] - 4s 2ms/step - loss: 0.5439 - accuracy: 0.7345 - val_loss: 0.5508 - val_accuracy: 0.7263\n",
      "Epoch 24/200\n",
      "1495/1495 [==============================] - 4s 2ms/step - loss: 0.5466 - accuracy: 0.7299 - val_loss: 0.5512 - val_accuracy: 0.7257\n",
      "Epoch 25/200\n",
      "1495/1495 [==============================] - 4s 3ms/step - loss: 0.5423 - accuracy: 0.7352 - val_loss: 0.5506 - val_accuracy: 0.7276\n",
      "Epoch 26/200\n",
      "1495/1495 [==============================] - 4s 2ms/step - loss: 0.5434 - accuracy: 0.7319 - val_loss: 0.5514 - val_accuracy: 0.7250\n",
      "Epoch 27/200\n",
      "1495/1495 [==============================] - 4s 2ms/step - loss: 0.5441 - accuracy: 0.7335 - val_loss: 0.5495 - val_accuracy: 0.7279\n",
      "Epoch 28/200\n",
      "1495/1495 [==============================] - 4s 2ms/step - loss: 0.5449 - accuracy: 0.7333 - val_loss: 0.5513 - val_accuracy: 0.7258\n",
      "Epoch 29/200\n",
      "1495/1495 [==============================] - 4s 2ms/step - loss: 0.5458 - accuracy: 0.7338 - val_loss: 0.5513 - val_accuracy: 0.7249\n",
      "Epoch 30/200\n",
      "1495/1495 [==============================] - 4s 2ms/step - loss: 0.5432 - accuracy: 0.7346 - val_loss: 0.5520 - val_accuracy: 0.7255\n",
      "Epoch 31/200\n",
      "1495/1495 [==============================] - 3s 2ms/step - loss: 0.5431 - accuracy: 0.7361 - val_loss: 0.5505 - val_accuracy: 0.7249\n",
      "Epoch 32/200\n",
      "1495/1495 [==============================] - 4s 3ms/step - loss: 0.5447 - accuracy: 0.7337 - val_loss: 0.5499 - val_accuracy: 0.7262\n",
      "Epoch 33/200\n",
      "1495/1495 [==============================] - 4s 2ms/step - loss: 0.5437 - accuracy: 0.7326 - val_loss: 0.5498 - val_accuracy: 0.7280\n",
      "Epoch 34/200\n",
      "1495/1495 [==============================] - 4s 2ms/step - loss: 0.5388 - accuracy: 0.7354 - val_loss: 0.5505 - val_accuracy: 0.7247\n",
      "Epoch 35/200\n",
      "1495/1495 [==============================] - 3s 2ms/step - loss: 0.5449 - accuracy: 0.7325 - val_loss: 0.5499 - val_accuracy: 0.7266\n",
      "Epoch 36/200\n",
      "1495/1495 [==============================] - 3s 2ms/step - loss: 0.5434 - accuracy: 0.7346 - val_loss: 0.5497 - val_accuracy: 0.7261\n",
      "Epoch 37/200\n",
      "1495/1495 [==============================] - 4s 2ms/step - loss: 0.5443 - accuracy: 0.7321 - val_loss: 0.5509 - val_accuracy: 0.7279\n",
      "Epoch 38/200\n",
      "1495/1495 [==============================] - 4s 2ms/step - loss: 0.5433 - accuracy: 0.7331 - val_loss: 0.5496 - val_accuracy: 0.7259\n",
      "Epoch 39/200\n",
      "1495/1495 [==============================] - 3s 2ms/step - loss: 0.5418 - accuracy: 0.7326 - val_loss: 0.5543 - val_accuracy: 0.7240\n",
      "Epoch 40/200\n",
      "1495/1495 [==============================] - 4s 2ms/step - loss: 0.5419 - accuracy: 0.7364 - val_loss: 0.5498 - val_accuracy: 0.7276\n",
      "Epoch 41/200\n",
      "1495/1495 [==============================] - 4s 2ms/step - loss: 0.5437 - accuracy: 0.7331 - val_loss: 0.5490 - val_accuracy: 0.7280\n",
      "Epoch 42/200\n",
      "1495/1495 [==============================] - 4s 2ms/step - loss: 0.5489 - accuracy: 0.7307 - val_loss: 0.5494 - val_accuracy: 0.7264\n",
      "Epoch 43/200\n",
      "1495/1495 [==============================] - 4s 2ms/step - loss: 0.5434 - accuracy: 0.7329 - val_loss: 0.5492 - val_accuracy: 0.7281\n",
      "Epoch 44/200\n",
      "1495/1495 [==============================] - 4s 2ms/step - loss: 0.5415 - accuracy: 0.7377 - val_loss: 0.5496 - val_accuracy: 0.7263\n",
      "Epoch 45/200\n",
      "1495/1495 [==============================] - 4s 2ms/step - loss: 0.5449 - accuracy: 0.7309 - val_loss: 0.5501 - val_accuracy: 0.7269\n",
      "Epoch 46/200\n",
      "1495/1495 [==============================] - 4s 2ms/step - loss: 0.5439 - accuracy: 0.7306 - val_loss: 0.5497 - val_accuracy: 0.7273\n",
      "Epoch 47/200\n",
      "1495/1495 [==============================] - 4s 2ms/step - loss: 0.5445 - accuracy: 0.7336 - val_loss: 0.5486 - val_accuracy: 0.7285\n",
      "Epoch 48/200\n",
      "1495/1495 [==============================] - 4s 2ms/step - loss: 0.5437 - accuracy: 0.7351 - val_loss: 0.5492 - val_accuracy: 0.7282\n",
      "Epoch 49/200\n",
      "1495/1495 [==============================] - 4s 2ms/step - loss: 0.5417 - accuracy: 0.7346 - val_loss: 0.5484 - val_accuracy: 0.7277\n",
      "Epoch 50/200\n",
      "1495/1495 [==============================] - 4s 2ms/step - loss: 0.5425 - accuracy: 0.7324 - val_loss: 0.5502 - val_accuracy: 0.7263\n",
      "Epoch 51/200\n",
      "1495/1495 [==============================] - 4s 2ms/step - loss: 0.5444 - accuracy: 0.7325 - val_loss: 0.5491 - val_accuracy: 0.7272\n",
      "Epoch 52/200\n",
      "1495/1495 [==============================] - 4s 2ms/step - loss: 0.5415 - accuracy: 0.7368 - val_loss: 0.5485 - val_accuracy: 0.7291\n",
      "Epoch 53/200\n",
      "1495/1495 [==============================] - 4s 2ms/step - loss: 0.5437 - accuracy: 0.7343 - val_loss: 0.5497 - val_accuracy: 0.7248\n",
      "Epoch 54/200\n",
      "1495/1495 [==============================] - 4s 2ms/step - loss: 0.5429 - accuracy: 0.7345 - val_loss: 0.5489 - val_accuracy: 0.7276\n",
      "Epoch 55/200\n",
      "1495/1495 [==============================] - 4s 2ms/step - loss: 0.5399 - accuracy: 0.7366 - val_loss: 0.5521 - val_accuracy: 0.7285\n",
      "Epoch 56/200\n",
      "1495/1495 [==============================] - 4s 2ms/step - loss: 0.5450 - accuracy: 0.7314 - val_loss: 0.5511 - val_accuracy: 0.7271\n",
      "Epoch 57/200\n",
      "1495/1495 [==============================] - 3s 2ms/step - loss: 0.5432 - accuracy: 0.7319 - val_loss: 0.5480 - val_accuracy: 0.7275\n",
      "Epoch 58/200\n",
      "1495/1495 [==============================] - 3s 2ms/step - loss: 0.5408 - accuracy: 0.7356 - val_loss: 0.5484 - val_accuracy: 0.7289\n",
      "Epoch 59/200\n",
      "1495/1495 [==============================] - 3s 2ms/step - loss: 0.5416 - accuracy: 0.7348 - val_loss: 0.5483 - val_accuracy: 0.7297\n",
      "Epoch 60/200\n",
      "1495/1495 [==============================] - 3s 2ms/step - loss: 0.5413 - accuracy: 0.7349 - val_loss: 0.5509 - val_accuracy: 0.7266\n",
      "Epoch 61/200\n",
      "1495/1495 [==============================] - 4s 2ms/step - loss: 0.5454 - accuracy: 0.7319 - val_loss: 0.5492 - val_accuracy: 0.7295\n",
      "Epoch 62/200\n",
      "1495/1495 [==============================] - 4s 2ms/step - loss: 0.5398 - accuracy: 0.7367 - val_loss: 0.5500 - val_accuracy: 0.7275\n",
      "Epoch 63/200\n",
      "1495/1495 [==============================] - 3s 2ms/step - loss: 0.5410 - accuracy: 0.7355 - val_loss: 0.5490 - val_accuracy: 0.7277\n",
      "Epoch 64/200\n",
      "1495/1495 [==============================] - 4s 2ms/step - loss: 0.5394 - accuracy: 0.7368 - val_loss: 0.5483 - val_accuracy: 0.7281\n",
      "Epoch 65/200\n",
      "1495/1495 [==============================] - 4s 2ms/step - loss: 0.5421 - accuracy: 0.7351 - val_loss: 0.5487 - val_accuracy: 0.7267\n",
      "Epoch 66/200\n",
      "1495/1495 [==============================] - 4s 2ms/step - loss: 0.5421 - accuracy: 0.7348 - val_loss: 0.5499 - val_accuracy: 0.7282\n",
      "Epoch 67/200\n",
      "1495/1495 [==============================] - 4s 2ms/step - loss: 0.5449 - accuracy: 0.7338 - val_loss: 0.5484 - val_accuracy: 0.7303\n",
      "Epoch 68/200\n",
      "1495/1495 [==============================] - 4s 2ms/step - loss: 0.5415 - accuracy: 0.7325 - val_loss: 0.5511 - val_accuracy: 0.7269\n",
      "Epoch 69/200\n",
      "1495/1495 [==============================] - 3s 2ms/step - loss: 0.5409 - accuracy: 0.7353 - val_loss: 0.5481 - val_accuracy: 0.7290\n",
      "Epoch 70/200\n",
      "1495/1495 [==============================] - 3s 2ms/step - loss: 0.5416 - accuracy: 0.7376 - val_loss: 0.5507 - val_accuracy: 0.7258\n",
      "Epoch 71/200\n",
      "1495/1495 [==============================] - 3s 2ms/step - loss: 0.5404 - accuracy: 0.7357 - val_loss: 0.5479 - val_accuracy: 0.7293\n",
      "Epoch 72/200\n",
      "1495/1495 [==============================] - 3s 2ms/step - loss: 0.5422 - accuracy: 0.7334 - val_loss: 0.5490 - val_accuracy: 0.7282\n",
      "Epoch 73/200\n",
      "1495/1495 [==============================] - 3s 2ms/step - loss: 0.5439 - accuracy: 0.7332 - val_loss: 0.5476 - val_accuracy: 0.7281\n",
      "Epoch 74/200\n",
      "1495/1495 [==============================] - 4s 2ms/step - loss: 0.5389 - accuracy: 0.7351 - val_loss: 0.5482 - val_accuracy: 0.7293\n",
      "Epoch 75/200\n",
      "1495/1495 [==============================] - 3s 2ms/step - loss: 0.5433 - accuracy: 0.7342 - val_loss: 0.5489 - val_accuracy: 0.7277\n",
      "Epoch 76/200\n",
      "1495/1495 [==============================] - 3s 2ms/step - loss: 0.5418 - accuracy: 0.7346 - val_loss: 0.5484 - val_accuracy: 0.7291\n",
      "Epoch 77/200\n",
      "1495/1495 [==============================] - 3s 2ms/step - loss: 0.5389 - accuracy: 0.7343 - val_loss: 0.5523 - val_accuracy: 0.7248\n",
      "Epoch 78/200\n",
      "1495/1495 [==============================] - 4s 2ms/step - loss: 0.5399 - accuracy: 0.7374 - val_loss: 0.5481 - val_accuracy: 0.7289\n",
      "Epoch 79/200\n",
      "1495/1495 [==============================] - 3s 2ms/step - loss: 0.5421 - accuracy: 0.7348 - val_loss: 0.5475 - val_accuracy: 0.7296\n",
      "Epoch 80/200\n",
      "1495/1495 [==============================] - 4s 2ms/step - loss: 0.5371 - accuracy: 0.7401 - val_loss: 0.5481 - val_accuracy: 0.7270\n",
      "Epoch 81/200\n",
      "1495/1495 [==============================] - 4s 2ms/step - loss: 0.5413 - accuracy: 0.7351 - val_loss: 0.5484 - val_accuracy: 0.7287\n",
      "Epoch 82/200\n",
      "1495/1495 [==============================] - 3s 2ms/step - loss: 0.5410 - accuracy: 0.7319 - val_loss: 0.5481 - val_accuracy: 0.7297\n",
      "Epoch 83/200\n",
      "1495/1495 [==============================] - 3s 2ms/step - loss: 0.5397 - accuracy: 0.7360 - val_loss: 0.5476 - val_accuracy: 0.7282\n",
      "Epoch 84/200\n",
      "1495/1495 [==============================] - 3s 2ms/step - loss: 0.5425 - accuracy: 0.7338 - val_loss: 0.5490 - val_accuracy: 0.7281\n",
      "Epoch 85/200\n",
      "1495/1495 [==============================] - 4s 2ms/step - loss: 0.5405 - accuracy: 0.7374 - val_loss: 0.5492 - val_accuracy: 0.7277\n",
      "Epoch 86/200\n",
      "1495/1495 [==============================] - 4s 2ms/step - loss: 0.5439 - accuracy: 0.7333 - val_loss: 0.5488 - val_accuracy: 0.7269\n",
      "Epoch 87/200\n",
      "1495/1495 [==============================] - 4s 2ms/step - loss: 0.5436 - accuracy: 0.7339 - val_loss: 0.5477 - val_accuracy: 0.7293\n",
      "Epoch 88/200\n",
      "1495/1495 [==============================] - 4s 2ms/step - loss: 0.5414 - accuracy: 0.7348 - val_loss: 0.5483 - val_accuracy: 0.7282\n",
      "Epoch 89/200\n",
      "1495/1495 [==============================] - 4s 3ms/step - loss: 0.5394 - accuracy: 0.7391 - val_loss: 0.5484 - val_accuracy: 0.7292\n",
      "Epoch 90/200\n",
      "1495/1495 [==============================] - 4s 3ms/step - loss: 0.5474 - accuracy: 0.7304 - val_loss: 0.5549 - val_accuracy: 0.7256\n",
      "Epoch 91/200\n",
      "1495/1495 [==============================] - 3s 2ms/step - loss: 0.5374 - accuracy: 0.7371 - val_loss: 0.5481 - val_accuracy: 0.7298\n",
      "Epoch 92/200\n",
      "1495/1495 [==============================] - 4s 2ms/step - loss: 0.5375 - accuracy: 0.7379 - val_loss: 0.5494 - val_accuracy: 0.7280\n",
      "Epoch 93/200\n",
      "1495/1495 [==============================] - 4s 2ms/step - loss: 0.5400 - accuracy: 0.7373 - val_loss: 0.5494 - val_accuracy: 0.7267\n",
      "Epoch 94/200\n",
      "1495/1495 [==============================] - 4s 2ms/step - loss: 0.5411 - accuracy: 0.7348 - val_loss: 0.5509 - val_accuracy: 0.7283\n",
      "Epoch 95/200\n",
      "1495/1495 [==============================] - 4s 2ms/step - loss: 0.5477 - accuracy: 0.7308 - val_loss: 0.5516 - val_accuracy: 0.7273\n",
      "Epoch 96/200\n",
      "1495/1495 [==============================] - 3s 2ms/step - loss: 0.5437 - accuracy: 0.7328 - val_loss: 0.5491 - val_accuracy: 0.7275\n",
      "Epoch 97/200\n",
      "1495/1495 [==============================] - 4s 2ms/step - loss: 0.5409 - accuracy: 0.7348 - val_loss: 0.5517 - val_accuracy: 0.7294\n",
      "Epoch 98/200\n",
      "1495/1495 [==============================] - 3s 2ms/step - loss: 0.5393 - accuracy: 0.7370 - val_loss: 0.5489 - val_accuracy: 0.7283\n",
      "Epoch 99/200\n",
      "1495/1495 [==============================] - 4s 2ms/step - loss: 0.5392 - accuracy: 0.7376 - val_loss: 0.5493 - val_accuracy: 0.7284\n",
      "Epoch 100/200\n",
      "1495/1495 [==============================] - 4s 2ms/step - loss: 0.5423 - accuracy: 0.7336 - val_loss: 0.5489 - val_accuracy: 0.7278\n",
      "Epoch 101/200\n",
      "1495/1495 [==============================] - 4s 2ms/step - loss: 0.5428 - accuracy: 0.7339 - val_loss: 0.5481 - val_accuracy: 0.7286\n",
      "Epoch 102/200\n",
      "1495/1495 [==============================] - 4s 2ms/step - loss: 0.5372 - accuracy: 0.7377 - val_loss: 0.5514 - val_accuracy: 0.7269\n",
      "Epoch 103/200\n",
      "1495/1495 [==============================] - 4s 2ms/step - loss: 0.5437 - accuracy: 0.7325 - val_loss: 0.5479 - val_accuracy: 0.7302\n",
      "Epoch 104/200\n",
      "1495/1495 [==============================] - 3s 2ms/step - loss: 0.5446 - accuracy: 0.7323 - val_loss: 0.5489 - val_accuracy: 0.7271\n",
      "Epoch 105/200\n",
      "1495/1495 [==============================] - 4s 2ms/step - loss: 0.5418 - accuracy: 0.7341 - val_loss: 0.5489 - val_accuracy: 0.7269\n",
      "Epoch 106/200\n",
      "1495/1495 [==============================] - 3s 2ms/step - loss: 0.5370 - accuracy: 0.7385 - val_loss: 0.5486 - val_accuracy: 0.7279\n",
      "Epoch 107/200\n",
      "1495/1495 [==============================] - 4s 2ms/step - loss: 0.5420 - accuracy: 0.7352 - val_loss: 0.5488 - val_accuracy: 0.7270\n",
      "Epoch 108/200\n",
      "1495/1495 [==============================] - 4s 2ms/step - loss: 0.5399 - accuracy: 0.7356 - val_loss: 0.5502 - val_accuracy: 0.7278\n",
      "Epoch 109/200\n",
      "1495/1495 [==============================] - 4s 2ms/step - loss: 0.5418 - accuracy: 0.7341 - val_loss: 0.5498 - val_accuracy: 0.7275\n",
      "Epoch 110/200\n",
      "1495/1495 [==============================] - 4s 2ms/step - loss: 0.5394 - accuracy: 0.7371 - val_loss: 0.5502 - val_accuracy: 0.7296\n",
      "Epoch 111/200\n",
      "1495/1495 [==============================] - 4s 2ms/step - loss: 0.5424 - accuracy: 0.7330 - val_loss: 0.5503 - val_accuracy: 0.7284\n",
      "Epoch 112/200\n",
      "1495/1495 [==============================] - 4s 2ms/step - loss: 0.5429 - accuracy: 0.7349 - val_loss: 0.5488 - val_accuracy: 0.7262\n",
      "Epoch 113/200\n",
      "1495/1495 [==============================] - 4s 2ms/step - loss: 0.5379 - accuracy: 0.7352 - val_loss: 0.5495 - val_accuracy: 0.7269\n",
      "Epoch 114/200\n",
      "1495/1495 [==============================] - 4s 2ms/step - loss: 0.5397 - accuracy: 0.7361 - val_loss: 0.5504 - val_accuracy: 0.7275\n",
      "Epoch 115/200\n",
      "1495/1495 [==============================] - 4s 2ms/step - loss: 0.5395 - accuracy: 0.7360 - val_loss: 0.5498 - val_accuracy: 0.7291\n",
      "Epoch 116/200\n",
      "1495/1495 [==============================] - 3s 2ms/step - loss: 0.5403 - accuracy: 0.7373 - val_loss: 0.5490 - val_accuracy: 0.7272\n",
      "Epoch 117/200\n",
      "1495/1495 [==============================] - 4s 3ms/step - loss: 0.5391 - accuracy: 0.7374 - val_loss: 0.5489 - val_accuracy: 0.7281\n",
      "Epoch 118/200\n",
      "1495/1495 [==============================] - 3s 2ms/step - loss: 0.5414 - accuracy: 0.7331 - val_loss: 0.5497 - val_accuracy: 0.7285\n",
      "Epoch 119/200\n",
      "1495/1495 [==============================] - 4s 2ms/step - loss: 0.5403 - accuracy: 0.7368 - val_loss: 0.5512 - val_accuracy: 0.7280\n",
      "Epoch 120/200\n",
      "1495/1495 [==============================] - 3s 2ms/step - loss: 0.5339 - accuracy: 0.7395 - val_loss: 0.5490 - val_accuracy: 0.7295\n",
      "Epoch 121/200\n",
      "1495/1495 [==============================] - 3s 2ms/step - loss: 0.5377 - accuracy: 0.7377 - val_loss: 0.5487 - val_accuracy: 0.7293\n",
      "Epoch 122/200\n",
      "1495/1495 [==============================] - 3s 2ms/step - loss: 0.5421 - accuracy: 0.7322 - val_loss: 0.5495 - val_accuracy: 0.7276\n",
      "Epoch 123/200\n",
      "1495/1495 [==============================] - 3s 2ms/step - loss: 0.5431 - accuracy: 0.7346 - val_loss: 0.5490 - val_accuracy: 0.7277\n",
      "Epoch 124/200\n",
      "1495/1495 [==============================] - 3s 2ms/step - loss: 0.5382 - accuracy: 0.7358 - val_loss: 0.5498 - val_accuracy: 0.7269\n",
      "Epoch 125/200\n",
      "1495/1495 [==============================] - 3s 2ms/step - loss: 0.5380 - accuracy: 0.7387 - val_loss: 0.5485 - val_accuracy: 0.7281\n",
      "Epoch 126/200\n",
      "1495/1495 [==============================] - 4s 2ms/step - loss: 0.5397 - accuracy: 0.7356 - val_loss: 0.5496 - val_accuracy: 0.7278\n",
      "Epoch 127/200\n",
      "1495/1495 [==============================] - 3s 2ms/step - loss: 0.5356 - accuracy: 0.7417 - val_loss: 0.5510 - val_accuracy: 0.7278\n",
      "Epoch 128/200\n",
      "1495/1495 [==============================] - 3s 2ms/step - loss: 0.5405 - accuracy: 0.7365 - val_loss: 0.5501 - val_accuracy: 0.7270\n",
      "Epoch 129/200\n",
      "1495/1495 [==============================] - 3s 2ms/step - loss: 0.5383 - accuracy: 0.7371 - val_loss: 0.5492 - val_accuracy: 0.7273\n",
      "Epoch 130/200\n",
      "1495/1495 [==============================] - 3s 2ms/step - loss: 0.5401 - accuracy: 0.7360 - val_loss: 0.5499 - val_accuracy: 0.7265\n",
      "Epoch 131/200\n",
      "1495/1495 [==============================] - 4s 2ms/step - loss: 0.5405 - accuracy: 0.7360 - val_loss: 0.5492 - val_accuracy: 0.7295\n",
      "Epoch 132/200\n",
      "1495/1495 [==============================] - 3s 2ms/step - loss: 0.5416 - accuracy: 0.7360 - val_loss: 0.5493 - val_accuracy: 0.7291\n",
      "Epoch 133/200\n",
      "1495/1495 [==============================] - 3s 2ms/step - loss: 0.5420 - accuracy: 0.7339 - val_loss: 0.5500 - val_accuracy: 0.7275\n",
      "Epoch 134/200\n",
      "1495/1495 [==============================] - 3s 2ms/step - loss: 0.5406 - accuracy: 0.7346 - val_loss: 0.5492 - val_accuracy: 0.7264\n",
      "Epoch 135/200\n",
      "1495/1495 [==============================] - 4s 3ms/step - loss: 0.5418 - accuracy: 0.7338 - val_loss: 0.5514 - val_accuracy: 0.7267\n",
      "Epoch 136/200\n",
      "1495/1495 [==============================] - 3s 2ms/step - loss: 0.5379 - accuracy: 0.7381 - val_loss: 0.5488 - val_accuracy: 0.7265\n",
      "Epoch 137/200\n",
      "1495/1495 [==============================] - 4s 2ms/step - loss: 0.5415 - accuracy: 0.7346 - val_loss: 0.5507 - val_accuracy: 0.7269\n",
      "Epoch 138/200\n",
      "1495/1495 [==============================] - 3s 2ms/step - loss: 0.5416 - accuracy: 0.7338 - val_loss: 0.5492 - val_accuracy: 0.7282\n",
      "Epoch 139/200\n",
      "1495/1495 [==============================] - 3s 2ms/step - loss: 0.5412 - accuracy: 0.7348 - val_loss: 0.5490 - val_accuracy: 0.7266\n",
      "Epoch 140/200\n",
      "1495/1495 [==============================] - 3s 2ms/step - loss: 0.5415 - accuracy: 0.7317 - val_loss: 0.5513 - val_accuracy: 0.7290\n",
      "Epoch 141/200\n",
      "1495/1495 [==============================] - 3s 2ms/step - loss: 0.5422 - accuracy: 0.7332 - val_loss: 0.5506 - val_accuracy: 0.7272\n",
      "Epoch 142/200\n",
      "1495/1495 [==============================] - 3s 2ms/step - loss: 0.5365 - accuracy: 0.7382 - val_loss: 0.5493 - val_accuracy: 0.7275\n",
      "Epoch 143/200\n",
      "1495/1495 [==============================] - 3s 2ms/step - loss: 0.5368 - accuracy: 0.7397 - val_loss: 0.5504 - val_accuracy: 0.7276\n",
      "Epoch 144/200\n",
      "1495/1495 [==============================] - 3s 2ms/step - loss: 0.5413 - accuracy: 0.7373 - val_loss: 0.5499 - val_accuracy: 0.7285\n",
      "Epoch 145/200\n",
      "1495/1495 [==============================] - 4s 2ms/step - loss: 0.5380 - accuracy: 0.7372 - val_loss: 0.5501 - val_accuracy: 0.7272\n",
      "Epoch 146/200\n",
      "1495/1495 [==============================] - 5s 3ms/step - loss: 0.5410 - accuracy: 0.7343 - val_loss: 0.5499 - val_accuracy: 0.7277\n",
      "Epoch 147/200\n",
      "1495/1495 [==============================] - 3s 2ms/step - loss: 0.5423 - accuracy: 0.7329 - val_loss: 0.5506 - val_accuracy: 0.7266\n",
      "Epoch 148/200\n",
      "1495/1495 [==============================] - 3s 2ms/step - loss: 0.5401 - accuracy: 0.7358 - val_loss: 0.5494 - val_accuracy: 0.7272\n",
      "Epoch 149/200\n",
      "1495/1495 [==============================] - 3s 2ms/step - loss: 0.5362 - accuracy: 0.7391 - val_loss: 0.5558 - val_accuracy: 0.7254\n",
      "Epoch 150/200\n",
      "1495/1495 [==============================] - 3s 2ms/step - loss: 0.5380 - accuracy: 0.7338 - val_loss: 0.5506 - val_accuracy: 0.7255\n",
      "Epoch 151/200\n",
      "1495/1495 [==============================] - 4s 2ms/step - loss: 0.5401 - accuracy: 0.7334 - val_loss: 0.5490 - val_accuracy: 0.7292\n",
      "Epoch 152/200\n",
      "1495/1495 [==============================] - 3s 2ms/step - loss: 0.5392 - accuracy: 0.7359 - val_loss: 0.5505 - val_accuracy: 0.7267\n",
      "Epoch 153/200\n",
      "1495/1495 [==============================] - 4s 3ms/step - loss: 0.5393 - accuracy: 0.7349 - val_loss: 0.5496 - val_accuracy: 0.7277\n",
      "Epoch 154/200\n",
      "1495/1495 [==============================] - 4s 2ms/step - loss: 0.5423 - accuracy: 0.7330 - val_loss: 0.5522 - val_accuracy: 0.7270\n",
      "Epoch 155/200\n",
      "1495/1495 [==============================] - 3s 2ms/step - loss: 0.5423 - accuracy: 0.7320 - val_loss: 0.5491 - val_accuracy: 0.7270\n",
      "Epoch 156/200\n",
      "1495/1495 [==============================] - 3s 2ms/step - loss: 0.5369 - accuracy: 0.7377 - val_loss: 0.5491 - val_accuracy: 0.7289\n",
      "Epoch 157/200\n",
      "1495/1495 [==============================] - 3s 2ms/step - loss: 0.5413 - accuracy: 0.7326 - val_loss: 0.5497 - val_accuracy: 0.7276\n",
      "Epoch 158/200\n",
      "1495/1495 [==============================] - 3s 2ms/step - loss: 0.5367 - accuracy: 0.7387 - val_loss: 0.5491 - val_accuracy: 0.7264\n",
      "Epoch 159/200\n",
      "1495/1495 [==============================] - 3s 2ms/step - loss: 0.5390 - accuracy: 0.7356 - val_loss: 0.5486 - val_accuracy: 0.7283\n",
      "Epoch 160/200\n",
      "1495/1495 [==============================] - 3s 2ms/step - loss: 0.5369 - accuracy: 0.7383 - val_loss: 0.5490 - val_accuracy: 0.7295\n",
      "Epoch 161/200\n",
      "1495/1495 [==============================] - 4s 2ms/step - loss: 0.5358 - accuracy: 0.7400 - val_loss: 0.5494 - val_accuracy: 0.7277\n",
      "Epoch 162/200\n",
      "1495/1495 [==============================] - 3s 2ms/step - loss: 0.5389 - accuracy: 0.7344 - val_loss: 0.5511 - val_accuracy: 0.7263\n",
      "Epoch 163/200\n",
      "1495/1495 [==============================] - 4s 3ms/step - loss: 0.5426 - accuracy: 0.7331 - val_loss: 0.5502 - val_accuracy: 0.7275\n",
      "Epoch 164/200\n",
      "1495/1495 [==============================] - 4s 2ms/step - loss: 0.5381 - accuracy: 0.7386 - val_loss: 0.5501 - val_accuracy: 0.7250\n",
      "Epoch 165/200\n",
      "1495/1495 [==============================] - 4s 2ms/step - loss: 0.5391 - accuracy: 0.7374 - val_loss: 0.5495 - val_accuracy: 0.7279\n",
      "Epoch 166/200\n",
      "1495/1495 [==============================] - 3s 2ms/step - loss: 0.5409 - accuracy: 0.7339 - val_loss: 0.5520 - val_accuracy: 0.7269\n",
      "Epoch 167/200\n",
      "1495/1495 [==============================] - 3s 2ms/step - loss: 0.5404 - accuracy: 0.7369 - val_loss: 0.5507 - val_accuracy: 0.7279\n",
      "Epoch 168/200\n",
      "1495/1495 [==============================] - 3s 2ms/step - loss: 0.5401 - accuracy: 0.7366 - val_loss: 0.5499 - val_accuracy: 0.7273\n",
      "Epoch 169/200\n",
      "1495/1495 [==============================] - 3s 2ms/step - loss: 0.5395 - accuracy: 0.7361 - val_loss: 0.5488 - val_accuracy: 0.7278\n",
      "Epoch 170/200\n",
      "1495/1495 [==============================] - 3s 2ms/step - loss: 0.5413 - accuracy: 0.7342 - val_loss: 0.5516 - val_accuracy: 0.7258\n",
      "Epoch 171/200\n",
      "1495/1495 [==============================] - 3s 2ms/step - loss: 0.5428 - accuracy: 0.7326 - val_loss: 0.5514 - val_accuracy: 0.7245\n",
      "Epoch 172/200\n",
      "1495/1495 [==============================] - 3s 2ms/step - loss: 0.5392 - accuracy: 0.7368 - val_loss: 0.5489 - val_accuracy: 0.7269\n",
      "Epoch 173/200\n",
      "1495/1495 [==============================] - 3s 2ms/step - loss: 0.5404 - accuracy: 0.7364 - val_loss: 0.5501 - val_accuracy: 0.7264\n",
      "Epoch 174/200\n",
      "1495/1495 [==============================] - 3s 2ms/step - loss: 0.5342 - accuracy: 0.7402 - val_loss: 0.5508 - val_accuracy: 0.7260\n",
      "Epoch 175/200\n",
      "1495/1495 [==============================] - 3s 2ms/step - loss: 0.5364 - accuracy: 0.7374 - val_loss: 0.5505 - val_accuracy: 0.7269\n",
      "Epoch 176/200\n",
      "1495/1495 [==============================] - 3s 2ms/step - loss: 0.5372 - accuracy: 0.7368 - val_loss: 0.5503 - val_accuracy: 0.7262\n",
      "Epoch 177/200\n",
      "1495/1495 [==============================] - 3s 2ms/step - loss: 0.5425 - accuracy: 0.7338 - val_loss: 0.5498 - val_accuracy: 0.7271\n",
      "Epoch 178/200\n",
      "1495/1495 [==============================] - 3s 2ms/step - loss: 0.5385 - accuracy: 0.7387 - val_loss: 0.5507 - val_accuracy: 0.7276\n",
      "Epoch 179/200\n",
      "1495/1495 [==============================] - 3s 2ms/step - loss: 0.5340 - accuracy: 0.7409 - val_loss: 0.5496 - val_accuracy: 0.7271\n",
      "Epoch 180/200\n",
      "1495/1495 [==============================] - 3s 2ms/step - loss: 0.5405 - accuracy: 0.7341 - val_loss: 0.5503 - val_accuracy: 0.7264\n",
      "Epoch 181/200\n",
      "1495/1495 [==============================] - 3s 2ms/step - loss: 0.5377 - accuracy: 0.7365 - val_loss: 0.5484 - val_accuracy: 0.7271\n",
      "Epoch 182/200\n",
      "1495/1495 [==============================] - 3s 2ms/step - loss: 0.5428 - accuracy: 0.7364 - val_loss: 0.5502 - val_accuracy: 0.7252\n",
      "Epoch 183/200\n",
      "1495/1495 [==============================] - 3s 2ms/step - loss: 0.5389 - accuracy: 0.7340 - val_loss: 0.5488 - val_accuracy: 0.7263\n",
      "Epoch 184/200\n",
      "1495/1495 [==============================] - 3s 2ms/step - loss: 0.5426 - accuracy: 0.7327 - val_loss: 0.5529 - val_accuracy: 0.7250\n",
      "Epoch 185/200\n",
      "1495/1495 [==============================] - 3s 2ms/step - loss: 0.5379 - accuracy: 0.7382 - val_loss: 0.5495 - val_accuracy: 0.7277\n",
      "Epoch 186/200\n",
      "1495/1495 [==============================] - 3s 2ms/step - loss: 0.5402 - accuracy: 0.7364 - val_loss: 0.5514 - val_accuracy: 0.7274\n",
      "Epoch 187/200\n",
      "1495/1495 [==============================] - 3s 2ms/step - loss: 0.5357 - accuracy: 0.7394 - val_loss: 0.5501 - val_accuracy: 0.7258\n",
      "Epoch 188/200\n",
      "1495/1495 [==============================] - 3s 2ms/step - loss: 0.5361 - accuracy: 0.7381 - val_loss: 0.5486 - val_accuracy: 0.7281\n",
      "Epoch 189/200\n",
      "1495/1495 [==============================] - 3s 2ms/step - loss: 0.5370 - accuracy: 0.7375 - val_loss: 0.5494 - val_accuracy: 0.7262\n",
      "Epoch 190/200\n",
      "1495/1495 [==============================] - 3s 2ms/step - loss: 0.5363 - accuracy: 0.7376 - val_loss: 0.5501 - val_accuracy: 0.7276\n",
      "Epoch 191/200\n",
      "1495/1495 [==============================] - 3s 2ms/step - loss: 0.5391 - accuracy: 0.7351 - val_loss: 0.5506 - val_accuracy: 0.7258\n",
      "Epoch 192/200\n",
      "1495/1495 [==============================] - 3s 2ms/step - loss: 0.5395 - accuracy: 0.7377 - val_loss: 0.5507 - val_accuracy: 0.7258\n",
      "Epoch 193/200\n",
      "1495/1495 [==============================] - 3s 2ms/step - loss: 0.5408 - accuracy: 0.7346 - val_loss: 0.5504 - val_accuracy: 0.7270\n",
      "Epoch 194/200\n",
      "1495/1495 [==============================] - 3s 2ms/step - loss: 0.5380 - accuracy: 0.7377 - val_loss: 0.5491 - val_accuracy: 0.7270\n",
      "Epoch 195/200\n",
      "1495/1495 [==============================] - 3s 2ms/step - loss: 0.5383 - accuracy: 0.7364 - val_loss: 0.5497 - val_accuracy: 0.7274\n",
      "Epoch 196/200\n",
      "1495/1495 [==============================] - 3s 2ms/step - loss: 0.5401 - accuracy: 0.7351 - val_loss: 0.5499 - val_accuracy: 0.7256\n",
      "Epoch 197/200\n",
      "1495/1495 [==============================] - 3s 2ms/step - loss: 0.5364 - accuracy: 0.7374 - val_loss: 0.5527 - val_accuracy: 0.7245\n",
      "Epoch 198/200\n",
      "1495/1495 [==============================] - 3s 2ms/step - loss: 0.5384 - accuracy: 0.7377 - val_loss: 0.5502 - val_accuracy: 0.7277\n",
      "Epoch 199/200\n",
      "1495/1495 [==============================] - 3s 2ms/step - loss: 0.5412 - accuracy: 0.7340 - val_loss: 0.5503 - val_accuracy: 0.7268\n",
      "Epoch 200/200\n",
      "1495/1495 [==============================] - 3s 2ms/step - loss: 0.5433 - accuracy: 0.7334 - val_loss: 0.5498 - val_accuracy: 0.7265\n"
     ]
    }
   ],
   "source": [
    "hist = model.fit(x_train, y_train,          \n",
    "                 batch_size=32, epochs=200,          \n",
    "                 validation_data=(x_val, y_val))"
   ]
  },
  {
   "cell_type": "code",
   "execution_count": 99,
   "id": "thick-robert",
   "metadata": {},
   "outputs": [
    {
     "data": {
      "image/png": "[encoded data removed]",
      "text/plain": [
       "<Figure size 432x288 with 1 Axes>"
      ]
     },
     "metadata": {
      "needs_background": "light"
     },
     "output_type": "display_data"
    }
   ],
   "source": [
    "import matplotlib.pyplot as plt\n",
    "plt.plot(hist.history['loss'])\n",
    "plt.plot(hist.history['val_loss'])\n",
    "plt.title('Model loss')\n",
    "plt.ylabel('Loss')\n",
    "plt.xlabel('Epoch')\n",
    "plt.legend(['Train', 'Val'], loc='upper right')\n",
    "plt.show()"
   ]
  },
  {
   "cell_type": "code",
   "execution_count": 100,
   "id": "decent-edmonton",
   "metadata": {},
   "outputs": [
    {
     "data": {
      "image/png": "[encoded data removed]",
      "text/plain": [
       "<Figure size 432x288 with 1 Axes>"
      ]
     },
     "metadata": {
      "needs_background": "light"
     },
     "output_type": "display_data"
    }
   ],
   "source": [
    "plt.plot(hist.history['accuracy'])\n",
    "plt.plot(hist.history['val_accuracy'])\n",
    "plt.title('Model accuracy')\n",
    "plt.ylabel('Accuracy')\n",
    "plt.xlabel('Epoch')\n",
    "plt.legend(['Train', 'Val'], loc='lower right')\n",
    "plt.show()"
   ]
  },
  {
   "cell_type": "code",
   "execution_count": 101,
   "id": "colored-dividend",
   "metadata": {},
   "outputs": [],
   "source": [
    "from keras.models import Sequential\n",
    "from keras.layers import Dense\n",
    "\n",
    "model = Sequential([ Dense(32, activation='relu', input_shape=(11,)),    \n",
    "                    Dense(32, activation='relu'), \n",
    "                    Dense(16 , activation = 'relu'),\n",
    "                    Dense(1, activation='sigmoid'),])"
   ]
  },
  {
   "cell_type": "code",
   "execution_count": 102,
   "id": "minimal-amplifier",
   "metadata": {},
   "outputs": [],
   "source": [
    "model.compile(optimizer='adam',   loss='binary_crossentropy',   metrics=['accuracy'])"
   ]
  },
  {
   "cell_type": "code",
   "execution_count": 103,
   "id": "intense-effects",
   "metadata": {},
   "outputs": [
    {
     "name": "stdout",
     "output_type": "stream",
     "text": [
      "Epoch 1/200\n",
      "1495/1495 [==============================] - 5s 3ms/step - loss: 0.6003 - accuracy: 0.6812 - val_loss: 0.5591 - val_accuracy: 0.7247\n",
      "Epoch 2/200\n",
      "1495/1495 [==============================] - 4s 3ms/step - loss: 0.5539 - accuracy: 0.7259 - val_loss: 0.5563 - val_accuracy: 0.7254\n",
      "Epoch 3/200\n",
      "1495/1495 [==============================] - 4s 2ms/step - loss: 0.5554 - accuracy: 0.7266 - val_loss: 0.5566 - val_accuracy: 0.7233\n",
      "Epoch 4/200\n",
      "1495/1495 [==============================] - 4s 3ms/step - loss: 0.5520 - accuracy: 0.7275 - val_loss: 0.5546 - val_accuracy: 0.7243\n",
      "Epoch 5/200\n",
      "1495/1495 [==============================] - 4s 2ms/step - loss: 0.5492 - accuracy: 0.7313 - val_loss: 0.5545 - val_accuracy: 0.7273\n",
      "Epoch 6/200\n",
      "1495/1495 [==============================] - 4s 2ms/step - loss: 0.5470 - accuracy: 0.7334 - val_loss: 0.5557 - val_accuracy: 0.7180\n",
      "Epoch 7/200\n",
      "1495/1495 [==============================] - 4s 2ms/step - loss: 0.5450 - accuracy: 0.7328 - val_loss: 0.5511 - val_accuracy: 0.7283\n",
      "Epoch 8/200\n",
      "1495/1495 [==============================] - 4s 3ms/step - loss: 0.5468 - accuracy: 0.7310 - val_loss: 0.5495 - val_accuracy: 0.7283\n",
      "Epoch 9/200\n",
      "1495/1495 [==============================] - 4s 3ms/step - loss: 0.5429 - accuracy: 0.7349 - val_loss: 0.5499 - val_accuracy: 0.7274\n",
      "Epoch 10/200\n",
      "1495/1495 [==============================] - 4s 3ms/step - loss: 0.5430 - accuracy: 0.7339 - val_loss: 0.5503 - val_accuracy: 0.7259\n",
      "Epoch 11/200\n",
      "1495/1495 [==============================] - 4s 2ms/step - loss: 0.5487 - accuracy: 0.7321 - val_loss: 0.5520 - val_accuracy: 0.7275\n",
      "Epoch 12/200\n",
      "1495/1495 [==============================] - 4s 3ms/step - loss: 0.5455 - accuracy: 0.7325 - val_loss: 0.5502 - val_accuracy: 0.7256\n",
      "Epoch 13/200\n",
      "1495/1495 [==============================] - 4s 2ms/step - loss: 0.5455 - accuracy: 0.7332 - val_loss: 0.5509 - val_accuracy: 0.7282\n",
      "Epoch 14/200\n",
      "1495/1495 [==============================] - 3s 2ms/step - loss: 0.5449 - accuracy: 0.7347 - val_loss: 0.5518 - val_accuracy: 0.7278\n",
      "Epoch 15/200\n",
      "1495/1495 [==============================] - 4s 2ms/step - loss: 0.5470 - accuracy: 0.7308 - val_loss: 0.5532 - val_accuracy: 0.7260\n",
      "Epoch 16/200\n",
      "1495/1495 [==============================] - 4s 2ms/step - loss: 0.5424 - accuracy: 0.7340 - val_loss: 0.5514 - val_accuracy: 0.7244\n",
      "Epoch 17/200\n",
      "1495/1495 [==============================] - 4s 2ms/step - loss: 0.5450 - accuracy: 0.7333 - val_loss: 0.5510 - val_accuracy: 0.7263\n",
      "Epoch 18/200\n",
      "1495/1495 [==============================] - 4s 2ms/step - loss: 0.5412 - accuracy: 0.7355 - val_loss: 0.5500 - val_accuracy: 0.7270\n",
      "Epoch 19/200\n",
      "1495/1495 [==============================] - 4s 2ms/step - loss: 0.5419 - accuracy: 0.7348 - val_loss: 0.5536 - val_accuracy: 0.7237\n",
      "Epoch 20/200\n",
      "1495/1495 [==============================] - 4s 2ms/step - loss: 0.5446 - accuracy: 0.7325 - val_loss: 0.5517 - val_accuracy: 0.7247\n",
      "Epoch 21/200\n",
      "1495/1495 [==============================] - 4s 2ms/step - loss: 0.5414 - accuracy: 0.7363 - val_loss: 0.5527 - val_accuracy: 0.7257\n",
      "Epoch 22/200\n",
      "1495/1495 [==============================] - 3s 2ms/step - loss: 0.5435 - accuracy: 0.7339 - val_loss: 0.5499 - val_accuracy: 0.7288\n",
      "Epoch 23/200\n",
      "1495/1495 [==============================] - 4s 2ms/step - loss: 0.5445 - accuracy: 0.7309 - val_loss: 0.5502 - val_accuracy: 0.7281\n",
      "Epoch 24/200\n",
      "1495/1495 [==============================] - 4s 3ms/step - loss: 0.5377 - accuracy: 0.7382 - val_loss: 0.5513 - val_accuracy: 0.7237\n",
      "Epoch 25/200\n",
      "1495/1495 [==============================] - 4s 3ms/step - loss: 0.5384 - accuracy: 0.7361 - val_loss: 0.5514 - val_accuracy: 0.7248\n",
      "Epoch 26/200\n",
      "1495/1495 [==============================] - 4s 2ms/step - loss: 0.5421 - accuracy: 0.7337 - val_loss: 0.5531 - val_accuracy: 0.7269\n",
      "Epoch 27/200\n",
      "1495/1495 [==============================] - 4s 2ms/step - loss: 0.5441 - accuracy: 0.7346 - val_loss: 0.5547 - val_accuracy: 0.7225\n",
      "Epoch 28/200\n",
      "1495/1495 [==============================] - 4s 2ms/step - loss: 0.5402 - accuracy: 0.7361 - val_loss: 0.5494 - val_accuracy: 0.7261\n",
      "Epoch 29/200\n",
      "1495/1495 [==============================] - 4s 2ms/step - loss: 0.5427 - accuracy: 0.7343 - val_loss: 0.5511 - val_accuracy: 0.7263\n",
      "Epoch 30/200\n",
      "1495/1495 [==============================] - 4s 3ms/step - loss: 0.5425 - accuracy: 0.7337 - val_loss: 0.5516 - val_accuracy: 0.7256\n",
      "Epoch 31/200\n",
      "1495/1495 [==============================] - 4s 2ms/step - loss: 0.5453 - accuracy: 0.7333 - val_loss: 0.5492 - val_accuracy: 0.7247\n",
      "Epoch 32/200\n",
      "1495/1495 [==============================] - 4s 3ms/step - loss: 0.5417 - accuracy: 0.7327 - val_loss: 0.5531 - val_accuracy: 0.7244\n",
      "Epoch 33/200\n",
      "1495/1495 [==============================] - 4s 2ms/step - loss: 0.5435 - accuracy: 0.7342 - val_loss: 0.5512 - val_accuracy: 0.7274\n",
      "Epoch 34/200\n",
      "1495/1495 [==============================] - 4s 2ms/step - loss: 0.5380 - accuracy: 0.7368 - val_loss: 0.5484 - val_accuracy: 0.7276\n",
      "Epoch 35/200\n",
      "1495/1495 [==============================] - 4s 2ms/step - loss: 0.5424 - accuracy: 0.7322 - val_loss: 0.5493 - val_accuracy: 0.7277\n",
      "Epoch 36/200\n",
      "1495/1495 [==============================] - 4s 3ms/step - loss: 0.5371 - accuracy: 0.7369 - val_loss: 0.5499 - val_accuracy: 0.7260\n",
      "Epoch 37/200\n",
      "1495/1495 [==============================] - 4s 2ms/step - loss: 0.5387 - accuracy: 0.7362 - val_loss: 0.5506 - val_accuracy: 0.7271\n",
      "Epoch 38/200\n",
      "1495/1495 [==============================] - 4s 2ms/step - loss: 0.5415 - accuracy: 0.7373 - val_loss: 0.5496 - val_accuracy: 0.7268\n",
      "Epoch 39/200\n",
      "1495/1495 [==============================] - 4s 2ms/step - loss: 0.5402 - accuracy: 0.7359 - val_loss: 0.5491 - val_accuracy: 0.7283\n",
      "Epoch 40/200\n",
      "1495/1495 [==============================] - 4s 2ms/step - loss: 0.5410 - accuracy: 0.7362 - val_loss: 0.5512 - val_accuracy: 0.7285\n",
      "Epoch 41/200\n",
      "1495/1495 [==============================] - 4s 2ms/step - loss: 0.5400 - accuracy: 0.7349 - val_loss: 0.5504 - val_accuracy: 0.7261\n",
      "Epoch 42/200\n",
      "1495/1495 [==============================] - 4s 3ms/step - loss: 0.5425 - accuracy: 0.7348 - val_loss: 0.5500 - val_accuracy: 0.7298\n",
      "Epoch 43/200\n",
      "1495/1495 [==============================] - 4s 2ms/step - loss: 0.5406 - accuracy: 0.7342 - val_loss: 0.5490 - val_accuracy: 0.7275\n",
      "Epoch 44/200\n",
      "1495/1495 [==============================] - 4s 2ms/step - loss: 0.5368 - accuracy: 0.7359 - val_loss: 0.5530 - val_accuracy: 0.7251\n",
      "Epoch 45/200\n",
      "1495/1495 [==============================] - 4s 2ms/step - loss: 0.5413 - accuracy: 0.7343 - val_loss: 0.5532 - val_accuracy: 0.7278\n",
      "Epoch 46/200\n",
      "1495/1495 [==============================] - 4s 2ms/step - loss: 0.5382 - accuracy: 0.7381 - val_loss: 0.5505 - val_accuracy: 0.7263\n",
      "Epoch 47/200\n",
      "1495/1495 [==============================] - 4s 2ms/step - loss: 0.5379 - accuracy: 0.7381 - val_loss: 0.5502 - val_accuracy: 0.7270\n",
      "Epoch 48/200\n",
      "1495/1495 [==============================] - 4s 3ms/step - loss: 0.5409 - accuracy: 0.7363 - val_loss: 0.5489 - val_accuracy: 0.7266\n",
      "Epoch 49/200\n",
      "1495/1495 [==============================] - 4s 2ms/step - loss: 0.5395 - accuracy: 0.7357 - val_loss: 0.5506 - val_accuracy: 0.7272\n",
      "Epoch 50/200\n",
      "1495/1495 [==============================] - 4s 3ms/step - loss: 0.5429 - accuracy: 0.7306 - val_loss: 0.5498 - val_accuracy: 0.7273\n",
      "Epoch 51/200\n",
      "1495/1495 [==============================] - 4s 2ms/step - loss: 0.5385 - accuracy: 0.7371 - val_loss: 0.5502 - val_accuracy: 0.7300\n",
      "Epoch 52/200\n",
      "1495/1495 [==============================] - 3s 2ms/step - loss: 0.5402 - accuracy: 0.7367 - val_loss: 0.5524 - val_accuracy: 0.7251\n",
      "Epoch 53/200\n",
      "1495/1495 [==============================] - 4s 3ms/step - loss: 0.5391 - accuracy: 0.7335 - val_loss: 0.5501 - val_accuracy: 0.7271\n",
      "Epoch 54/200\n",
      "1495/1495 [==============================] - 4s 2ms/step - loss: 0.5444 - accuracy: 0.7326 - val_loss: 0.5491 - val_accuracy: 0.7300\n",
      "Epoch 55/200\n",
      "1495/1495 [==============================] - 4s 2ms/step - loss: 0.5400 - accuracy: 0.7373 - val_loss: 0.5498 - val_accuracy: 0.7274\n",
      "Epoch 56/200\n",
      "1495/1495 [==============================] - 4s 3ms/step - loss: 0.5389 - accuracy: 0.7361 - val_loss: 0.5508 - val_accuracy: 0.7259\n",
      "Epoch 57/200\n",
      "1495/1495 [==============================] - 4s 2ms/step - loss: 0.5393 - accuracy: 0.7359 - val_loss: 0.5557 - val_accuracy: 0.7260\n",
      "Epoch 58/200\n",
      "1495/1495 [==============================] - 4s 2ms/step - loss: 0.5402 - accuracy: 0.7343 - val_loss: 0.5505 - val_accuracy: 0.7256\n",
      "Epoch 59/200\n",
      "1495/1495 [==============================] - 4s 2ms/step - loss: 0.5412 - accuracy: 0.7340 - val_loss: 0.5498 - val_accuracy: 0.7289\n",
      "Epoch 60/200\n",
      "1495/1495 [==============================] - 4s 2ms/step - loss: 0.5363 - accuracy: 0.7359 - val_loss: 0.5505 - val_accuracy: 0.7265\n",
      "Epoch 61/200\n",
      "1495/1495 [==============================] - 4s 2ms/step - loss: 0.5358 - accuracy: 0.7396 - val_loss: 0.5532 - val_accuracy: 0.7257\n",
      "Epoch 62/200\n",
      "1495/1495 [==============================] - 4s 2ms/step - loss: 0.5368 - accuracy: 0.7382 - val_loss: 0.5496 - val_accuracy: 0.7295\n",
      "Epoch 63/200\n",
      "1495/1495 [==============================] - 4s 2ms/step - loss: 0.5344 - accuracy: 0.7392 - val_loss: 0.5493 - val_accuracy: 0.7270\n",
      "Epoch 64/200\n",
      "1495/1495 [==============================] - 4s 2ms/step - loss: 0.5319 - accuracy: 0.7409 - val_loss: 0.5508 - val_accuracy: 0.7281\n",
      "Epoch 65/200\n",
      "1495/1495 [==============================] - 4s 2ms/step - loss: 0.5389 - accuracy: 0.7372 - val_loss: 0.5524 - val_accuracy: 0.7247\n",
      "Epoch 66/200\n",
      "1495/1495 [==============================] - 3s 2ms/step - loss: 0.5380 - accuracy: 0.7375 - val_loss: 0.5517 - val_accuracy: 0.7246\n",
      "Epoch 67/200\n",
      "1495/1495 [==============================] - 4s 2ms/step - loss: 0.5362 - accuracy: 0.7382 - val_loss: 0.5513 - val_accuracy: 0.7262\n",
      "Epoch 68/200\n",
      "1495/1495 [==============================] - 4s 2ms/step - loss: 0.5348 - accuracy: 0.7416 - val_loss: 0.5515 - val_accuracy: 0.7263\n",
      "Epoch 69/200\n",
      "1495/1495 [==============================] - 4s 3ms/step - loss: 0.5393 - accuracy: 0.7386 - val_loss: 0.5540 - val_accuracy: 0.7274\n",
      "Epoch 70/200\n",
      "1495/1495 [==============================] - 4s 2ms/step - loss: 0.5373 - accuracy: 0.7359 - val_loss: 0.5513 - val_accuracy: 0.7273\n",
      "Epoch 71/200\n",
      "1495/1495 [==============================] - 4s 2ms/step - loss: 0.5412 - accuracy: 0.7346 - val_loss: 0.5522 - val_accuracy: 0.7256\n",
      "Epoch 72/200\n",
      "1495/1495 [==============================] - 4s 2ms/step - loss: 0.5352 - accuracy: 0.7411 - val_loss: 0.5532 - val_accuracy: 0.7235\n",
      "Epoch 73/200\n",
      "1495/1495 [==============================] - 4s 2ms/step - loss: 0.5397 - accuracy: 0.7348 - val_loss: 0.5509 - val_accuracy: 0.7279\n",
      "Epoch 74/200\n",
      "1495/1495 [==============================] - 4s 3ms/step - loss: 0.5356 - accuracy: 0.7364 - val_loss: 0.5539 - val_accuracy: 0.7245\n",
      "Epoch 75/200\n",
      "1495/1495 [==============================] - 4s 2ms/step - loss: 0.5338 - accuracy: 0.7392 - val_loss: 0.5505 - val_accuracy: 0.7280\n",
      "Epoch 76/200\n",
      "1495/1495 [==============================] - 4s 3ms/step - loss: 0.5350 - accuracy: 0.7390 - val_loss: 0.5530 - val_accuracy: 0.7270\n",
      "Epoch 77/200\n",
      "1495/1495 [==============================] - 4s 2ms/step - loss: 0.5411 - accuracy: 0.7339 - val_loss: 0.5509 - val_accuracy: 0.7279\n",
      "Epoch 78/200\n",
      "1495/1495 [==============================] - 3s 2ms/step - loss: 0.5348 - accuracy: 0.7375 - val_loss: 0.5524 - val_accuracy: 0.7270\n",
      "Epoch 79/200\n",
      "1495/1495 [==============================] - 4s 2ms/step - loss: 0.5359 - accuracy: 0.7368 - val_loss: 0.5523 - val_accuracy: 0.7276\n",
      "Epoch 80/200\n",
      "1495/1495 [==============================] - 4s 2ms/step - loss: 0.5399 - accuracy: 0.7362 - val_loss: 0.5543 - val_accuracy: 0.7253\n",
      "Epoch 81/200\n",
      "1495/1495 [==============================] - 4s 2ms/step - loss: 0.5382 - accuracy: 0.7355 - val_loss: 0.5515 - val_accuracy: 0.7268\n",
      "Epoch 82/200\n",
      "1495/1495 [==============================] - 3s 2ms/step - loss: 0.5358 - accuracy: 0.7399 - val_loss: 0.5529 - val_accuracy: 0.7257\n",
      "Epoch 83/200\n",
      "1495/1495 [==============================] - 5s 3ms/step - loss: 0.5372 - accuracy: 0.7360 - val_loss: 0.5525 - val_accuracy: 0.7259\n",
      "Epoch 84/200\n",
      "1495/1495 [==============================] - 3s 2ms/step - loss: 0.5379 - accuracy: 0.7361 - val_loss: 0.5522 - val_accuracy: 0.7269\n",
      "Epoch 85/200\n",
      "1495/1495 [==============================] - 4s 2ms/step - loss: 0.5354 - accuracy: 0.7377 - val_loss: 0.5520 - val_accuracy: 0.7239\n",
      "Epoch 86/200\n",
      "1495/1495 [==============================] - 4s 2ms/step - loss: 0.5356 - accuracy: 0.7383 - val_loss: 0.5531 - val_accuracy: 0.7245\n",
      "Epoch 87/200\n",
      "1495/1495 [==============================] - 4s 2ms/step - loss: 0.5417 - accuracy: 0.7319 - val_loss: 0.5516 - val_accuracy: 0.7264\n",
      "Epoch 88/200\n",
      "1495/1495 [==============================] - 4s 2ms/step - loss: 0.5363 - accuracy: 0.7390 - val_loss: 0.5538 - val_accuracy: 0.7253\n",
      "Epoch 89/200\n",
      "1495/1495 [==============================] - 4s 2ms/step - loss: 0.5356 - accuracy: 0.7393 - val_loss: 0.5524 - val_accuracy: 0.7271\n",
      "Epoch 90/200\n",
      "1495/1495 [==============================] - 4s 2ms/step - loss: 0.5340 - accuracy: 0.7392 - val_loss: 0.5521 - val_accuracy: 0.7272\n",
      "Epoch 91/200\n",
      "1495/1495 [==============================] - 4s 2ms/step - loss: 0.5372 - accuracy: 0.7369 - val_loss: 0.5519 - val_accuracy: 0.7281\n",
      "Epoch 92/200\n",
      "1495/1495 [==============================] - 3s 2ms/step - loss: 0.5352 - accuracy: 0.7379 - val_loss: 0.5512 - val_accuracy: 0.7267\n",
      "Epoch 93/200\n",
      "1495/1495 [==============================] - 3s 2ms/step - loss: 0.5366 - accuracy: 0.7379 - val_loss: 0.5511 - val_accuracy: 0.7286\n",
      "Epoch 94/200\n",
      "1495/1495 [==============================] - 4s 2ms/step - loss: 0.5379 - accuracy: 0.7359 - val_loss: 0.5535 - val_accuracy: 0.7253\n",
      "Epoch 95/200\n",
      "1495/1495 [==============================] - 4s 2ms/step - loss: 0.5361 - accuracy: 0.7340 - val_loss: 0.5530 - val_accuracy: 0.7263\n",
      "Epoch 96/200\n",
      "1495/1495 [==============================] - 4s 2ms/step - loss: 0.5348 - accuracy: 0.7402 - val_loss: 0.5530 - val_accuracy: 0.7264\n",
      "Epoch 97/200\n",
      "1495/1495 [==============================] - 4s 2ms/step - loss: 0.5344 - accuracy: 0.7393 - val_loss: 0.5541 - val_accuracy: 0.7225\n",
      "Epoch 98/200\n",
      "1495/1495 [==============================] - 4s 2ms/step - loss: 0.5370 - accuracy: 0.7378 - val_loss: 0.5531 - val_accuracy: 0.7273\n",
      "Epoch 99/200\n",
      "1495/1495 [==============================] - 4s 2ms/step - loss: 0.5351 - accuracy: 0.7381 - val_loss: 0.5538 - val_accuracy: 0.7240\n",
      "Epoch 100/200\n",
      "1495/1495 [==============================] - 4s 2ms/step - loss: 0.5361 - accuracy: 0.7398 - val_loss: 0.5612 - val_accuracy: 0.7236\n",
      "Epoch 101/200\n",
      "1495/1495 [==============================] - 4s 2ms/step - loss: 0.5378 - accuracy: 0.7356 - val_loss: 0.5533 - val_accuracy: 0.7265\n",
      "Epoch 102/200\n",
      "1495/1495 [==============================] - 4s 2ms/step - loss: 0.5373 - accuracy: 0.7359 - val_loss: 0.5547 - val_accuracy: 0.7274\n",
      "Epoch 103/200\n",
      "1495/1495 [==============================] - 4s 3ms/step - loss: 0.5362 - accuracy: 0.7345 - val_loss: 0.5548 - val_accuracy: 0.7260\n",
      "Epoch 104/200\n",
      "1495/1495 [==============================] - 4s 2ms/step - loss: 0.5348 - accuracy: 0.7388 - val_loss: 0.5534 - val_accuracy: 0.7295\n",
      "Epoch 105/200\n",
      "1495/1495 [==============================] - 4s 2ms/step - loss: 0.5366 - accuracy: 0.7373 - val_loss: 0.5549 - val_accuracy: 0.7259\n",
      "Epoch 106/200\n",
      "1495/1495 [==============================] - 4s 2ms/step - loss: 0.5355 - accuracy: 0.7406 - val_loss: 0.5536 - val_accuracy: 0.7250\n",
      "Epoch 107/200\n",
      "1495/1495 [==============================] - 4s 2ms/step - loss: 0.5321 - accuracy: 0.7386 - val_loss: 0.5538 - val_accuracy: 0.7263\n",
      "Epoch 108/200\n",
      "1495/1495 [==============================] - 4s 2ms/step - loss: 0.5322 - accuracy: 0.7392 - val_loss: 0.5526 - val_accuracy: 0.7262\n",
      "Epoch 109/200\n",
      "1495/1495 [==============================] - 4s 2ms/step - loss: 0.5374 - accuracy: 0.7353 - val_loss: 0.5538 - val_accuracy: 0.7291\n",
      "Epoch 110/200\n",
      "1495/1495 [==============================] - 4s 2ms/step - loss: 0.5313 - accuracy: 0.7422 - val_loss: 0.5531 - val_accuracy: 0.7259\n",
      "Epoch 111/200\n",
      "1495/1495 [==============================] - 4s 2ms/step - loss: 0.5334 - accuracy: 0.7410 - val_loss: 0.5563 - val_accuracy: 0.7231\n",
      "Epoch 112/200\n",
      "1495/1495 [==============================] - 4s 2ms/step - loss: 0.5328 - accuracy: 0.7382 - val_loss: 0.5541 - val_accuracy: 0.7257\n",
      "Epoch 113/200\n",
      "1495/1495 [==============================] - 4s 2ms/step - loss: 0.5334 - accuracy: 0.7393 - val_loss: 0.5520 - val_accuracy: 0.7268\n",
      "Epoch 114/200\n",
      "1495/1495 [==============================] - 3s 2ms/step - loss: 0.5330 - accuracy: 0.7387 - val_loss: 0.5561 - val_accuracy: 0.7266\n",
      "Epoch 115/200\n",
      "1495/1495 [==============================] - 3s 2ms/step - loss: 0.5307 - accuracy: 0.7411 - val_loss: 0.5554 - val_accuracy: 0.7243\n",
      "Epoch 116/200\n",
      "1495/1495 [==============================] - 3s 2ms/step - loss: 0.5289 - accuracy: 0.7431 - val_loss: 0.5541 - val_accuracy: 0.7255\n",
      "Epoch 117/200\n",
      "1495/1495 [==============================] - 3s 2ms/step - loss: 0.5342 - accuracy: 0.7378 - val_loss: 0.5546 - val_accuracy: 0.7252\n",
      "Epoch 118/200\n",
      "1495/1495 [==============================] - 4s 2ms/step - loss: 0.5334 - accuracy: 0.7379 - val_loss: 0.5550 - val_accuracy: 0.7234\n",
      "Epoch 119/200\n",
      "1495/1495 [==============================] - 4s 2ms/step - loss: 0.5319 - accuracy: 0.7407 - val_loss: 0.5548 - val_accuracy: 0.7240\n",
      "Epoch 120/200\n",
      "1495/1495 [==============================] - 4s 2ms/step - loss: 0.5329 - accuracy: 0.7412 - val_loss: 0.5594 - val_accuracy: 0.7236\n",
      "Epoch 121/200\n",
      "1495/1495 [==============================] - 4s 3ms/step - loss: 0.5307 - accuracy: 0.7414 - val_loss: 0.5549 - val_accuracy: 0.7247\n",
      "Epoch 122/200\n",
      "1495/1495 [==============================] - 4s 2ms/step - loss: 0.5338 - accuracy: 0.7379 - val_loss: 0.5549 - val_accuracy: 0.7254\n",
      "Epoch 123/200\n",
      "1495/1495 [==============================] - 4s 3ms/step - loss: 0.5304 - accuracy: 0.7429 - val_loss: 0.5557 - val_accuracy: 0.7239\n",
      "Epoch 124/200\n",
      "1495/1495 [==============================] - 4s 3ms/step - loss: 0.5341 - accuracy: 0.7378 - val_loss: 0.5557 - val_accuracy: 0.7273\n",
      "Epoch 125/200\n",
      "1495/1495 [==============================] - 4s 3ms/step - loss: 0.5328 - accuracy: 0.7397 - val_loss: 0.5558 - val_accuracy: 0.7246\n",
      "Epoch 126/200\n",
      "1495/1495 [==============================] - 4s 3ms/step - loss: 0.5294 - accuracy: 0.7414 - val_loss: 0.5569 - val_accuracy: 0.7258\n",
      "Epoch 127/200\n",
      "1495/1495 [==============================] - 4s 3ms/step - loss: 0.5284 - accuracy: 0.7424 - val_loss: 0.5594 - val_accuracy: 0.7228\n",
      "Epoch 128/200\n",
      "1495/1495 [==============================] - 4s 3ms/step - loss: 0.5341 - accuracy: 0.7372 - val_loss: 0.5595 - val_accuracy: 0.7265\n",
      "Epoch 129/200\n",
      "1495/1495 [==============================] - 4s 3ms/step - loss: 0.5309 - accuracy: 0.7407 - val_loss: 0.5552 - val_accuracy: 0.7241\n",
      "Epoch 130/200\n",
      "1495/1495 [==============================] - 4s 3ms/step - loss: 0.5311 - accuracy: 0.7400 - val_loss: 0.5569 - val_accuracy: 0.7234\n",
      "Epoch 131/200\n",
      "1495/1495 [==============================] - 4s 2ms/step - loss: 0.5339 - accuracy: 0.7370 - val_loss: 0.5551 - val_accuracy: 0.7261\n",
      "Epoch 132/200\n",
      "1495/1495 [==============================] - 4s 3ms/step - loss: 0.5310 - accuracy: 0.7407 - val_loss: 0.5566 - val_accuracy: 0.7240\n",
      "Epoch 133/200\n",
      "1495/1495 [==============================] - 4s 3ms/step - loss: 0.5290 - accuracy: 0.7424 - val_loss: 0.5552 - val_accuracy: 0.7226\n",
      "Epoch 134/200\n",
      "1495/1495 [==============================] - 4s 3ms/step - loss: 0.5297 - accuracy: 0.7417 - val_loss: 0.5554 - val_accuracy: 0.7251\n",
      "Epoch 135/200\n",
      "1495/1495 [==============================] - 4s 3ms/step - loss: 0.5297 - accuracy: 0.7427 - val_loss: 0.5552 - val_accuracy: 0.7269\n",
      "Epoch 136/200\n",
      "1495/1495 [==============================] - 4s 3ms/step - loss: 0.5299 - accuracy: 0.7412 - val_loss: 0.5558 - val_accuracy: 0.7238\n",
      "Epoch 137/200\n",
      "1495/1495 [==============================] - 4s 2ms/step - loss: 0.5307 - accuracy: 0.7407 - val_loss: 0.5561 - val_accuracy: 0.7246\n",
      "Epoch 138/200\n",
      "1495/1495 [==============================] - 4s 2ms/step - loss: 0.5334 - accuracy: 0.7389 - val_loss: 0.5543 - val_accuracy: 0.7278\n",
      "Epoch 139/200\n",
      "1495/1495 [==============================] - 4s 3ms/step - loss: 0.5305 - accuracy: 0.7410 - val_loss: 0.5547 - val_accuracy: 0.7256\n",
      "Epoch 140/200\n",
      "1495/1495 [==============================] - 4s 3ms/step - loss: 0.5286 - accuracy: 0.7431 - val_loss: 0.5554 - val_accuracy: 0.7257\n",
      "Epoch 141/200\n",
      "1495/1495 [==============================] - 3s 2ms/step - loss: 0.5301 - accuracy: 0.7422 - val_loss: 0.5562 - val_accuracy: 0.7233\n",
      "Epoch 142/200\n",
      "1495/1495 [==============================] - 4s 3ms/step - loss: 0.5326 - accuracy: 0.7408 - val_loss: 0.5546 - val_accuracy: 0.7247\n",
      "Epoch 143/200\n",
      "1495/1495 [==============================] - 4s 3ms/step - loss: 0.5296 - accuracy: 0.7416 - val_loss: 0.5546 - val_accuracy: 0.7256\n",
      "Epoch 144/200\n",
      "1495/1495 [==============================] - 4s 3ms/step - loss: 0.5250 - accuracy: 0.7430 - val_loss: 0.5591 - val_accuracy: 0.7241\n",
      "Epoch 145/200\n",
      "1495/1495 [==============================] - 4s 3ms/step - loss: 0.5327 - accuracy: 0.7405 - val_loss: 0.5594 - val_accuracy: 0.7239\n",
      "Epoch 146/200\n",
      "1495/1495 [==============================] - 4s 3ms/step - loss: 0.5355 - accuracy: 0.7396 - val_loss: 0.5575 - val_accuracy: 0.7246\n",
      "Epoch 147/200\n",
      "1495/1495 [==============================] - 4s 2ms/step - loss: 0.5328 - accuracy: 0.7392 - val_loss: 0.5574 - val_accuracy: 0.7250\n",
      "Epoch 148/200\n",
      "1495/1495 [==============================] - 4s 3ms/step - loss: 0.5319 - accuracy: 0.7397 - val_loss: 0.5565 - val_accuracy: 0.7239\n",
      "Epoch 149/200\n",
      "1495/1495 [==============================] - 4s 3ms/step - loss: 0.5292 - accuracy: 0.7457 - val_loss: 0.5578 - val_accuracy: 0.7251\n",
      "Epoch 150/200\n",
      "1495/1495 [==============================] - 4s 2ms/step - loss: 0.5296 - accuracy: 0.7411 - val_loss: 0.5579 - val_accuracy: 0.7231\n",
      "Epoch 151/200\n",
      "1495/1495 [==============================] - 3s 2ms/step - loss: 0.5282 - accuracy: 0.7435 - val_loss: 0.5557 - val_accuracy: 0.7233\n",
      "Epoch 152/200\n",
      "1495/1495 [==============================] - 4s 3ms/step - loss: 0.5289 - accuracy: 0.7410 - val_loss: 0.5577 - val_accuracy: 0.7233\n",
      "Epoch 153/200\n",
      "1495/1495 [==============================] - 4s 2ms/step - loss: 0.5309 - accuracy: 0.7383 - val_loss: 0.5583 - val_accuracy: 0.7230\n",
      "Epoch 154/200\n",
      "1495/1495 [==============================] - 4s 3ms/step - loss: 0.5343 - accuracy: 0.7385 - val_loss: 0.5563 - val_accuracy: 0.7252\n",
      "Epoch 155/200\n",
      "1495/1495 [==============================] - 4s 3ms/step - loss: 0.5277 - accuracy: 0.7415 - val_loss: 0.5567 - val_accuracy: 0.7249\n",
      "Epoch 156/200\n",
      "1495/1495 [==============================] - 4s 3ms/step - loss: 0.5306 - accuracy: 0.7409 - val_loss: 0.5590 - val_accuracy: 0.7244\n",
      "Epoch 157/200\n",
      "1495/1495 [==============================] - 4s 3ms/step - loss: 0.5304 - accuracy: 0.7416 - val_loss: 0.5605 - val_accuracy: 0.7230\n",
      "Epoch 158/200\n",
      "1495/1495 [==============================] - 4s 3ms/step - loss: 0.5292 - accuracy: 0.7433 - val_loss: 0.5581 - val_accuracy: 0.7254\n",
      "Epoch 159/200\n",
      "1495/1495 [==============================] - 4s 3ms/step - loss: 0.5293 - accuracy: 0.7408 - val_loss: 0.5589 - val_accuracy: 0.7226\n",
      "Epoch 160/200\n",
      "1495/1495 [==============================] - 4s 3ms/step - loss: 0.5309 - accuracy: 0.7403 - val_loss: 0.5569 - val_accuracy: 0.7235\n",
      "Epoch 161/200\n",
      "1495/1495 [==============================] - 4s 3ms/step - loss: 0.5285 - accuracy: 0.7428 - val_loss: 0.5559 - val_accuracy: 0.7259\n",
      "Epoch 162/200\n",
      "1495/1495 [==============================] - 4s 3ms/step - loss: 0.5312 - accuracy: 0.7408 - val_loss: 0.5585 - val_accuracy: 0.7237\n",
      "Epoch 163/200\n",
      "1495/1495 [==============================] - 4s 3ms/step - loss: 0.5325 - accuracy: 0.7384 - val_loss: 0.5579 - val_accuracy: 0.7257\n",
      "Epoch 164/200\n",
      "1495/1495 [==============================] - 4s 3ms/step - loss: 0.5274 - accuracy: 0.7428 - val_loss: 0.5596 - val_accuracy: 0.7254\n",
      "Epoch 165/200\n",
      "1495/1495 [==============================] - 4s 3ms/step - loss: 0.5313 - accuracy: 0.7421 - val_loss: 0.5588 - val_accuracy: 0.7263\n",
      "Epoch 166/200\n",
      "1495/1495 [==============================] - 4s 2ms/step - loss: 0.5327 - accuracy: 0.7385 - val_loss: 0.5600 - val_accuracy: 0.7239\n",
      "Epoch 167/200\n",
      "1495/1495 [==============================] - 4s 3ms/step - loss: 0.5304 - accuracy: 0.7419 - val_loss: 0.5581 - val_accuracy: 0.7256\n",
      "Epoch 168/200\n",
      "1495/1495 [==============================] - 3s 2ms/step - loss: 0.5294 - accuracy: 0.7386 - val_loss: 0.5597 - val_accuracy: 0.7248\n",
      "Epoch 169/200\n",
      "1495/1495 [==============================] - 4s 3ms/step - loss: 0.5317 - accuracy: 0.7410 - val_loss: 0.5619 - val_accuracy: 0.7243\n",
      "Epoch 170/200\n",
      "1495/1495 [==============================] - 4s 3ms/step - loss: 0.5327 - accuracy: 0.7393 - val_loss: 0.5586 - val_accuracy: 0.7240\n",
      "Epoch 171/200\n",
      "1495/1495 [==============================] - 4s 2ms/step - loss: 0.5291 - accuracy: 0.7413 - val_loss: 0.5617 - val_accuracy: 0.7214\n",
      "Epoch 172/200\n",
      "1495/1495 [==============================] - 3s 2ms/step - loss: 0.5293 - accuracy: 0.7426 - val_loss: 0.5634 - val_accuracy: 0.7249\n",
      "Epoch 173/200\n",
      "1495/1495 [==============================] - 4s 3ms/step - loss: 0.5306 - accuracy: 0.7410 - val_loss: 0.5609 - val_accuracy: 0.7264\n",
      "Epoch 174/200\n",
      "1495/1495 [==============================] - 4s 3ms/step - loss: 0.5256 - accuracy: 0.7427 - val_loss: 0.5593 - val_accuracy: 0.7247\n",
      "Epoch 175/200\n",
      "1495/1495 [==============================] - 4s 3ms/step - loss: 0.5265 - accuracy: 0.7431 - val_loss: 0.5598 - val_accuracy: 0.7239\n",
      "Epoch 176/200\n",
      "1495/1495 [==============================] - 4s 2ms/step - loss: 0.5272 - accuracy: 0.7439 - val_loss: 0.5611 - val_accuracy: 0.7214\n",
      "Epoch 177/200\n",
      "1495/1495 [==============================] - 4s 3ms/step - loss: 0.5312 - accuracy: 0.7419 - val_loss: 0.5572 - val_accuracy: 0.7231\n",
      "Epoch 178/200\n",
      "1495/1495 [==============================] - 4s 3ms/step - loss: 0.5264 - accuracy: 0.7420 - val_loss: 0.5571 - val_accuracy: 0.7246\n",
      "Epoch 179/200\n",
      "1495/1495 [==============================] - 4s 3ms/step - loss: 0.5272 - accuracy: 0.7435 - val_loss: 0.5605 - val_accuracy: 0.7216\n",
      "Epoch 180/200\n",
      "1495/1495 [==============================] - 4s 3ms/step - loss: 0.5302 - accuracy: 0.7400 - val_loss: 0.5585 - val_accuracy: 0.7236\n",
      "Epoch 181/200\n",
      "1495/1495 [==============================] - 4s 3ms/step - loss: 0.5282 - accuracy: 0.7428 - val_loss: 0.5580 - val_accuracy: 0.7247\n",
      "Epoch 182/200\n",
      "1495/1495 [==============================] - 4s 3ms/step - loss: 0.5275 - accuracy: 0.7430 - val_loss: 0.5603 - val_accuracy: 0.7208\n",
      "Epoch 183/200\n",
      "1495/1495 [==============================] - 4s 3ms/step - loss: 0.5272 - accuracy: 0.7436 - val_loss: 0.5592 - val_accuracy: 0.7244\n",
      "Epoch 184/200\n",
      "1495/1495 [==============================] - 4s 3ms/step - loss: 0.5311 - accuracy: 0.7404 - val_loss: 0.5610 - val_accuracy: 0.7238\n",
      "Epoch 185/200\n",
      "1495/1495 [==============================] - 4s 3ms/step - loss: 0.5289 - accuracy: 0.7421 - val_loss: 0.5593 - val_accuracy: 0.7271\n",
      "Epoch 186/200\n",
      "1495/1495 [==============================] - 4s 2ms/step - loss: 0.5277 - accuracy: 0.7437 - val_loss: 0.5600 - val_accuracy: 0.7267\n",
      "Epoch 187/200\n",
      "1495/1495 [==============================] - 4s 3ms/step - loss: 0.5259 - accuracy: 0.7454 - val_loss: 0.5602 - val_accuracy: 0.7240\n",
      "Epoch 188/200\n",
      "1495/1495 [==============================] - 4s 3ms/step - loss: 0.5276 - accuracy: 0.7421 - val_loss: 0.5602 - val_accuracy: 0.7255\n",
      "Epoch 189/200\n",
      "1495/1495 [==============================] - 4s 3ms/step - loss: 0.5291 - accuracy: 0.7413 - val_loss: 0.5590 - val_accuracy: 0.7234\n",
      "Epoch 190/200\n",
      "1495/1495 [==============================] - 3s 2ms/step - loss: 0.5276 - accuracy: 0.7421 - val_loss: 0.5588 - val_accuracy: 0.7251\n",
      "Epoch 191/200\n",
      "1495/1495 [==============================] - 4s 3ms/step - loss: 0.5268 - accuracy: 0.7421 - val_loss: 0.5606 - val_accuracy: 0.7221\n",
      "Epoch 192/200\n",
      "1495/1495 [==============================] - 3s 2ms/step - loss: 0.5258 - accuracy: 0.7444 - val_loss: 0.5609 - val_accuracy: 0.7247\n",
      "Epoch 193/200\n",
      "1495/1495 [==============================] - 3s 2ms/step - loss: 0.5254 - accuracy: 0.7437 - val_loss: 0.5595 - val_accuracy: 0.7249\n",
      "Epoch 194/200\n",
      "1495/1495 [==============================] - 4s 3ms/step - loss: 0.5293 - accuracy: 0.7396 - val_loss: 0.5613 - val_accuracy: 0.7233\n",
      "Epoch 195/200\n",
      "1495/1495 [==============================] - 4s 3ms/step - loss: 0.5284 - accuracy: 0.7431 - val_loss: 0.5640 - val_accuracy: 0.7246\n",
      "Epoch 196/200\n",
      "1495/1495 [==============================] - 4s 3ms/step - loss: 0.5279 - accuracy: 0.7438 - val_loss: 0.5618 - val_accuracy: 0.7231\n",
      "Epoch 197/200\n",
      "1495/1495 [==============================] - 4s 3ms/step - loss: 0.5283 - accuracy: 0.7436 - val_loss: 0.5598 - val_accuracy: 0.7244\n",
      "Epoch 198/200\n",
      "1495/1495 [==============================] - 4s 3ms/step - loss: 0.5269 - accuracy: 0.7437 - val_loss: 0.5591 - val_accuracy: 0.7235\n",
      "Epoch 199/200\n",
      "1495/1495 [==============================] - 3s 2ms/step - loss: 0.5265 - accuracy: 0.7409 - val_loss: 0.5615 - val_accuracy: 0.7242\n",
      "Epoch 200/200\n",
      "1495/1495 [==============================] - 4s 3ms/step - loss: 0.5233 - accuracy: 0.7453 - val_loss: 0.5650 - val_accuracy: 0.7231\n"
     ]
    }
   ],
   "source": [
    "hist = model.fit(x_train, y_train,          \n",
    "                 batch_size=32, epochs=200,          \n",
    "                 validation_data=(x_val, y_val))"
   ]
  },
  {
   "cell_type": "code",
   "execution_count": 104,
   "id": "olympic-narrative",
   "metadata": {},
   "outputs": [
    {
     "data": {
      "image/png": "[encoded data removed]",
      "text/plain": [
       "<Figure size 432x288 with 1 Axes>"
      ]
     },
     "metadata": {
      "needs_background": "light"
     },
     "output_type": "display_data"
    }
   ],
   "source": [
    "import matplotlib.pyplot as plt\n",
    "plt.plot(hist.history['loss'])\n",
    "plt.plot(hist.history['val_loss'])\n",
    "plt.title('Model loss')\n",
    "plt.ylabel('Loss')\n",
    "plt.xlabel('Epoch')\n",
    "plt.legend(['Train', 'Val'], loc='upper right')\n",
    "plt.show()"
   ]
  },
  {
   "cell_type": "code",
   "execution_count": 105,
   "id": "sporting-warehouse",
   "metadata": {},
   "outputs": [
    {
     "data": {
      "image/png": "[encoded data removed]",
      "text/plain": [
       "<Figure size 432x288 with 1 Axes>"
      ]
     },
     "metadata": {
      "needs_background": "light"
     },
     "output_type": "display_data"
    }
   ],
   "source": [
    "plt.plot(hist.history['accuracy'])\n",
    "plt.plot(hist.history['val_accuracy'])\n",
    "plt.title('Model accuracy')\n",
    "plt.ylabel('Accuracy')\n",
    "plt.xlabel('Epoch')\n",
    "plt.legend(['Train', 'Val'], loc='lower right')\n",
    "plt.show()"
   ]
  },
  {
   "cell_type": "code",
   "execution_count": 106,
   "id": "dress-engineering",
   "metadata": {},
   "outputs": [
    {
     "name": "stdout",
     "output_type": "stream",
     "text": [
      "Epoch 1/200\n",
      "1495/1495 [==============================] - 6s 3ms/step - loss: 0.5924 - accuracy: 0.6901 - val_loss: 0.5582 - val_accuracy: 0.7225\n",
      "Epoch 2/200\n",
      "1495/1495 [==============================] - 4s 3ms/step - loss: 0.5541 - accuracy: 0.7289 - val_loss: 0.5579 - val_accuracy: 0.7210\n",
      "Epoch 3/200\n",
      "1495/1495 [==============================] - 4s 3ms/step - loss: 0.5496 - accuracy: 0.7271 - val_loss: 0.5526 - val_accuracy: 0.7253\n",
      "Epoch 4/200\n",
      "1495/1495 [==============================] - 4s 3ms/step - loss: 0.5502 - accuracy: 0.7290 - val_loss: 0.5558 - val_accuracy: 0.7240\n",
      "Epoch 5/200\n",
      "1495/1495 [==============================] - 4s 3ms/step - loss: 0.5507 - accuracy: 0.7284 - val_loss: 0.5506 - val_accuracy: 0.7260\n",
      "Epoch 6/200\n",
      "1495/1495 [==============================] - 4s 3ms/step - loss: 0.5465 - accuracy: 0.7338 - val_loss: 0.5514 - val_accuracy: 0.7251\n",
      "Epoch 7/200\n",
      "1495/1495 [==============================] - 4s 3ms/step - loss: 0.5435 - accuracy: 0.7351 - val_loss: 0.5494 - val_accuracy: 0.7255\n",
      "Epoch 8/200\n",
      "1495/1495 [==============================] - 4s 3ms/step - loss: 0.5469 - accuracy: 0.7302 - val_loss: 0.5526 - val_accuracy: 0.7282\n",
      "Epoch 9/200\n",
      "1495/1495 [==============================] - 4s 3ms/step - loss: 0.5476 - accuracy: 0.7297 - val_loss: 0.5508 - val_accuracy: 0.7254\n",
      "Epoch 10/200\n",
      "1495/1495 [==============================] - 4s 3ms/step - loss: 0.5434 - accuracy: 0.7368 - val_loss: 0.5503 - val_accuracy: 0.7282\n",
      "Epoch 11/200\n",
      "1495/1495 [==============================] - 4s 3ms/step - loss: 0.5491 - accuracy: 0.7280 - val_loss: 0.5603 - val_accuracy: 0.7222\n",
      "Epoch 12/200\n",
      "1495/1495 [==============================] - 4s 3ms/step - loss: 0.5460 - accuracy: 0.7323 - val_loss: 0.5511 - val_accuracy: 0.7284\n",
      "Epoch 13/200\n",
      "1495/1495 [==============================] - 4s 3ms/step - loss: 0.5494 - accuracy: 0.7286 - val_loss: 0.5563 - val_accuracy: 0.7245\n",
      "Epoch 14/200\n",
      "1495/1495 [==============================] - 4s 3ms/step - loss: 0.5440 - accuracy: 0.7331 - val_loss: 0.5534 - val_accuracy: 0.7256\n",
      "Epoch 15/200\n",
      "1495/1495 [==============================] - 4s 3ms/step - loss: 0.5426 - accuracy: 0.7325 - val_loss: 0.5499 - val_accuracy: 0.7269\n",
      "Epoch 16/200\n",
      "1495/1495 [==============================] - 4s 3ms/step - loss: 0.5412 - accuracy: 0.7342 - val_loss: 0.5513 - val_accuracy: 0.7261\n",
      "Epoch 17/200\n",
      "1495/1495 [==============================] - 4s 3ms/step - loss: 0.5426 - accuracy: 0.7337 - val_loss: 0.5515 - val_accuracy: 0.7259\n",
      "Epoch 18/200\n",
      "1495/1495 [==============================] - 4s 3ms/step - loss: 0.5471 - accuracy: 0.7282 - val_loss: 0.5487 - val_accuracy: 0.7285\n",
      "Epoch 19/200\n",
      "1495/1495 [==============================] - 4s 3ms/step - loss: 0.5487 - accuracy: 0.7286 - val_loss: 0.5511 - val_accuracy: 0.7261\n",
      "Epoch 20/200\n",
      "1495/1495 [==============================] - 4s 3ms/step - loss: 0.5421 - accuracy: 0.7355 - val_loss: 0.5515 - val_accuracy: 0.7274\n",
      "Epoch 21/200\n",
      "1495/1495 [==============================] - 4s 3ms/step - loss: 0.5399 - accuracy: 0.7369 - val_loss: 0.5476 - val_accuracy: 0.7299\n",
      "Epoch 22/200\n",
      "1495/1495 [==============================] - 4s 3ms/step - loss: 0.5395 - accuracy: 0.7349 - val_loss: 0.5482 - val_accuracy: 0.7265\n",
      "Epoch 23/200\n",
      "1495/1495 [==============================] - 4s 3ms/step - loss: 0.5414 - accuracy: 0.7354 - val_loss: 0.5474 - val_accuracy: 0.7278\n",
      "Epoch 24/200\n",
      "1495/1495 [==============================] - 4s 3ms/step - loss: 0.5403 - accuracy: 0.7335 - val_loss: 0.5484 - val_accuracy: 0.7280\n",
      "Epoch 25/200\n",
      "1495/1495 [==============================] - 4s 3ms/step - loss: 0.5398 - accuracy: 0.7357 - val_loss: 0.5524 - val_accuracy: 0.7194\n",
      "Epoch 26/200\n",
      "1495/1495 [==============================] - 4s 3ms/step - loss: 0.5413 - accuracy: 0.7336 - val_loss: 0.5486 - val_accuracy: 0.7267\n",
      "Epoch 27/200\n",
      "1495/1495 [==============================] - 3s 2ms/step - loss: 0.5437 - accuracy: 0.7333 - val_loss: 0.5503 - val_accuracy: 0.7279\n",
      "Epoch 28/200\n",
      "1495/1495 [==============================] - 4s 3ms/step - loss: 0.5419 - accuracy: 0.7338 - val_loss: 0.5490 - val_accuracy: 0.7259\n",
      "Epoch 29/200\n",
      "1495/1495 [==============================] - 4s 3ms/step - loss: 0.5406 - accuracy: 0.7366 - val_loss: 0.5468 - val_accuracy: 0.7298\n",
      "Epoch 30/200\n",
      "1495/1495 [==============================] - 4s 3ms/step - loss: 0.5427 - accuracy: 0.7324 - val_loss: 0.5488 - val_accuracy: 0.7280\n",
      "Epoch 31/200\n",
      "1495/1495 [==============================] - 4s 3ms/step - loss: 0.5423 - accuracy: 0.7331 - val_loss: 0.5505 - val_accuracy: 0.7256\n",
      "Epoch 32/200\n",
      "1495/1495 [==============================] - 4s 3ms/step - loss: 0.5425 - accuracy: 0.7326 - val_loss: 0.5500 - val_accuracy: 0.7273\n",
      "Epoch 33/200\n",
      "1495/1495 [==============================] - 4s 3ms/step - loss: 0.5389 - accuracy: 0.7373 - val_loss: 0.5484 - val_accuracy: 0.7282\n",
      "Epoch 34/200\n",
      "1495/1495 [==============================] - 4s 3ms/step - loss: 0.5416 - accuracy: 0.7365 - val_loss: 0.5484 - val_accuracy: 0.7279\n",
      "Epoch 35/200\n",
      "1495/1495 [==============================] - 4s 3ms/step - loss: 0.5399 - accuracy: 0.7358 - val_loss: 0.5502 - val_accuracy: 0.7270\n",
      "Epoch 36/200\n",
      "1495/1495 [==============================] - 4s 3ms/step - loss: 0.5407 - accuracy: 0.7370 - val_loss: 0.5489 - val_accuracy: 0.7288\n",
      "Epoch 37/200\n",
      "1495/1495 [==============================] - 4s 3ms/step - loss: 0.5378 - accuracy: 0.7373 - val_loss: 0.5501 - val_accuracy: 0.7273\n",
      "Epoch 38/200\n",
      "1495/1495 [==============================] - 4s 3ms/step - loss: 0.5365 - accuracy: 0.7355 - val_loss: 0.5510 - val_accuracy: 0.7245\n",
      "Epoch 39/200\n",
      "1495/1495 [==============================] - 4s 2ms/step - loss: 0.5396 - accuracy: 0.7365 - val_loss: 0.5498 - val_accuracy: 0.7260\n",
      "Epoch 40/200\n",
      "1495/1495 [==============================] - 4s 3ms/step - loss: 0.5382 - accuracy: 0.7354 - val_loss: 0.5518 - val_accuracy: 0.7275\n",
      "Epoch 41/200\n",
      "1495/1495 [==============================] - 4s 3ms/step - loss: 0.5377 - accuracy: 0.7365 - val_loss: 0.5523 - val_accuracy: 0.7244\n",
      "Epoch 42/200\n",
      "1495/1495 [==============================] - 4s 3ms/step - loss: 0.5376 - accuracy: 0.7375 - val_loss: 0.5485 - val_accuracy: 0.7268\n",
      "Epoch 43/200\n",
      "1495/1495 [==============================] - 4s 3ms/step - loss: 0.5411 - accuracy: 0.7342 - val_loss: 0.5500 - val_accuracy: 0.7304\n",
      "Epoch 44/200\n",
      "1495/1495 [==============================] - 4s 3ms/step - loss: 0.5408 - accuracy: 0.7322 - val_loss: 0.5498 - val_accuracy: 0.7278\n",
      "Epoch 45/200\n",
      "1495/1495 [==============================] - 4s 3ms/step - loss: 0.5387 - accuracy: 0.7362 - val_loss: 0.5487 - val_accuracy: 0.7305\n",
      "Epoch 46/200\n",
      "1495/1495 [==============================] - 4s 3ms/step - loss: 0.5356 - accuracy: 0.7376 - val_loss: 0.5509 - val_accuracy: 0.7263\n",
      "Epoch 47/200\n",
      "1495/1495 [==============================] - 4s 3ms/step - loss: 0.5363 - accuracy: 0.7369 - val_loss: 0.5534 - val_accuracy: 0.7247\n",
      "Epoch 48/200\n",
      "1495/1495 [==============================] - 4s 3ms/step - loss: 0.5348 - accuracy: 0.7397 - val_loss: 0.5495 - val_accuracy: 0.7279\n",
      "Epoch 49/200\n",
      "1495/1495 [==============================] - 4s 3ms/step - loss: 0.5382 - accuracy: 0.7372 - val_loss: 0.5504 - val_accuracy: 0.7260\n",
      "Epoch 50/200\n",
      "1495/1495 [==============================] - 4s 3ms/step - loss: 0.5359 - accuracy: 0.7368 - val_loss: 0.5501 - val_accuracy: 0.7269\n",
      "Epoch 51/200\n",
      "1495/1495 [==============================] - 4s 3ms/step - loss: 0.5394 - accuracy: 0.7358 - val_loss: 0.5504 - val_accuracy: 0.7259\n",
      "Epoch 52/200\n",
      "1495/1495 [==============================] - 4s 3ms/step - loss: 0.5353 - accuracy: 0.7405 - val_loss: 0.5494 - val_accuracy: 0.7271\n",
      "Epoch 53/200\n",
      "1495/1495 [==============================] - 4s 3ms/step - loss: 0.5353 - accuracy: 0.7370 - val_loss: 0.5536 - val_accuracy: 0.7252\n",
      "Epoch 54/200\n",
      "1495/1495 [==============================] - 4s 3ms/step - loss: 0.5354 - accuracy: 0.7371 - val_loss: 0.5499 - val_accuracy: 0.7268\n",
      "Epoch 55/200\n",
      "1495/1495 [==============================] - 4s 3ms/step - loss: 0.5345 - accuracy: 0.7362 - val_loss: 0.5529 - val_accuracy: 0.7262\n",
      "Epoch 56/200\n",
      "1495/1495 [==============================] - 4s 3ms/step - loss: 0.5352 - accuracy: 0.7393 - val_loss: 0.5506 - val_accuracy: 0.7266\n",
      "Epoch 57/200\n",
      "1495/1495 [==============================] - 4s 3ms/step - loss: 0.5327 - accuracy: 0.7386 - val_loss: 0.5515 - val_accuracy: 0.7261\n",
      "Epoch 58/200\n",
      "1495/1495 [==============================] - 4s 3ms/step - loss: 0.5343 - accuracy: 0.7396 - val_loss: 0.5509 - val_accuracy: 0.7239\n",
      "Epoch 59/200\n",
      "1495/1495 [==============================] - 4s 3ms/step - loss: 0.5368 - accuracy: 0.7372 - val_loss: 0.5513 - val_accuracy: 0.7286\n",
      "Epoch 60/200\n",
      "1495/1495 [==============================] - 4s 3ms/step - loss: 0.5344 - accuracy: 0.7416 - val_loss: 0.5524 - val_accuracy: 0.7264\n",
      "Epoch 61/200\n",
      "1495/1495 [==============================] - 4s 3ms/step - loss: 0.5347 - accuracy: 0.7386 - val_loss: 0.5529 - val_accuracy: 0.7252\n",
      "Epoch 62/200\n",
      "1495/1495 [==============================] - 4s 3ms/step - loss: 0.5330 - accuracy: 0.7400 - val_loss: 0.5526 - val_accuracy: 0.7254\n",
      "Epoch 63/200\n",
      "1495/1495 [==============================] - 4s 3ms/step - loss: 0.5360 - accuracy: 0.7354 - val_loss: 0.5546 - val_accuracy: 0.7262\n",
      "Epoch 64/200\n",
      "1495/1495 [==============================] - 4s 3ms/step - loss: 0.5327 - accuracy: 0.7390 - val_loss: 0.5537 - val_accuracy: 0.7270\n",
      "Epoch 65/200\n",
      "1495/1495 [==============================] - 4s 3ms/step - loss: 0.5347 - accuracy: 0.7363 - val_loss: 0.5538 - val_accuracy: 0.7257\n",
      "Epoch 66/200\n",
      "1495/1495 [==============================] - 4s 3ms/step - loss: 0.5341 - accuracy: 0.7396 - val_loss: 0.5530 - val_accuracy: 0.7264\n",
      "Epoch 67/200\n",
      "1495/1495 [==============================] - 4s 3ms/step - loss: 0.5333 - accuracy: 0.7398 - val_loss: 0.5509 - val_accuracy: 0.7284\n",
      "Epoch 68/200\n",
      "1495/1495 [==============================] - 4s 3ms/step - loss: 0.5304 - accuracy: 0.7416 - val_loss: 0.5520 - val_accuracy: 0.7265\n",
      "Epoch 69/200\n",
      "1495/1495 [==============================] - 4s 3ms/step - loss: 0.5319 - accuracy: 0.7420 - val_loss: 0.5533 - val_accuracy: 0.7257\n",
      "Epoch 70/200\n",
      "1495/1495 [==============================] - 4s 3ms/step - loss: 0.5284 - accuracy: 0.7431 - val_loss: 0.5532 - val_accuracy: 0.7252\n",
      "Epoch 71/200\n",
      "1495/1495 [==============================] - 4s 3ms/step - loss: 0.5353 - accuracy: 0.7387 - val_loss: 0.5523 - val_accuracy: 0.7265\n",
      "Epoch 72/200\n",
      "1495/1495 [==============================] - 4s 3ms/step - loss: 0.5316 - accuracy: 0.7402 - val_loss: 0.5514 - val_accuracy: 0.7268\n",
      "Epoch 73/200\n",
      "1495/1495 [==============================] - 4s 3ms/step - loss: 0.5346 - accuracy: 0.7373 - val_loss: 0.5533 - val_accuracy: 0.7269\n",
      "Epoch 74/200\n",
      "1495/1495 [==============================] - 4s 2ms/step - loss: 0.5330 - accuracy: 0.7371 - val_loss: 0.5544 - val_accuracy: 0.7254\n",
      "Epoch 75/200\n",
      "1495/1495 [==============================] - 4s 3ms/step - loss: 0.5304 - accuracy: 0.7425 - val_loss: 0.5542 - val_accuracy: 0.7234\n",
      "Epoch 76/200\n",
      "1495/1495 [==============================] - 4s 3ms/step - loss: 0.5328 - accuracy: 0.7391 - val_loss: 0.5556 - val_accuracy: 0.7275\n",
      "Epoch 77/200\n",
      "1495/1495 [==============================] - 4s 2ms/step - loss: 0.5357 - accuracy: 0.7336 - val_loss: 0.5590 - val_accuracy: 0.7239\n",
      "Epoch 78/200\n",
      "1495/1495 [==============================] - 4s 3ms/step - loss: 0.5333 - accuracy: 0.7378 - val_loss: 0.5540 - val_accuracy: 0.7266\n",
      "Epoch 79/200\n",
      "1495/1495 [==============================] - 4s 3ms/step - loss: 0.5291 - accuracy: 0.7405 - val_loss: 0.5544 - val_accuracy: 0.7273\n",
      "Epoch 80/200\n",
      "1495/1495 [==============================] - 4s 3ms/step - loss: 0.5277 - accuracy: 0.7439 - val_loss: 0.5553 - val_accuracy: 0.7249\n",
      "Epoch 81/200\n",
      "1495/1495 [==============================] - 4s 3ms/step - loss: 0.5280 - accuracy: 0.7426 - val_loss: 0.5542 - val_accuracy: 0.7259\n",
      "Epoch 82/200\n",
      "1495/1495 [==============================] - 4s 3ms/step - loss: 0.5311 - accuracy: 0.7414 - val_loss: 0.5579 - val_accuracy: 0.7206\n",
      "Epoch 83/200\n",
      "1495/1495 [==============================] - 4s 3ms/step - loss: 0.5305 - accuracy: 0.7448 - val_loss: 0.5543 - val_accuracy: 0.7237\n",
      "Epoch 84/200\n",
      "1495/1495 [==============================] - 4s 3ms/step - loss: 0.5293 - accuracy: 0.7426 - val_loss: 0.5562 - val_accuracy: 0.7266\n",
      "Epoch 85/200\n",
      "1495/1495 [==============================] - 4s 3ms/step - loss: 0.5296 - accuracy: 0.7403 - val_loss: 0.5551 - val_accuracy: 0.7238\n",
      "Epoch 86/200\n",
      "1495/1495 [==============================] - 4s 3ms/step - loss: 0.5304 - accuracy: 0.7402 - val_loss: 0.5542 - val_accuracy: 0.7244\n",
      "Epoch 87/200\n",
      "1495/1495 [==============================] - 4s 3ms/step - loss: 0.5271 - accuracy: 0.7440 - val_loss: 0.5559 - val_accuracy: 0.7238\n",
      "Epoch 88/200\n",
      "1495/1495 [==============================] - 4s 3ms/step - loss: 0.5263 - accuracy: 0.7436 - val_loss: 0.5578 - val_accuracy: 0.7233\n",
      "Epoch 89/200\n",
      "1495/1495 [==============================] - 4s 3ms/step - loss: 0.5260 - accuracy: 0.7424 - val_loss: 0.5665 - val_accuracy: 0.7180\n",
      "Epoch 90/200\n",
      "1495/1495 [==============================] - 4s 3ms/step - loss: 0.5298 - accuracy: 0.7414 - val_loss: 0.5600 - val_accuracy: 0.7223\n",
      "Epoch 91/200\n",
      "1495/1495 [==============================] - 4s 3ms/step - loss: 0.5284 - accuracy: 0.7424 - val_loss: 0.5568 - val_accuracy: 0.7236\n",
      "Epoch 92/200\n",
      "1495/1495 [==============================] - 4s 2ms/step - loss: 0.5306 - accuracy: 0.7393 - val_loss: 0.5541 - val_accuracy: 0.7281\n",
      "Epoch 93/200\n",
      "1495/1495 [==============================] - 4s 3ms/step - loss: 0.5255 - accuracy: 0.7458 - val_loss: 0.5606 - val_accuracy: 0.7200\n",
      "Epoch 94/200\n",
      "1495/1495 [==============================] - 4s 3ms/step - loss: 0.5294 - accuracy: 0.7419 - val_loss: 0.5603 - val_accuracy: 0.7207\n",
      "Epoch 95/200\n",
      "1495/1495 [==============================] - 4s 3ms/step - loss: 0.5262 - accuracy: 0.7421 - val_loss: 0.5612 - val_accuracy: 0.7254\n",
      "Epoch 96/200\n",
      "1495/1495 [==============================] - 4s 3ms/step - loss: 0.5267 - accuracy: 0.7438 - val_loss: 0.5570 - val_accuracy: 0.7248\n",
      "Epoch 97/200\n",
      "1495/1495 [==============================] - 4s 3ms/step - loss: 0.5272 - accuracy: 0.7439 - val_loss: 0.5567 - val_accuracy: 0.7260\n",
      "Epoch 98/200\n",
      "1495/1495 [==============================] - 4s 3ms/step - loss: 0.5258 - accuracy: 0.7449 - val_loss: 0.5627 - val_accuracy: 0.7233\n",
      "Epoch 99/200\n",
      "1495/1495 [==============================] - 4s 3ms/step - loss: 0.5305 - accuracy: 0.7401 - val_loss: 0.5639 - val_accuracy: 0.7201\n",
      "Epoch 100/200\n",
      "1495/1495 [==============================] - 4s 3ms/step - loss: 0.5263 - accuracy: 0.7423 - val_loss: 0.5612 - val_accuracy: 0.7223\n",
      "Epoch 101/200\n",
      "1495/1495 [==============================] - 4s 3ms/step - loss: 0.5278 - accuracy: 0.7411 - val_loss: 0.5578 - val_accuracy: 0.7233\n",
      "Epoch 102/200\n",
      "1495/1495 [==============================] - 4s 3ms/step - loss: 0.5265 - accuracy: 0.7425 - val_loss: 0.5587 - val_accuracy: 0.7261\n",
      "Epoch 103/200\n",
      "1495/1495 [==============================] - 4s 3ms/step - loss: 0.5268 - accuracy: 0.7416 - val_loss: 0.5590 - val_accuracy: 0.7270\n",
      "Epoch 104/200\n",
      "1495/1495 [==============================] - 4s 3ms/step - loss: 0.5214 - accuracy: 0.7480 - val_loss: 0.5656 - val_accuracy: 0.7215\n",
      "Epoch 105/200\n",
      "1495/1495 [==============================] - 4s 3ms/step - loss: 0.5252 - accuracy: 0.7448 - val_loss: 0.5598 - val_accuracy: 0.7247\n",
      "Epoch 106/200\n",
      "1495/1495 [==============================] - 4s 2ms/step - loss: 0.5186 - accuracy: 0.7498 - val_loss: 0.5643 - val_accuracy: 0.7185\n",
      "Epoch 107/200\n",
      "1495/1495 [==============================] - 4s 3ms/step - loss: 0.5258 - accuracy: 0.7441 - val_loss: 0.5675 - val_accuracy: 0.7215\n",
      "Epoch 108/200\n",
      "1495/1495 [==============================] - 4s 3ms/step - loss: 0.5238 - accuracy: 0.7453 - val_loss: 0.5625 - val_accuracy: 0.7217\n",
      "Epoch 109/200\n",
      "1495/1495 [==============================] - 4s 3ms/step - loss: 0.5251 - accuracy: 0.7438 - val_loss: 0.5620 - val_accuracy: 0.7238\n",
      "Epoch 110/200\n",
      "1495/1495 [==============================] - 4s 3ms/step - loss: 0.5223 - accuracy: 0.7459 - val_loss: 0.5625 - val_accuracy: 0.7235\n",
      "Epoch 111/200\n",
      "1495/1495 [==============================] - 4s 3ms/step - loss: 0.5226 - accuracy: 0.7463 - val_loss: 0.5600 - val_accuracy: 0.7218\n",
      "Epoch 112/200\n",
      "1495/1495 [==============================] - 4s 3ms/step - loss: 0.5235 - accuracy: 0.7455 - val_loss: 0.5657 - val_accuracy: 0.7199\n",
      "Epoch 113/200\n",
      "1495/1495 [==============================] - 4s 3ms/step - loss: 0.5190 - accuracy: 0.7489 - val_loss: 0.5645 - val_accuracy: 0.7236\n",
      "Epoch 114/200\n",
      "1495/1495 [==============================] - 4s 3ms/step - loss: 0.5263 - accuracy: 0.7430 - val_loss: 0.5662 - val_accuracy: 0.7207\n",
      "Epoch 115/200\n",
      "1495/1495 [==============================] - 4s 3ms/step - loss: 0.5191 - accuracy: 0.7485 - val_loss: 0.5657 - val_accuracy: 0.7238\n",
      "Epoch 116/200\n",
      "1495/1495 [==============================] - 4s 3ms/step - loss: 0.5261 - accuracy: 0.7422 - val_loss: 0.5659 - val_accuracy: 0.7224\n",
      "Epoch 117/200\n",
      "1495/1495 [==============================] - 4s 3ms/step - loss: 0.5206 - accuracy: 0.7489 - val_loss: 0.5636 - val_accuracy: 0.7242\n",
      "Epoch 118/200\n",
      "1495/1495 [==============================] - 4s 3ms/step - loss: 0.5219 - accuracy: 0.7456 - val_loss: 0.5665 - val_accuracy: 0.7236\n",
      "Epoch 119/200\n",
      "1495/1495 [==============================] - 4s 3ms/step - loss: 0.5201 - accuracy: 0.7478 - val_loss: 0.5631 - val_accuracy: 0.7225\n",
      "Epoch 120/200\n",
      "1495/1495 [==============================] - 4s 3ms/step - loss: 0.5219 - accuracy: 0.7476 - val_loss: 0.5623 - val_accuracy: 0.7276\n",
      "Epoch 121/200\n",
      "1495/1495 [==============================] - 4s 3ms/step - loss: 0.5200 - accuracy: 0.7463 - val_loss: 0.5644 - val_accuracy: 0.7231\n",
      "Epoch 122/200\n",
      "1495/1495 [==============================] - 4s 3ms/step - loss: 0.5185 - accuracy: 0.7480 - val_loss: 0.5697 - val_accuracy: 0.7229\n",
      "Epoch 123/200\n",
      "1495/1495 [==============================] - 4s 3ms/step - loss: 0.5232 - accuracy: 0.7432 - val_loss: 0.5670 - val_accuracy: 0.7238\n",
      "Epoch 124/200\n",
      "1495/1495 [==============================] - 4s 3ms/step - loss: 0.5205 - accuracy: 0.7465 - val_loss: 0.5652 - val_accuracy: 0.7271\n",
      "Epoch 125/200\n",
      "1495/1495 [==============================] - 4s 3ms/step - loss: 0.5212 - accuracy: 0.7461 - val_loss: 0.5651 - val_accuracy: 0.7252\n",
      "Epoch 126/200\n",
      "1495/1495 [==============================] - 4s 2ms/step - loss: 0.5193 - accuracy: 0.7462 - val_loss: 0.5689 - val_accuracy: 0.7217\n",
      "Epoch 127/200\n",
      "1495/1495 [==============================] - 4s 3ms/step - loss: 0.5133 - accuracy: 0.7506 - val_loss: 0.5698 - val_accuracy: 0.7236\n",
      "Epoch 128/200\n",
      "1495/1495 [==============================] - 4s 3ms/step - loss: 0.5187 - accuracy: 0.7474 - val_loss: 0.5742 - val_accuracy: 0.7207\n",
      "Epoch 129/200\n",
      "1495/1495 [==============================] - 4s 3ms/step - loss: 0.5192 - accuracy: 0.7469 - val_loss: 0.5690 - val_accuracy: 0.7232\n",
      "Epoch 130/200\n",
      "1495/1495 [==============================] - 4s 3ms/step - loss: 0.5218 - accuracy: 0.7454 - val_loss: 0.5740 - val_accuracy: 0.7208\n",
      "Epoch 131/200\n",
      "1495/1495 [==============================] - 4s 2ms/step - loss: 0.5206 - accuracy: 0.7446 - val_loss: 0.5668 - val_accuracy: 0.7216\n",
      "Epoch 132/200\n",
      "1495/1495 [==============================] - 4s 2ms/step - loss: 0.5196 - accuracy: 0.7464 - val_loss: 0.5723 - val_accuracy: 0.7195\n",
      "Epoch 133/200\n",
      "1495/1495 [==============================] - 4s 3ms/step - loss: 0.5216 - accuracy: 0.7451 - val_loss: 0.5711 - val_accuracy: 0.7222\n",
      "Epoch 134/200\n",
      "1495/1495 [==============================] - 3s 2ms/step - loss: 0.5153 - accuracy: 0.7491 - val_loss: 0.5688 - val_accuracy: 0.7233\n",
      "Epoch 135/200\n",
      "1495/1495 [==============================] - 4s 2ms/step - loss: 0.5161 - accuracy: 0.7510 - val_loss: 0.5702 - val_accuracy: 0.7233\n",
      "Epoch 136/200\n",
      "1495/1495 [==============================] - 4s 3ms/step - loss: 0.5179 - accuracy: 0.7487 - val_loss: 0.5670 - val_accuracy: 0.7213\n",
      "Epoch 137/200\n",
      "1495/1495 [==============================] - 4s 3ms/step - loss: 0.5169 - accuracy: 0.7503 - val_loss: 0.5681 - val_accuracy: 0.7232\n",
      "Epoch 138/200\n",
      "1495/1495 [==============================] - 4s 2ms/step - loss: 0.5225 - accuracy: 0.7436 - val_loss: 0.5778 - val_accuracy: 0.7235\n",
      "Epoch 139/200\n",
      "1495/1495 [==============================] - 4s 3ms/step - loss: 0.5167 - accuracy: 0.7498 - val_loss: 0.5764 - val_accuracy: 0.7235\n",
      "Epoch 140/200\n",
      "1495/1495 [==============================] - 3s 2ms/step - loss: 0.5168 - accuracy: 0.7480 - val_loss: 0.5710 - val_accuracy: 0.7237\n",
      "Epoch 141/200\n",
      "1495/1495 [==============================] - 4s 3ms/step - loss: 0.5134 - accuracy: 0.7527 - val_loss: 0.5742 - val_accuracy: 0.7223\n",
      "Epoch 142/200\n",
      "1495/1495 [==============================] - 3s 2ms/step - loss: 0.5124 - accuracy: 0.7533 - val_loss: 0.5706 - val_accuracy: 0.7245\n",
      "Epoch 143/200\n",
      "1495/1495 [==============================] - 4s 3ms/step - loss: 0.5123 - accuracy: 0.7509 - val_loss: 0.5685 - val_accuracy: 0.7247\n",
      "Epoch 144/200\n",
      "1495/1495 [==============================] - 4s 3ms/step - loss: 0.5168 - accuracy: 0.7473 - val_loss: 0.5718 - val_accuracy: 0.7226\n",
      "Epoch 145/200\n",
      "1495/1495 [==============================] - 4s 3ms/step - loss: 0.5180 - accuracy: 0.7472 - val_loss: 0.5745 - val_accuracy: 0.7221\n",
      "Epoch 146/200\n",
      "1495/1495 [==============================] - 4s 3ms/step - loss: 0.5182 - accuracy: 0.7476 - val_loss: 0.5735 - val_accuracy: 0.7216\n",
      "Epoch 147/200\n",
      "1495/1495 [==============================] - 4s 3ms/step - loss: 0.5158 - accuracy: 0.7493 - val_loss: 0.5692 - val_accuracy: 0.7233\n",
      "Epoch 148/200\n",
      "1495/1495 [==============================] - 4s 3ms/step - loss: 0.5171 - accuracy: 0.7476 - val_loss: 0.5788 - val_accuracy: 0.7191\n",
      "Epoch 149/200\n",
      "1495/1495 [==============================] - 4s 3ms/step - loss: 0.5161 - accuracy: 0.7503 - val_loss: 0.5795 - val_accuracy: 0.7217\n",
      "Epoch 150/200\n",
      "1495/1495 [==============================] - 4s 2ms/step - loss: 0.5150 - accuracy: 0.7482 - val_loss: 0.5758 - val_accuracy: 0.7250\n",
      "Epoch 151/200\n",
      "1495/1495 [==============================] - 4s 3ms/step - loss: 0.5122 - accuracy: 0.7512 - val_loss: 0.5730 - val_accuracy: 0.7233\n",
      "Epoch 152/200\n",
      "1495/1495 [==============================] - 4s 3ms/step - loss: 0.5133 - accuracy: 0.7499 - val_loss: 0.5746 - val_accuracy: 0.7235\n",
      "Epoch 153/200\n",
      "1495/1495 [==============================] - 4s 3ms/step - loss: 0.5155 - accuracy: 0.7479 - val_loss: 0.5776 - val_accuracy: 0.7227\n",
      "Epoch 154/200\n",
      "1495/1495 [==============================] - 4s 3ms/step - loss: 0.5137 - accuracy: 0.7511 - val_loss: 0.5761 - val_accuracy: 0.7217\n",
      "Epoch 155/200\n",
      "1495/1495 [==============================] - 4s 3ms/step - loss: 0.5144 - accuracy: 0.7501 - val_loss: 0.5772 - val_accuracy: 0.7213\n",
      "Epoch 156/200\n",
      "1495/1495 [==============================] - 4s 3ms/step - loss: 0.5150 - accuracy: 0.7486 - val_loss: 0.5748 - val_accuracy: 0.7205\n",
      "Epoch 157/200\n",
      "1495/1495 [==============================] - 4s 3ms/step - loss: 0.5127 - accuracy: 0.7510 - val_loss: 0.5814 - val_accuracy: 0.7234\n",
      "Epoch 158/200\n",
      "1495/1495 [==============================] - 4s 3ms/step - loss: 0.5113 - accuracy: 0.7502 - val_loss: 0.5748 - val_accuracy: 0.7230\n",
      "Epoch 159/200\n",
      "1495/1495 [==============================] - 4s 3ms/step - loss: 0.5127 - accuracy: 0.7505 - val_loss: 0.5761 - val_accuracy: 0.7225\n",
      "Epoch 160/200\n",
      "1495/1495 [==============================] - 4s 3ms/step - loss: 0.5109 - accuracy: 0.7524 - val_loss: 0.5781 - val_accuracy: 0.7215\n",
      "Epoch 161/200\n",
      "1495/1495 [==============================] - 4s 3ms/step - loss: 0.5133 - accuracy: 0.7500 - val_loss: 0.5786 - val_accuracy: 0.7208\n",
      "Epoch 162/200\n",
      "1495/1495 [==============================] - 4s 3ms/step - loss: 0.5092 - accuracy: 0.7522 - val_loss: 0.5835 - val_accuracy: 0.7215\n",
      "Epoch 163/200\n",
      "1495/1495 [==============================] - 4s 3ms/step - loss: 0.5094 - accuracy: 0.7510 - val_loss: 0.5757 - val_accuracy: 0.7247\n",
      "Epoch 164/200\n",
      "1495/1495 [==============================] - 4s 3ms/step - loss: 0.5109 - accuracy: 0.7530 - val_loss: 0.5804 - val_accuracy: 0.7201\n",
      "Epoch 165/200\n",
      "1495/1495 [==============================] - 4s 3ms/step - loss: 0.5111 - accuracy: 0.7504 - val_loss: 0.5771 - val_accuracy: 0.7227\n",
      "Epoch 166/200\n",
      "1495/1495 [==============================] - 4s 3ms/step - loss: 0.5091 - accuracy: 0.7547 - val_loss: 0.5792 - val_accuracy: 0.7216\n",
      "Epoch 167/200\n",
      "1495/1495 [==============================] - 4s 2ms/step - loss: 0.5065 - accuracy: 0.7559 - val_loss: 0.5763 - val_accuracy: 0.7267\n",
      "Epoch 168/200\n",
      "1495/1495 [==============================] - 4s 3ms/step - loss: 0.5119 - accuracy: 0.7499 - val_loss: 0.5795 - val_accuracy: 0.7213\n",
      "Epoch 169/200\n",
      "1495/1495 [==============================] - 4s 3ms/step - loss: 0.5138 - accuracy: 0.7486 - val_loss: 0.5799 - val_accuracy: 0.7221\n",
      "Epoch 170/200\n",
      "1495/1495 [==============================] - 4s 3ms/step - loss: 0.5120 - accuracy: 0.7493 - val_loss: 0.5815 - val_accuracy: 0.7229\n",
      "Epoch 171/200\n",
      "1495/1495 [==============================] - 3s 2ms/step - loss: 0.5100 - accuracy: 0.7523 - val_loss: 0.5799 - val_accuracy: 0.7217\n",
      "Epoch 172/200\n",
      "1495/1495 [==============================] - 4s 3ms/step - loss: 0.5126 - accuracy: 0.7499 - val_loss: 0.5772 - val_accuracy: 0.7227\n",
      "Epoch 173/200\n",
      "1495/1495 [==============================] - 4s 3ms/step - loss: 0.5104 - accuracy: 0.7526 - val_loss: 0.5839 - val_accuracy: 0.7213\n",
      "Epoch 174/200\n",
      "1495/1495 [==============================] - 4s 3ms/step - loss: 0.5103 - accuracy: 0.7511 - val_loss: 0.5833 - val_accuracy: 0.7209\n",
      "Epoch 175/200\n",
      "1495/1495 [==============================] - 4s 3ms/step - loss: 0.5121 - accuracy: 0.7493 - val_loss: 0.5836 - val_accuracy: 0.7225\n",
      "Epoch 176/200\n",
      "1495/1495 [==============================] - 4s 2ms/step - loss: 0.5064 - accuracy: 0.7537 - val_loss: 0.5824 - val_accuracy: 0.7236\n",
      "Epoch 177/200\n",
      "1495/1495 [==============================] - 4s 3ms/step - loss: 0.5111 - accuracy: 0.7512 - val_loss: 0.5868 - val_accuracy: 0.7219\n",
      "Epoch 178/200\n",
      "1495/1495 [==============================] - 4s 3ms/step - loss: 0.5087 - accuracy: 0.7523 - val_loss: 0.5799 - val_accuracy: 0.7222\n",
      "Epoch 179/200\n",
      "1495/1495 [==============================] - 4s 3ms/step - loss: 0.5060 - accuracy: 0.7524 - val_loss: 0.5810 - val_accuracy: 0.7233\n",
      "Epoch 180/200\n",
      "1495/1495 [==============================] - 4s 3ms/step - loss: 0.5077 - accuracy: 0.7528 - val_loss: 0.5856 - val_accuracy: 0.7212\n",
      "Epoch 181/200\n",
      "1495/1495 [==============================] - 4s 2ms/step - loss: 0.5093 - accuracy: 0.7515 - val_loss: 0.5826 - val_accuracy: 0.7213\n",
      "Epoch 182/200\n",
      "1495/1495 [==============================] - 4s 2ms/step - loss: 0.5100 - accuracy: 0.7517 - val_loss: 0.5891 - val_accuracy: 0.7214\n",
      "Epoch 183/200\n",
      "1495/1495 [==============================] - 4s 2ms/step - loss: 0.5056 - accuracy: 0.7562 - val_loss: 0.5856 - val_accuracy: 0.7228\n",
      "Epoch 184/200\n",
      "1495/1495 [==============================] - 5s 3ms/step - loss: 0.5138 - accuracy: 0.7488 - val_loss: 0.5855 - val_accuracy: 0.7224\n",
      "Epoch 185/200\n",
      "1495/1495 [==============================] - 4s 3ms/step - loss: 0.5089 - accuracy: 0.7517 - val_loss: 0.5857 - val_accuracy: 0.7245\n",
      "Epoch 186/200\n",
      "1495/1495 [==============================] - 4s 3ms/step - loss: 0.5085 - accuracy: 0.7531 - val_loss: 0.5807 - val_accuracy: 0.7208\n",
      "Epoch 187/200\n",
      "1495/1495 [==============================] - 4s 2ms/step - loss: 0.5066 - accuracy: 0.7530 - val_loss: 0.5825 - val_accuracy: 0.7270\n",
      "Epoch 188/200\n",
      "1495/1495 [==============================] - 4s 2ms/step - loss: 0.5057 - accuracy: 0.7536 - val_loss: 0.5858 - val_accuracy: 0.7233\n",
      "Epoch 189/200\n",
      "1495/1495 [==============================] - 4s 2ms/step - loss: 0.5072 - accuracy: 0.7539 - val_loss: 0.5888 - val_accuracy: 0.7215\n",
      "Epoch 190/200\n",
      "1495/1495 [==============================] - 4s 3ms/step - loss: 0.5061 - accuracy: 0.7527 - val_loss: 0.5861 - val_accuracy: 0.7221\n",
      "Epoch 191/200\n",
      "1495/1495 [==============================] - 4s 3ms/step - loss: 0.5063 - accuracy: 0.7533 - val_loss: 0.5877 - val_accuracy: 0.7200\n",
      "Epoch 192/200\n",
      "1495/1495 [==============================] - 4s 3ms/step - loss: 0.5049 - accuracy: 0.7558 - val_loss: 0.5930 - val_accuracy: 0.7208\n",
      "Epoch 193/200\n",
      "1495/1495 [==============================] - 4s 3ms/step - loss: 0.5045 - accuracy: 0.7521 - val_loss: 0.5843 - val_accuracy: 0.7202\n",
      "Epoch 194/200\n",
      "1495/1495 [==============================] - 4s 3ms/step - loss: 0.5073 - accuracy: 0.7515 - val_loss: 0.5907 - val_accuracy: 0.7212\n",
      "Epoch 195/200\n",
      "1495/1495 [==============================] - 4s 3ms/step - loss: 0.5092 - accuracy: 0.7512 - val_loss: 0.5918 - val_accuracy: 0.7229\n",
      "Epoch 196/200\n",
      "1495/1495 [==============================] - 4s 3ms/step - loss: 0.5058 - accuracy: 0.7521 - val_loss: 0.5893 - val_accuracy: 0.7217\n",
      "Epoch 197/200\n",
      "1495/1495 [==============================] - 4s 3ms/step - loss: 0.5027 - accuracy: 0.7564 - val_loss: 0.5942 - val_accuracy: 0.7205\n",
      "Epoch 198/200\n",
      "1495/1495 [==============================] - 4s 3ms/step - loss: 0.5038 - accuracy: 0.7543 - val_loss: 0.5956 - val_accuracy: 0.7178\n",
      "Epoch 199/200\n",
      "1495/1495 [==============================] - 4s 3ms/step - loss: 0.5095 - accuracy: 0.7516 - val_loss: 0.5925 - val_accuracy: 0.7221\n",
      "Epoch 200/200\n",
      "1495/1495 [==============================] - 4s 3ms/step - loss: 0.5059 - accuracy: 0.7538 - val_loss: 0.6050 - val_accuracy: 0.7184\n"
     ]
    }
   ],
   "source": [
    "from keras.models import Sequential\n",
    "from keras.layers import Dense\n",
    "\n",
    "model = Sequential([ Dense(48, activation='relu', input_shape=(11,)),    \n",
    "                    Dense(48, activation='relu'), \n",
    "                    Dense(32 , activation = 'relu'),\n",
    "                     Dense(16 , activation = 'relu'),\n",
    "                     Dense(8 , activation = 'relu'),\n",
    "                    Dense(1, activation='sigmoid'),])\n",
    "model.compile(optimizer='adam',   loss='binary_crossentropy',   metrics=['accuracy'])\n",
    "hist = model.fit(x_train, y_train,          \n",
    "                 batch_size=32, epochs=200,          \n",
    "                 validation_data=(x_val, y_val))"
   ]
  },
  {
   "cell_type": "code",
   "execution_count": 107,
   "id": "divine-discharge",
   "metadata": {},
   "outputs": [
    {
     "data": {
      "image/png": "[encoded data removed]",
      "text/plain": [
       "<Figure size 432x288 with 1 Axes>"
      ]
     },
     "metadata": {
      "needs_background": "light"
     },
     "output_type": "display_data"
    }
   ],
   "source": [
    "import matplotlib.pyplot as plt\n",
    "plt.plot(hist.history['loss'])\n",
    "plt.plot(hist.history['val_loss'])\n",
    "plt.title('Model loss')\n",
    "plt.ylabel('Loss')\n",
    "plt.xlabel('Epoch')\n",
    "plt.legend(['Train', 'Val'], loc='upper right')\n",
    "plt.show()"
   ]
  },
  {
   "cell_type": "code",
   "execution_count": 108,
   "id": "present-collectible",
   "metadata": {},
   "outputs": [
    {
     "data": {
      "image/png": "[encoded data removed]",
      "text/plain": [
       "<Figure size 432x288 with 1 Axes>"
      ]
     },
     "metadata": {
      "needs_background": "light"
     },
     "output_type": "display_data"
    }
   ],
   "source": [
    "plt.plot(hist.history['accuracy'])\n",
    "plt.plot(hist.history['val_accuracy'])\n",
    "plt.title('Model accuracy')\n",
    "plt.ylabel('Accuracy')\n",
    "plt.xlabel('Epoch')\n",
    "plt.legend(['Train', 'Val'], loc='lower right')\n",
    "plt.show()"
   ]
  },
  {
   "cell_type": "code",
   "execution_count": 109,
   "id": "dying-harrison",
   "metadata": {},
   "outputs": [
    {
     "name": "stdout",
     "output_type": "stream",
     "text": [
      "Epoch 1/200\n",
      "1495/1495 [==============================] - 6s 3ms/step - loss: 0.6312 - accuracy: 0.6723 - val_loss: 0.5722 - val_accuracy: 0.7255\n",
      "Epoch 2/200\n",
      "1495/1495 [==============================] - 5s 3ms/step - loss: 0.5653 - accuracy: 0.7269 - val_loss: 0.5569 - val_accuracy: 0.7268\n",
      "Epoch 3/200\n",
      "1495/1495 [==============================] - 4s 3ms/step - loss: 0.5505 - accuracy: 0.7296 - val_loss: 0.5548 - val_accuracy: 0.7257\n",
      "Epoch 4/200\n",
      "1495/1495 [==============================] - 5s 3ms/step - loss: 0.5474 - accuracy: 0.7315 - val_loss: 0.5561 - val_accuracy: 0.7218\n",
      "Epoch 5/200\n",
      "1495/1495 [==============================] - 5s 3ms/step - loss: 0.5507 - accuracy: 0.7311 - val_loss: 0.5500 - val_accuracy: 0.7295\n",
      "Epoch 6/200\n",
      "1495/1495 [==============================] - 5s 3ms/step - loss: 0.5476 - accuracy: 0.7299 - val_loss: 0.5528 - val_accuracy: 0.7260\n",
      "Epoch 7/200\n",
      "1495/1495 [==============================] - 5s 3ms/step - loss: 0.5455 - accuracy: 0.7320 - val_loss: 0.5525 - val_accuracy: 0.7215\n",
      "Epoch 8/200\n",
      "1495/1495 [==============================] - 5s 3ms/step - loss: 0.5490 - accuracy: 0.7311 - val_loss: 0.5517 - val_accuracy: 0.7270\n",
      "Epoch 9/200\n",
      "1495/1495 [==============================] - 5s 3ms/step - loss: 0.5442 - accuracy: 0.7332 - val_loss: 0.5491 - val_accuracy: 0.7287\n",
      "Epoch 10/200\n",
      "1495/1495 [==============================] - 5s 3ms/step - loss: 0.5435 - accuracy: 0.7333 - val_loss: 0.5508 - val_accuracy: 0.7268\n",
      "Epoch 11/200\n",
      "1495/1495 [==============================] - 5s 3ms/step - loss: 0.5463 - accuracy: 0.7325 - val_loss: 0.5550 - val_accuracy: 0.7250\n",
      "Epoch 12/200\n",
      "1495/1495 [==============================] - 5s 3ms/step - loss: 0.5411 - accuracy: 0.7336 - val_loss: 0.5487 - val_accuracy: 0.7300\n",
      "Epoch 13/200\n",
      "1495/1495 [==============================] - 4s 3ms/step - loss: 0.5459 - accuracy: 0.7344 - val_loss: 0.5505 - val_accuracy: 0.7256\n",
      "Epoch 14/200\n",
      "1495/1495 [==============================] - 5s 3ms/step - loss: 0.5434 - accuracy: 0.7346 - val_loss: 0.5496 - val_accuracy: 0.7274\n",
      "Epoch 15/200\n",
      "1495/1495 [==============================] - 5s 3ms/step - loss: 0.5429 - accuracy: 0.7360 - val_loss: 0.5546 - val_accuracy: 0.7265\n",
      "Epoch 16/200\n",
      "1495/1495 [==============================] - 4s 3ms/step - loss: 0.5452 - accuracy: 0.7327 - val_loss: 0.5531 - val_accuracy: 0.7223\n",
      "Epoch 17/200\n",
      "1495/1495 [==============================] - 5s 3ms/step - loss: 0.5493 - accuracy: 0.7282 - val_loss: 0.5489 - val_accuracy: 0.7263\n",
      "Epoch 18/200\n",
      "1495/1495 [==============================] - 5s 3ms/step - loss: 0.5454 - accuracy: 0.7333 - val_loss: 0.5506 - val_accuracy: 0.7285\n",
      "Epoch 19/200\n",
      "1495/1495 [==============================] - 5s 3ms/step - loss: 0.5421 - accuracy: 0.7329 - val_loss: 0.5532 - val_accuracy: 0.7237\n",
      "Epoch 20/200\n",
      "1495/1495 [==============================] - 5s 3ms/step - loss: 0.5402 - accuracy: 0.7361 - val_loss: 0.5509 - val_accuracy: 0.7268\n",
      "Epoch 21/200\n",
      "1495/1495 [==============================] - 5s 3ms/step - loss: 0.5403 - accuracy: 0.7367 - val_loss: 0.5514 - val_accuracy: 0.7294\n",
      "Epoch 22/200\n",
      "1495/1495 [==============================] - 5s 3ms/step - loss: 0.5488 - accuracy: 0.7308 - val_loss: 0.5502 - val_accuracy: 0.7284\n",
      "Epoch 23/200\n",
      "1495/1495 [==============================] - 5s 3ms/step - loss: 0.5438 - accuracy: 0.7333 - val_loss: 0.5511 - val_accuracy: 0.7260\n",
      "Epoch 24/200\n",
      "1495/1495 [==============================] - 5s 3ms/step - loss: 0.5430 - accuracy: 0.7334 - val_loss: 0.5506 - val_accuracy: 0.7271\n",
      "Epoch 25/200\n",
      "1495/1495 [==============================] - 5s 3ms/step - loss: 0.5385 - accuracy: 0.7372 - val_loss: 0.5512 - val_accuracy: 0.7271\n",
      "Epoch 26/200\n",
      "1495/1495 [==============================] - 4s 3ms/step - loss: 0.5422 - accuracy: 0.7333 - val_loss: 0.5518 - val_accuracy: 0.7236\n",
      "Epoch 27/200\n",
      "1495/1495 [==============================] - 4s 3ms/step - loss: 0.5411 - accuracy: 0.7336 - val_loss: 0.5485 - val_accuracy: 0.7315\n",
      "Epoch 28/200\n",
      "1495/1495 [==============================] - 5s 3ms/step - loss: 0.5439 - accuracy: 0.7334 - val_loss: 0.5490 - val_accuracy: 0.7282\n",
      "Epoch 29/200\n",
      "1495/1495 [==============================] - 5s 3ms/step - loss: 0.5432 - accuracy: 0.7338 - val_loss: 0.5518 - val_accuracy: 0.7256\n",
      "Epoch 30/200\n",
      "1495/1495 [==============================] - 5s 3ms/step - loss: 0.5405 - accuracy: 0.7355 - val_loss: 0.5497 - val_accuracy: 0.7274\n",
      "Epoch 31/200\n",
      "1495/1495 [==============================] - 4s 3ms/step - loss: 0.5378 - accuracy: 0.7375 - val_loss: 0.5488 - val_accuracy: 0.7280\n",
      "Epoch 32/200\n",
      "1495/1495 [==============================] - 4s 3ms/step - loss: 0.5399 - accuracy: 0.7357 - val_loss: 0.5488 - val_accuracy: 0.7286\n",
      "Epoch 33/200\n",
      "1495/1495 [==============================] - 4s 3ms/step - loss: 0.5389 - accuracy: 0.7368 - val_loss: 0.5496 - val_accuracy: 0.7280\n",
      "Epoch 34/200\n",
      "1495/1495 [==============================] - 5s 3ms/step - loss: 0.5362 - accuracy: 0.7402 - val_loss: 0.5522 - val_accuracy: 0.7258\n",
      "Epoch 35/200\n",
      "1495/1495 [==============================] - 5s 3ms/step - loss: 0.5419 - accuracy: 0.7344 - val_loss: 0.5505 - val_accuracy: 0.7277\n",
      "Epoch 36/200\n",
      "1495/1495 [==============================] - 5s 3ms/step - loss: 0.5413 - accuracy: 0.7353 - val_loss: 0.5521 - val_accuracy: 0.7292\n",
      "Epoch 37/200\n",
      "1495/1495 [==============================] - 5s 3ms/step - loss: 0.5400 - accuracy: 0.7361 - val_loss: 0.5516 - val_accuracy: 0.7290\n",
      "Epoch 38/200\n",
      "1495/1495 [==============================] - 5s 3ms/step - loss: 0.5385 - accuracy: 0.7360 - val_loss: 0.5510 - val_accuracy: 0.7272\n",
      "Epoch 39/200\n",
      "1495/1495 [==============================] - 4s 3ms/step - loss: 0.5421 - accuracy: 0.7339 - val_loss: 0.5518 - val_accuracy: 0.7297\n",
      "Epoch 40/200\n",
      "1495/1495 [==============================] - 5s 3ms/step - loss: 0.5374 - accuracy: 0.7382 - val_loss: 0.5515 - val_accuracy: 0.7251\n",
      "Epoch 41/200\n",
      "1495/1495 [==============================] - 5s 3ms/step - loss: 0.5350 - accuracy: 0.7385 - val_loss: 0.5507 - val_accuracy: 0.7280\n",
      "Epoch 42/200\n",
      "1495/1495 [==============================] - 4s 3ms/step - loss: 0.5364 - accuracy: 0.7374 - val_loss: 0.5530 - val_accuracy: 0.7280\n",
      "Epoch 43/200\n",
      "1495/1495 [==============================] - 5s 3ms/step - loss: 0.5353 - accuracy: 0.7389 - val_loss: 0.5519 - val_accuracy: 0.7272\n",
      "Epoch 44/200\n",
      "1495/1495 [==============================] - 4s 2ms/step - loss: 0.5376 - accuracy: 0.7379 - val_loss: 0.5570 - val_accuracy: 0.7251\n",
      "Epoch 45/200\n",
      "1495/1495 [==============================] - 5s 3ms/step - loss: 0.5404 - accuracy: 0.7351 - val_loss: 0.5510 - val_accuracy: 0.7284\n",
      "Epoch 46/200\n",
      "1495/1495 [==============================] - 4s 3ms/step - loss: 0.5362 - accuracy: 0.7395 - val_loss: 0.5512 - val_accuracy: 0.7263\n",
      "Epoch 47/200\n",
      "1495/1495 [==============================] - 5s 3ms/step - loss: 0.5364 - accuracy: 0.7380 - val_loss: 0.5515 - val_accuracy: 0.7280\n",
      "Epoch 48/200\n",
      "1495/1495 [==============================] - 4s 3ms/step - loss: 0.5329 - accuracy: 0.7409 - val_loss: 0.5531 - val_accuracy: 0.7259\n",
      "Epoch 49/200\n",
      "1495/1495 [==============================] - 4s 3ms/step - loss: 0.5366 - accuracy: 0.7376 - val_loss: 0.5535 - val_accuracy: 0.7247\n",
      "Epoch 50/200\n",
      "1495/1495 [==============================] - 5s 3ms/step - loss: 0.5323 - accuracy: 0.7427 - val_loss: 0.5537 - val_accuracy: 0.7270\n",
      "Epoch 51/200\n",
      "1495/1495 [==============================] - 5s 3ms/step - loss: 0.5366 - accuracy: 0.7377 - val_loss: 0.5548 - val_accuracy: 0.7255\n",
      "Epoch 52/200\n",
      "1495/1495 [==============================] - 5s 3ms/step - loss: 0.5353 - accuracy: 0.7425 - val_loss: 0.5539 - val_accuracy: 0.7265\n",
      "Epoch 53/200\n",
      "1495/1495 [==============================] - 5s 3ms/step - loss: 0.5325 - accuracy: 0.7436 - val_loss: 0.5576 - val_accuracy: 0.7299\n",
      "Epoch 54/200\n",
      "1495/1495 [==============================] - 5s 3ms/step - loss: 0.5352 - accuracy: 0.7415 - val_loss: 0.5562 - val_accuracy: 0.7268\n",
      "Epoch 55/200\n",
      "1495/1495 [==============================] - 5s 3ms/step - loss: 0.5340 - accuracy: 0.7395 - val_loss: 0.5540 - val_accuracy: 0.7251\n",
      "Epoch 56/200\n",
      "1495/1495 [==============================] - 4s 3ms/step - loss: 0.5361 - accuracy: 0.7400 - val_loss: 0.5573 - val_accuracy: 0.7263\n",
      "Epoch 57/200\n",
      "1495/1495 [==============================] - 5s 3ms/step - loss: 0.5323 - accuracy: 0.7419 - val_loss: 0.5558 - val_accuracy: 0.7286\n",
      "Epoch 58/200\n",
      "1495/1495 [==============================] - 5s 3ms/step - loss: 0.5329 - accuracy: 0.7398 - val_loss: 0.5573 - val_accuracy: 0.7304\n",
      "Epoch 59/200\n",
      "1495/1495 [==============================] - 5s 3ms/step - loss: 0.5328 - accuracy: 0.7413 - val_loss: 0.5549 - val_accuracy: 0.7262\n",
      "Epoch 60/200\n",
      "1495/1495 [==============================] - 5s 3ms/step - loss: 0.5318 - accuracy: 0.7413 - val_loss: 0.5543 - val_accuracy: 0.7289\n",
      "Epoch 61/200\n",
      "1495/1495 [==============================] - 5s 3ms/step - loss: 0.5308 - accuracy: 0.7433 - val_loss: 0.5602 - val_accuracy: 0.7214\n",
      "Epoch 62/200\n",
      "1495/1495 [==============================] - 5s 3ms/step - loss: 0.5310 - accuracy: 0.7414 - val_loss: 0.5567 - val_accuracy: 0.7256\n",
      "Epoch 63/200\n",
      "1495/1495 [==============================] - 5s 3ms/step - loss: 0.5300 - accuracy: 0.7418 - val_loss: 0.5556 - val_accuracy: 0.7261\n",
      "Epoch 64/200\n",
      "1495/1495 [==============================] - 5s 3ms/step - loss: 0.5277 - accuracy: 0.7440 - val_loss: 0.5563 - val_accuracy: 0.7258\n",
      "Epoch 65/200\n",
      "1495/1495 [==============================] - 5s 3ms/step - loss: 0.5329 - accuracy: 0.7415 - val_loss: 0.5589 - val_accuracy: 0.7284\n",
      "Epoch 66/200\n",
      "1495/1495 [==============================] - 5s 3ms/step - loss: 0.5326 - accuracy: 0.7420 - val_loss: 0.5659 - val_accuracy: 0.7255\n",
      "Epoch 67/200\n",
      "1495/1495 [==============================] - 5s 3ms/step - loss: 0.5337 - accuracy: 0.7390 - val_loss: 0.5615 - val_accuracy: 0.7282\n",
      "Epoch 68/200\n",
      "1495/1495 [==============================] - 5s 3ms/step - loss: 0.5323 - accuracy: 0.7384 - val_loss: 0.5611 - val_accuracy: 0.7279\n",
      "Epoch 69/200\n",
      "1495/1495 [==============================] - 5s 3ms/step - loss: 0.5303 - accuracy: 0.7408 - val_loss: 0.5608 - val_accuracy: 0.7250\n",
      "Epoch 70/200\n",
      "1495/1495 [==============================] - 5s 3ms/step - loss: 0.5324 - accuracy: 0.7432 - val_loss: 0.5608 - val_accuracy: 0.7241\n",
      "Epoch 71/200\n",
      "1495/1495 [==============================] - 5s 3ms/step - loss: 0.5312 - accuracy: 0.7417 - val_loss: 0.5649 - val_accuracy: 0.7245\n",
      "Epoch 72/200\n",
      "1495/1495 [==============================] - 5s 3ms/step - loss: 0.5270 - accuracy: 0.7437 - val_loss: 0.5641 - val_accuracy: 0.7240\n",
      "Epoch 73/200\n",
      "1495/1495 [==============================] - 5s 3ms/step - loss: 0.5301 - accuracy: 0.7423 - val_loss: 0.5630 - val_accuracy: 0.7248\n",
      "Epoch 74/200\n",
      "1495/1495 [==============================] - 5s 3ms/step - loss: 0.5257 - accuracy: 0.7461 - val_loss: 0.5663 - val_accuracy: 0.7230\n",
      "Epoch 75/200\n",
      "1495/1495 [==============================] - 5s 3ms/step - loss: 0.5304 - accuracy: 0.7431 - val_loss: 0.5601 - val_accuracy: 0.7256\n",
      "Epoch 76/200\n",
      "1495/1495 [==============================] - 5s 3ms/step - loss: 0.5309 - accuracy: 0.7391 - val_loss: 0.5631 - val_accuracy: 0.7248\n",
      "Epoch 77/200\n",
      "1495/1495 [==============================] - 5s 3ms/step - loss: 0.5252 - accuracy: 0.7462 - val_loss: 0.5630 - val_accuracy: 0.7244\n",
      "Epoch 78/200\n",
      "1495/1495 [==============================] - 5s 3ms/step - loss: 0.5263 - accuracy: 0.7450 - val_loss: 0.5689 - val_accuracy: 0.7244\n",
      "Epoch 79/200\n",
      "1495/1495 [==============================] - 5s 3ms/step - loss: 0.5269 - accuracy: 0.7418 - val_loss: 0.5622 - val_accuracy: 0.7244\n",
      "Epoch 80/200\n",
      "1495/1495 [==============================] - 5s 3ms/step - loss: 0.5267 - accuracy: 0.7459 - val_loss: 0.5644 - val_accuracy: 0.7242\n",
      "Epoch 81/200\n",
      "1495/1495 [==============================] - 5s 3ms/step - loss: 0.5238 - accuracy: 0.7484 - val_loss: 0.5637 - val_accuracy: 0.7258\n",
      "Epoch 82/200\n",
      "1495/1495 [==============================] - 5s 3ms/step - loss: 0.5293 - accuracy: 0.7416 - val_loss: 0.5655 - val_accuracy: 0.7230\n",
      "Epoch 83/200\n",
      "1495/1495 [==============================] - 5s 3ms/step - loss: 0.5246 - accuracy: 0.7450 - val_loss: 0.5637 - val_accuracy: 0.7251\n",
      "Epoch 84/200\n",
      "1495/1495 [==============================] - 5s 3ms/step - loss: 0.5264 - accuracy: 0.7459 - val_loss: 0.5702 - val_accuracy: 0.7260\n",
      "Epoch 85/200\n",
      "1495/1495 [==============================] - 5s 3ms/step - loss: 0.5239 - accuracy: 0.7469 - val_loss: 0.5645 - val_accuracy: 0.7287\n",
      "Epoch 86/200\n",
      "1495/1495 [==============================] - 5s 3ms/step - loss: 0.5252 - accuracy: 0.7446 - val_loss: 0.5685 - val_accuracy: 0.7251\n",
      "Epoch 87/200\n",
      "1495/1495 [==============================] - 5s 3ms/step - loss: 0.5267 - accuracy: 0.7442 - val_loss: 0.5675 - val_accuracy: 0.7271\n",
      "Epoch 88/200\n",
      "1495/1495 [==============================] - 5s 3ms/step - loss: 0.5263 - accuracy: 0.7459 - val_loss: 0.5704 - val_accuracy: 0.7242\n",
      "Epoch 89/200\n",
      "1495/1495 [==============================] - 5s 3ms/step - loss: 0.5246 - accuracy: 0.7461 - val_loss: 0.5689 - val_accuracy: 0.7239\n",
      "Epoch 90/200\n",
      "1495/1495 [==============================] - 5s 3ms/step - loss: 0.5227 - accuracy: 0.7492 - val_loss: 0.5743 - val_accuracy: 0.7191\n",
      "Epoch 91/200\n",
      "1495/1495 [==============================] - 5s 3ms/step - loss: 0.5270 - accuracy: 0.7442 - val_loss: 0.5736 - val_accuracy: 0.7172\n",
      "Epoch 92/200\n",
      "1495/1495 [==============================] - 5s 3ms/step - loss: 0.5229 - accuracy: 0.7492 - val_loss: 0.5716 - val_accuracy: 0.7232\n",
      "Epoch 93/200\n",
      "1495/1495 [==============================] - 5s 3ms/step - loss: 0.5254 - accuracy: 0.7458 - val_loss: 0.5759 - val_accuracy: 0.7235\n",
      "Epoch 94/200\n",
      "1495/1495 [==============================] - 4s 3ms/step - loss: 0.5216 - accuracy: 0.7450 - val_loss: 0.5745 - val_accuracy: 0.7240\n",
      "Epoch 95/200\n",
      "1495/1495 [==============================] - 5s 3ms/step - loss: 0.5193 - accuracy: 0.7511 - val_loss: 0.5759 - val_accuracy: 0.7234\n",
      "Epoch 96/200\n",
      "1495/1495 [==============================] - 5s 3ms/step - loss: 0.5194 - accuracy: 0.7478 - val_loss: 0.5798 - val_accuracy: 0.7235\n",
      "Epoch 97/200\n",
      "1495/1495 [==============================] - 5s 3ms/step - loss: 0.5199 - accuracy: 0.7490 - val_loss: 0.5827 - val_accuracy: 0.7234\n",
      "Epoch 98/200\n",
      "1495/1495 [==============================] - 5s 3ms/step - loss: 0.5197 - accuracy: 0.7471 - val_loss: 0.5791 - val_accuracy: 0.7224\n",
      "Epoch 99/200\n",
      "1495/1495 [==============================] - 5s 3ms/step - loss: 0.5185 - accuracy: 0.7487 - val_loss: 0.5879 - val_accuracy: 0.7195\n",
      "Epoch 100/200\n",
      "1495/1495 [==============================] - 5s 3ms/step - loss: 0.5194 - accuracy: 0.7494 - val_loss: 0.5822 - val_accuracy: 0.7242\n",
      "Epoch 101/200\n",
      "1495/1495 [==============================] - 5s 3ms/step - loss: 0.5219 - accuracy: 0.7458 - val_loss: 0.5879 - val_accuracy: 0.7238\n",
      "Epoch 102/200\n",
      "1495/1495 [==============================] - 5s 3ms/step - loss: 0.5167 - accuracy: 0.7514 - val_loss: 0.5821 - val_accuracy: 0.7230\n",
      "Epoch 103/200\n",
      "1495/1495 [==============================] - 4s 3ms/step - loss: 0.5183 - accuracy: 0.7491 - val_loss: 0.5797 - val_accuracy: 0.7243\n",
      "Epoch 104/200\n",
      "1495/1495 [==============================] - 4s 3ms/step - loss: 0.5206 - accuracy: 0.7496 - val_loss: 0.5914 - val_accuracy: 0.7211\n",
      "Epoch 105/200\n",
      "1495/1495 [==============================] - 5s 3ms/step - loss: 0.5178 - accuracy: 0.7509 - val_loss: 0.5866 - val_accuracy: 0.7203\n",
      "Epoch 106/200\n",
      "1495/1495 [==============================] - 5s 3ms/step - loss: 0.5157 - accuracy: 0.7502 - val_loss: 0.5878 - val_accuracy: 0.7239\n",
      "Epoch 107/200\n",
      "1495/1495 [==============================] - 5s 3ms/step - loss: 0.5178 - accuracy: 0.7511 - val_loss: 0.5935 - val_accuracy: 0.7194\n",
      "Epoch 108/200\n",
      "1495/1495 [==============================] - 5s 3ms/step - loss: 0.5188 - accuracy: 0.7486 - val_loss: 0.5952 - val_accuracy: 0.7235\n",
      "Epoch 109/200\n",
      "1495/1495 [==============================] - 4s 3ms/step - loss: 0.5200 - accuracy: 0.7497 - val_loss: 0.5923 - val_accuracy: 0.7225\n",
      "Epoch 110/200\n",
      "1495/1495 [==============================] - 4s 3ms/step - loss: 0.5197 - accuracy: 0.7480 - val_loss: 0.5940 - val_accuracy: 0.7226\n",
      "Epoch 111/200\n",
      "1495/1495 [==============================] - 5s 3ms/step - loss: 0.5195 - accuracy: 0.7505 - val_loss: 0.5998 - val_accuracy: 0.7226\n",
      "Epoch 112/200\n",
      "1495/1495 [==============================] - 4s 3ms/step - loss: 0.5182 - accuracy: 0.7516 - val_loss: 0.6015 - val_accuracy: 0.7165\n",
      "Epoch 113/200\n",
      "1495/1495 [==============================] - 5s 3ms/step - loss: 0.5128 - accuracy: 0.7540 - val_loss: 0.5896 - val_accuracy: 0.7200\n",
      "Epoch 114/200\n",
      "1495/1495 [==============================] - 5s 3ms/step - loss: 0.5200 - accuracy: 0.7459 - val_loss: 0.5899 - val_accuracy: 0.7203\n",
      "Epoch 115/200\n",
      "1495/1495 [==============================] - 5s 3ms/step - loss: 0.5185 - accuracy: 0.7491 - val_loss: 0.5912 - val_accuracy: 0.7225\n",
      "Epoch 116/200\n",
      "1495/1495 [==============================] - 5s 3ms/step - loss: 0.5154 - accuracy: 0.7516 - val_loss: 0.6107 - val_accuracy: 0.7194\n",
      "Epoch 117/200\n",
      "1495/1495 [==============================] - 5s 3ms/step - loss: 0.5135 - accuracy: 0.7527 - val_loss: 0.5989 - val_accuracy: 0.7222\n",
      "Epoch 118/200\n",
      "1495/1495 [==============================] - 5s 3ms/step - loss: 0.5174 - accuracy: 0.7481 - val_loss: 0.6141 - val_accuracy: 0.7234\n",
      "Epoch 119/200\n",
      "1495/1495 [==============================] - 5s 3ms/step - loss: 0.5134 - accuracy: 0.7524 - val_loss: 0.5946 - val_accuracy: 0.7222\n",
      "Epoch 120/200\n",
      "1495/1495 [==============================] - 5s 3ms/step - loss: 0.5107 - accuracy: 0.7535 - val_loss: 0.6065 - val_accuracy: 0.7235\n",
      "Epoch 121/200\n",
      "1495/1495 [==============================] - 5s 3ms/step - loss: 0.5150 - accuracy: 0.7505 - val_loss: 0.6024 - val_accuracy: 0.7213\n",
      "Epoch 122/200\n",
      "1495/1495 [==============================] - 5s 3ms/step - loss: 0.5140 - accuracy: 0.7538 - val_loss: 0.6011 - val_accuracy: 0.7232\n",
      "Epoch 123/200\n",
      "1495/1495 [==============================] - 5s 3ms/step - loss: 0.5146 - accuracy: 0.7491 - val_loss: 0.6014 - val_accuracy: 0.7207\n",
      "Epoch 124/200\n",
      "1495/1495 [==============================] - 5s 3ms/step - loss: 0.5124 - accuracy: 0.7535 - val_loss: 0.6150 - val_accuracy: 0.7201\n",
      "Epoch 125/200\n",
      "1495/1495 [==============================] - 5s 3ms/step - loss: 0.5115 - accuracy: 0.7554 - val_loss: 0.6063 - val_accuracy: 0.7212\n",
      "Epoch 126/200\n",
      "1495/1495 [==============================] - 5s 3ms/step - loss: 0.5158 - accuracy: 0.7505 - val_loss: 0.6078 - val_accuracy: 0.7208\n",
      "Epoch 127/200\n",
      "1495/1495 [==============================] - 5s 3ms/step - loss: 0.5135 - accuracy: 0.7535 - val_loss: 0.6042 - val_accuracy: 0.7198\n",
      "Epoch 128/200\n",
      "1495/1495 [==============================] - 5s 3ms/step - loss: 0.5095 - accuracy: 0.7551 - val_loss: 0.6054 - val_accuracy: 0.7235\n",
      "Epoch 129/200\n",
      "1495/1495 [==============================] - 5s 3ms/step - loss: 0.5112 - accuracy: 0.7557 - val_loss: 0.6264 - val_accuracy: 0.7165\n",
      "Epoch 130/200\n",
      "1495/1495 [==============================] - 4s 3ms/step - loss: 0.5105 - accuracy: 0.7553 - val_loss: 0.5999 - val_accuracy: 0.7224\n",
      "Epoch 131/200\n",
      "1495/1495 [==============================] - 4s 3ms/step - loss: 0.5153 - accuracy: 0.7505 - val_loss: 0.6045 - val_accuracy: 0.7216\n",
      "Epoch 132/200\n",
      "1495/1495 [==============================] - 5s 3ms/step - loss: 0.5108 - accuracy: 0.7530 - val_loss: 0.6228 - val_accuracy: 0.7203\n",
      "Epoch 133/200\n",
      "1495/1495 [==============================] - 4s 3ms/step - loss: 0.5157 - accuracy: 0.7494 - val_loss: 0.6154 - val_accuracy: 0.7224\n",
      "Epoch 134/200\n",
      "1495/1495 [==============================] - 5s 3ms/step - loss: 0.5112 - accuracy: 0.7537 - val_loss: 0.6122 - val_accuracy: 0.7237\n",
      "Epoch 135/200\n",
      "1495/1495 [==============================] - 5s 3ms/step - loss: 0.5126 - accuracy: 0.7529 - val_loss: 0.6057 - val_accuracy: 0.7224\n",
      "Epoch 136/200\n",
      "1495/1495 [==============================] - 4s 3ms/step - loss: 0.5108 - accuracy: 0.7547 - val_loss: 0.6203 - val_accuracy: 0.7211\n",
      "Epoch 137/200\n",
      "1495/1495 [==============================] - 5s 3ms/step - loss: 0.5125 - accuracy: 0.7517 - val_loss: 0.6165 - val_accuracy: 0.7205\n",
      "Epoch 138/200\n",
      "1495/1495 [==============================] - 5s 3ms/step - loss: 0.5060 - accuracy: 0.7565 - val_loss: 0.6208 - val_accuracy: 0.7172\n",
      "Epoch 139/200\n",
      "1495/1495 [==============================] - 4s 3ms/step - loss: 0.5071 - accuracy: 0.7579 - val_loss: 0.6078 - val_accuracy: 0.7227\n",
      "Epoch 140/200\n",
      "1495/1495 [==============================] - 5s 3ms/step - loss: 0.5048 - accuracy: 0.7568 - val_loss: 0.6254 - val_accuracy: 0.7190\n",
      "Epoch 141/200\n",
      "1495/1495 [==============================] - 5s 3ms/step - loss: 0.5062 - accuracy: 0.7590 - val_loss: 0.6145 - val_accuracy: 0.7223\n",
      "Epoch 142/200\n",
      "1495/1495 [==============================] - 5s 3ms/step - loss: 0.5090 - accuracy: 0.7522 - val_loss: 0.6288 - val_accuracy: 0.7217\n",
      "Epoch 143/200\n",
      "1495/1495 [==============================] - 5s 3ms/step - loss: 0.5059 - accuracy: 0.7567 - val_loss: 0.6217 - val_accuracy: 0.7213\n",
      "Epoch 144/200\n",
      "1495/1495 [==============================] - 5s 3ms/step - loss: 0.5084 - accuracy: 0.7552 - val_loss: 0.6191 - val_accuracy: 0.7235\n",
      "Epoch 145/200\n",
      "1495/1495 [==============================] - 5s 3ms/step - loss: 0.5104 - accuracy: 0.7528 - val_loss: 0.6206 - val_accuracy: 0.7191\n",
      "Epoch 146/200\n",
      "1495/1495 [==============================] - 4s 3ms/step - loss: 0.5062 - accuracy: 0.7569 - val_loss: 0.6268 - val_accuracy: 0.7209\n",
      "Epoch 147/200\n",
      "1495/1495 [==============================] - 5s 3ms/step - loss: 0.5032 - accuracy: 0.7599 - val_loss: 0.6198 - val_accuracy: 0.7193\n",
      "Epoch 148/200\n",
      "1495/1495 [==============================] - 5s 3ms/step - loss: 0.5035 - accuracy: 0.7593 - val_loss: 0.6109 - val_accuracy: 0.7232\n",
      "Epoch 149/200\n",
      "1495/1495 [==============================] - 4s 3ms/step - loss: 0.5008 - accuracy: 0.7605 - val_loss: 0.6350 - val_accuracy: 0.7236\n",
      "Epoch 150/200\n",
      "1495/1495 [==============================] - 5s 3ms/step - loss: 0.5051 - accuracy: 0.7560 - val_loss: 0.6385 - val_accuracy: 0.7191\n",
      "Epoch 151/200\n",
      "1495/1495 [==============================] - 5s 3ms/step - loss: 0.5033 - accuracy: 0.7587 - val_loss: 0.6482 - val_accuracy: 0.7170\n",
      "Epoch 152/200\n",
      "1495/1495 [==============================] - 5s 3ms/step - loss: 0.5056 - accuracy: 0.7560 - val_loss: 0.6359 - val_accuracy: 0.7214\n",
      "Epoch 153/200\n",
      "1495/1495 [==============================] - 5s 3ms/step - loss: 0.5070 - accuracy: 0.7557 - val_loss: 0.6110 - val_accuracy: 0.7186\n",
      "Epoch 154/200\n",
      "1495/1495 [==============================] - 5s 3ms/step - loss: 0.5053 - accuracy: 0.7578 - val_loss: 0.6374 - val_accuracy: 0.7227\n",
      "Epoch 155/200\n",
      "1495/1495 [==============================] - 4s 3ms/step - loss: 0.5037 - accuracy: 0.7576 - val_loss: 0.6361 - val_accuracy: 0.7200\n",
      "Epoch 156/200\n",
      "1495/1495 [==============================] - 4s 3ms/step - loss: 0.5064 - accuracy: 0.7565 - val_loss: 0.6237 - val_accuracy: 0.7197\n",
      "Epoch 157/200\n",
      "1495/1495 [==============================] - 5s 3ms/step - loss: 0.5047 - accuracy: 0.7548 - val_loss: 0.6425 - val_accuracy: 0.7215\n",
      "Epoch 158/200\n",
      "1495/1495 [==============================] - 5s 3ms/step - loss: 0.5042 - accuracy: 0.7559 - val_loss: 0.6295 - val_accuracy: 0.7207\n",
      "Epoch 159/200\n",
      "1495/1495 [==============================] - 4s 3ms/step - loss: 0.4993 - accuracy: 0.7608 - val_loss: 0.6495 - val_accuracy: 0.7206\n",
      "Epoch 160/200\n",
      "1495/1495 [==============================] - 5s 3ms/step - loss: 0.5060 - accuracy: 0.7567 - val_loss: 0.6399 - val_accuracy: 0.7199\n",
      "Epoch 161/200\n",
      "1495/1495 [==============================] - 5s 3ms/step - loss: 0.5043 - accuracy: 0.7548 - val_loss: 0.6391 - val_accuracy: 0.7215\n",
      "Epoch 162/200\n",
      "1495/1495 [==============================] - 4s 3ms/step - loss: 0.4998 - accuracy: 0.7600 - val_loss: 0.6482 - val_accuracy: 0.7205\n",
      "Epoch 163/200\n",
      "1495/1495 [==============================] - 4s 3ms/step - loss: 0.5026 - accuracy: 0.7581 - val_loss: 0.6485 - val_accuracy: 0.7224\n",
      "Epoch 164/200\n",
      "1495/1495 [==============================] - 5s 3ms/step - loss: 0.5003 - accuracy: 0.7617 - val_loss: 0.6408 - val_accuracy: 0.7174\n",
      "Epoch 165/200\n",
      "1495/1495 [==============================] - 5s 3ms/step - loss: 0.5007 - accuracy: 0.7584 - val_loss: 0.6454 - val_accuracy: 0.7204\n",
      "Epoch 166/200\n",
      "1495/1495 [==============================] - 5s 3ms/step - loss: 0.4996 - accuracy: 0.7603 - val_loss: 0.6437 - val_accuracy: 0.7203\n",
      "Epoch 167/200\n",
      "1495/1495 [==============================] - 5s 3ms/step - loss: 0.5028 - accuracy: 0.7575 - val_loss: 0.6474 - val_accuracy: 0.7215\n",
      "Epoch 168/200\n",
      "1495/1495 [==============================] - 5s 3ms/step - loss: 0.5024 - accuracy: 0.7584 - val_loss: 0.6516 - val_accuracy: 0.7220\n",
      "Epoch 169/200\n",
      "1495/1495 [==============================] - 5s 3ms/step - loss: 0.4990 - accuracy: 0.7602 - val_loss: 0.6544 - val_accuracy: 0.7215\n",
      "Epoch 170/200\n",
      "1495/1495 [==============================] - 5s 3ms/step - loss: 0.5019 - accuracy: 0.7581 - val_loss: 0.6467 - val_accuracy: 0.7203\n",
      "Epoch 171/200\n",
      "1495/1495 [==============================] - 5s 3ms/step - loss: 0.4981 - accuracy: 0.7593 - val_loss: 0.6547 - val_accuracy: 0.7211\n",
      "Epoch 172/200\n",
      "1495/1495 [==============================] - 5s 3ms/step - loss: 0.4988 - accuracy: 0.7605 - val_loss: 0.6624 - val_accuracy: 0.7195\n",
      "Epoch 173/200\n",
      "1495/1495 [==============================] - 4s 3ms/step - loss: 0.4953 - accuracy: 0.7628 - val_loss: 0.6592 - val_accuracy: 0.7194\n",
      "Epoch 174/200\n",
      "1495/1495 [==============================] - 5s 3ms/step - loss: 0.4990 - accuracy: 0.7604 - val_loss: 0.6449 - val_accuracy: 0.7183\n",
      "Epoch 175/200\n",
      "1495/1495 [==============================] - 4s 3ms/step - loss: 0.4989 - accuracy: 0.7590 - val_loss: 0.6611 - val_accuracy: 0.7160\n",
      "Epoch 176/200\n",
      "1495/1495 [==============================] - 5s 3ms/step - loss: 0.5007 - accuracy: 0.7584 - val_loss: 0.6591 - val_accuracy: 0.7230\n",
      "Epoch 177/200\n",
      "1495/1495 [==============================] - 5s 3ms/step - loss: 0.4963 - accuracy: 0.7629 - val_loss: 0.6479 - val_accuracy: 0.7207\n",
      "Epoch 178/200\n",
      "1495/1495 [==============================] - 5s 3ms/step - loss: 0.4959 - accuracy: 0.7627 - val_loss: 0.6378 - val_accuracy: 0.7202\n",
      "Epoch 179/200\n",
      "1495/1495 [==============================] - 4s 3ms/step - loss: 0.4985 - accuracy: 0.7577 - val_loss: 0.6784 - val_accuracy: 0.7171\n",
      "Epoch 180/200\n",
      "1495/1495 [==============================] - 5s 3ms/step - loss: 0.4978 - accuracy: 0.7609 - val_loss: 0.6375 - val_accuracy: 0.7200\n",
      "Epoch 181/200\n",
      "1495/1495 [==============================] - 5s 3ms/step - loss: 0.4922 - accuracy: 0.7629 - val_loss: 0.6389 - val_accuracy: 0.7183\n",
      "Epoch 182/200\n",
      "1495/1495 [==============================] - 5s 3ms/step - loss: 0.4982 - accuracy: 0.7620 - val_loss: 0.6633 - val_accuracy: 0.7218\n",
      "Epoch 183/200\n",
      "1495/1495 [==============================] - 5s 3ms/step - loss: 0.4956 - accuracy: 0.7636 - val_loss: 0.6693 - val_accuracy: 0.7179\n",
      "Epoch 184/200\n",
      "1495/1495 [==============================] - 5s 3ms/step - loss: 0.4967 - accuracy: 0.7604 - val_loss: 0.6654 - val_accuracy: 0.7191\n",
      "Epoch 185/200\n",
      "1495/1495 [==============================] - 4s 3ms/step - loss: 0.4965 - accuracy: 0.7620 - val_loss: 0.6566 - val_accuracy: 0.7184\n",
      "Epoch 186/200\n",
      "1495/1495 [==============================] - 5s 3ms/step - loss: 0.4936 - accuracy: 0.7610 - val_loss: 0.6514 - val_accuracy: 0.7212\n",
      "Epoch 187/200\n",
      "1495/1495 [==============================] - 5s 3ms/step - loss: 0.4946 - accuracy: 0.7622 - val_loss: 0.6711 - val_accuracy: 0.7197\n",
      "Epoch 188/200\n",
      "1495/1495 [==============================] - 5s 3ms/step - loss: 0.4942 - accuracy: 0.7618 - val_loss: 0.6926 - val_accuracy: 0.7166\n",
      "Epoch 189/200\n",
      "1495/1495 [==============================] - 5s 3ms/step - loss: 0.4972 - accuracy: 0.7606 - val_loss: 0.6722 - val_accuracy: 0.7203\n",
      "Epoch 190/200\n",
      "1495/1495 [==============================] - 5s 3ms/step - loss: 0.4922 - accuracy: 0.7635 - val_loss: 0.6655 - val_accuracy: 0.7185\n",
      "Epoch 191/200\n",
      "1495/1495 [==============================] - 4s 3ms/step - loss: 0.4927 - accuracy: 0.7646 - val_loss: 0.6648 - val_accuracy: 0.7194\n",
      "Epoch 192/200\n",
      "1495/1495 [==============================] - 5s 3ms/step - loss: 0.4977 - accuracy: 0.7607 - val_loss: 0.6586 - val_accuracy: 0.7211\n",
      "Epoch 193/200\n",
      "1495/1495 [==============================] - 5s 3ms/step - loss: 0.4931 - accuracy: 0.7627 - val_loss: 0.6693 - val_accuracy: 0.7182\n",
      "Epoch 194/200\n",
      "1495/1495 [==============================] - 5s 3ms/step - loss: 0.4941 - accuracy: 0.7624 - val_loss: 0.6789 - val_accuracy: 0.7214\n",
      "Epoch 195/200\n",
      "1495/1495 [==============================] - 5s 3ms/step - loss: 0.4949 - accuracy: 0.7617 - val_loss: 0.6725 - val_accuracy: 0.7174\n",
      "Epoch 196/200\n",
      "1495/1495 [==============================] - 5s 3ms/step - loss: 0.4963 - accuracy: 0.7630 - val_loss: 0.6719 - val_accuracy: 0.7180\n",
      "Epoch 197/200\n",
      "1495/1495 [==============================] - 5s 3ms/step - loss: 0.4928 - accuracy: 0.7617 - val_loss: 0.6769 - val_accuracy: 0.7194\n",
      "Epoch 198/200\n",
      "1495/1495 [==============================] - 4s 3ms/step - loss: 0.4961 - accuracy: 0.7613 - val_loss: 0.6885 - val_accuracy: 0.7197\n",
      "Epoch 199/200\n",
      "1495/1495 [==============================] - 5s 3ms/step - loss: 0.4915 - accuracy: 0.7637 - val_loss: 0.6668 - val_accuracy: 0.7202\n",
      "Epoch 200/200\n",
      "1495/1495 [==============================] - 5s 3ms/step - loss: 0.4900 - accuracy: 0.7659 - val_loss: 0.6759 - val_accuracy: 0.7173\n"
     ]
    }
   ],
   "source": [
    "from keras.models import Sequential\n",
    "from keras.layers import Dense\n",
    "\n",
    "model = Sequential([ Dense(128, activation='relu', input_shape=(11,)),    \n",
    "                    Dense(64, activation='relu'), \n",
    "                    Dense(32 , activation = 'relu'),\n",
    "                     Dense(16 , activation = 'relu'),\n",
    "                     Dense(8 , activation = 'relu'),\n",
    "                    Dense(4, activation='relu'),\n",
    "                   Dense(1 , activation = 'sigmoid')])\n",
    "model.compile(optimizer='adam',   loss='binary_crossentropy',   metrics=['accuracy'])\n",
    "hist = model.fit(x_train, y_train,          \n",
    "                 batch_size=32, epochs=200,          \n",
    "                 validation_data=(x_val, y_val))"
   ]
  },
  {
   "cell_type": "code",
   "execution_count": 110,
   "id": "ecological-marriage",
   "metadata": {},
   "outputs": [
    {
     "data": {
      "image/png": "[encoded data removed]",
      "text/plain": [
       "<Figure size 432x288 with 1 Axes>"
      ]
     },
     "metadata": {
      "needs_background": "light"
     },
     "output_type": "display_data"
    }
   ],
   "source": [
    "import matplotlib.pyplot as plt\n",
    "plt.plot(hist.history['loss'])\n",
    "plt.plot(hist.history['val_loss'])\n",
    "plt.title('Model loss')\n",
    "plt.ylabel('Loss')\n",
    "plt.xlabel('Epoch')\n",
    "plt.legend(['Train', 'Val'], loc='upper right')\n",
    "plt.show()"
   ]
  },
  {
   "cell_type": "code",
   "execution_count": 111,
   "id": "statistical-forward",
   "metadata": {},
   "outputs": [
    {
     "data": {
      "image/png": "[encoded data removed]",
      "text/plain": [
       "<Figure size 432x288 with 1 Axes>"
      ]
     },
     "metadata": {
      "needs_background": "light"
     },
     "output_type": "display_data"
    }
   ],
   "source": [
    "plt.plot(hist.history['accuracy'])\n",
    "plt.plot(hist.history['val_accuracy'])\n",
    "plt.title('Model accuracy')\n",
    "plt.ylabel('Accuracy')\n",
    "plt.xlabel('Epoch')\n",
    "plt.legend(['Train', 'Val'], loc='lower right')\n",
    "plt.show()"
   ]
  }
 ],
 "metadata": {
  "kernelspec": {
   "display_name": "Python 3",
   "language": "python",
   "name": "python3"
  },
  "language_info": {
   "codemirror_mode": {
    "name": "ipython",
    "version": 3
   },
   "file_extension": ".py",
   "mimetype": "text/x-python",
   "name": "python",
   "nbconvert_exporter": "python",
   "pygments_lexer": "ipython3",
   "version": "3.8.1"
  }
 },
 "nbformat": 4,
 "nbformat_minor": 5
}
